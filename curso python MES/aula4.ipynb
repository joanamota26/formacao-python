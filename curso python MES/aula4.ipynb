{
 "cells": [
  {
   "cell_type": "markdown",
   "id": "81b9a6df",
   "metadata": {},
   "source": [
    "## aula 4"
   ]
  },
  {
   "cell_type": "markdown",
   "id": "afdc1b15",
   "metadata": {},
   "source": [
    "## Dicionários\n",
    "\n",
    "#### {}: Utilizam-se para representar um dicionário"
   ]
  },
  {
   "cell_type": "code",
   "execution_count": 2,
   "id": "a2b1cdcf",
   "metadata": {},
   "outputs": [
    {
     "data": {
      "text/plain": [
       "dict"
      ]
     },
     "execution_count": 2,
     "metadata": {},
     "output_type": "execute_result"
    }
   ],
   "source": [
    "my_dict = {\n",
    "    \"name\": \"John\",\n",
    "    \"surname\": \"Doe\",\n",
    "    \"job\": \"lawyer\"\n",
    "}\n",
    "\n",
    "type(my_dict)"
   ]
  },
  {
   "cell_type": "code",
   "execution_count": 3,
   "id": "6b8f90e6",
   "metadata": {},
   "outputs": [
    {
     "data": {
      "text/plain": [
       "{'university': 'Minho', 'location': 'Braga', 'campus': 'Gualtar'}"
      ]
     },
     "execution_count": 3,
     "metadata": {},
     "output_type": "execute_result"
    }
   ],
   "source": [
    "no_duplicates_dict = {\n",
    "    \"university\": \"Minho\",\n",
    "    \"location\": \"Braga\",\n",
    "    \"campus\": \"Azurém\",\n",
    "    \"campus\": \"Gualtar\"\n",
    "}\n",
    "\n",
    "no_duplicates_dict #o valor duplicado irá sobrescrever o valor existente"
   ]
  },
  {
   "cell_type": "code",
   "execution_count": 4,
   "id": "954bbd48",
   "metadata": {},
   "outputs": [
    {
     "data": {
      "text/plain": [
       "{'brand': 'Toshiba', 'touch': True, 'colors': ['grey', 'black', 'white']}"
      ]
     },
     "execution_count": 4,
     "metadata": {},
     "output_type": "execute_result"
    }
   ],
   "source": [
    "computer = {\n",
    "    \"brand\": \"Toshiba\",\n",
    "    \"touch\": True,\n",
    "    \"colors\": [\"grey\", \"black\", \"white\"]\n",
    "}\n",
    "\n",
    "computer"
   ]
  },
  {
   "cell_type": "code",
   "execution_count": 6,
   "id": "579ea878",
   "metadata": {},
   "outputs": [
    {
     "data": {
      "text/plain": [
       "2010"
      ]
     },
     "execution_count": 6,
     "metadata": {},
     "output_type": "execute_result"
    }
   ],
   "source": [
    "song = {\n",
    "    \"name\": \"Grenade\",\n",
    "    \"artist\": \"Bruno Mars\",\n",
    "    \"year\": 2010\n",
    "}\n",
    "\n",
    "song[\"year\"]"
   ]
  },
  {
   "cell_type": "code",
   "execution_count": 7,
   "id": "f7732b62",
   "metadata": {},
   "outputs": [
    {
     "data": {
      "text/plain": [
       "2010"
      ]
     },
     "execution_count": 7,
     "metadata": {},
     "output_type": "execute_result"
    }
   ],
   "source": [
    "song = {\n",
    "    \"name\": \"Grenade\",\n",
    "    \"artist\": \"Bruno Mars\",\n",
    "    \"year\": 2010\n",
    "}\n",
    "\n",
    "song.get(\"year\")"
   ]
  },
  {
   "cell_type": "code",
   "execution_count": 8,
   "id": "18094dd8",
   "metadata": {},
   "outputs": [
    {
     "data": {
      "text/plain": [
       "dict_keys(['name', 'TV host', 'country of origin'])"
      ]
     },
     "execution_count": 8,
     "metadata": {},
     "output_type": "execute_result"
    }
   ],
   "source": [
    "show = {\n",
    "    \"name\": \"The Ellen DeGeneres Show\",\n",
    "    \"TV host\": \"Ellen DeGeneres\",\n",
    "    \"country of origin\": \"USA\"\n",
    "}\n",
    "\n",
    "show.keys()"
   ]
  },
  {
   "cell_type": "code",
   "execution_count": 10,
   "id": "ca0bbc5d",
   "metadata": {},
   "outputs": [
    {
     "data": {
      "text/plain": [
       "dict_items([('brand', 'Volkswagen'), ('color', 'grey'), ('year', 2016)])"
      ]
     },
     "execution_count": 10,
     "metadata": {},
     "output_type": "execute_result"
    }
   ],
   "source": [
    "car = {\n",
    "    \"brand\": \"Volkswagen\",\n",
    "    \"color\": \"grey\",\n",
    "    \"year\": 2016\n",
    "}\n",
    "\n",
    "car.items()"
   ]
  },
  {
   "cell_type": "markdown",
   "id": "e85e20fc",
   "metadata": {},
   "source": [
    "## exercicio\n"
   ]
  },
  {
   "cell_type": "code",
   "execution_count": 18,
   "id": "a14d94ae",
   "metadata": {},
   "outputs": [
    {
     "data": {
      "text/plain": [
       "{}"
      ]
     },
     "execution_count": 18,
     "metadata": {},
     "output_type": "execute_result"
    }
   ],
   "source": [
    "# Escreva uma função que filtra a altura e o peso de estudantes, \n",
    "# características estas que, por sua vez,\n",
    "# estão armazenadas num dicionário.\n",
    "\n",
    "def filtra_altura_peso(d,a,p):\n",
    "    result = {}\n",
    "    for key, value in d.items():\n",
    "        if value[0] >= a and value[1] >= p:\n",
    "            result[key] = value\n",
    "            \n",
    "    return result\n",
    "\n",
    "filtra_altura_peso({\"ana\":(175,60), \"paulo\":(180,75), \"carlos\":(167,63)}, 61, 170)"
   ]
  },
  {
   "cell_type": "markdown",
   "id": "dbf727dc",
   "metadata": {},
   "source": [
    "### Funções de ordem superior"
   ]
  },
  {
   "cell_type": "markdown",
   "id": "f5fab89c",
   "metadata": {},
   "source": [
    "##### map(): Utiliza-se para aplicar uma função a um ou mais iteráveis, sequencialmente"
   ]
  },
  {
   "cell_type": "code",
   "execution_count": 19,
   "id": "f987ade5",
   "metadata": {},
   "outputs": [
    {
     "data": {
      "text/plain": [
       "[5, 1, 2]"
      ]
     },
     "execution_count": 19,
     "metadata": {},
     "output_type": "execute_result"
    }
   ],
   "source": [
    "def difference(x, y):\n",
    "    return x - y\n",
    "\n",
    "list1 = [8,5,3]\n",
    "list2 = [3,4,1]\n",
    "\n",
    "list(map(difference, list1, list2))"
   ]
  },
  {
   "cell_type": "markdown",
   "id": "05de6400",
   "metadata": {},
   "source": [
    "#### filter(): Utiliza-se para filtrar os elementos de um iterável, com recurso a uma função"
   ]
  },
  {
   "cell_type": "code",
   "execution_count": 20,
   "id": "0dcae810",
   "metadata": {},
   "outputs": [
    {
     "data": {
      "text/plain": [
       "[2, 4]"
      ]
     },
     "execution_count": 20,
     "metadata": {},
     "output_type": "execute_result"
    }
   ],
   "source": [
    "list3 = [1,2,3,4,5]\n",
    "\n",
    "list(filter(lambda x: x%2==0, list3))"
   ]
  },
  {
   "cell_type": "markdown",
   "id": "2d4f1a86",
   "metadata": {},
   "source": [
    "### reduce(): Utiliza-se para aplicar uma função cumulativa a um iterável"
   ]
  },
  {
   "cell_type": "code",
   "execution_count": 25,
   "id": "974a5824",
   "metadata": {},
   "outputs": [
    {
     "data": {
      "text/plain": [
       "130"
      ]
     },
     "execution_count": 25,
     "metadata": {},
     "output_type": "execute_result"
    }
   ],
   "source": [
    "from functools import reduce\n",
    "\n",
    "def sum(x,y):\n",
    "    return x+y\n",
    "list4 = [6,3,45,74]\n",
    "\n",
    "reduce(sum, list4, 2) #o terceiro argumento é opcional"
   ]
  },
  {
   "cell_type": "markdown",
   "id": "9db568b8",
   "metadata": {},
   "source": [
    "### exercicio"
   ]
  },
  {
   "cell_type": "code",
   "execution_count": 37,
   "id": "b6b3218b",
   "metadata": {
    "tags": []
   },
   "outputs": [
    {
     "data": {
      "text/plain": [
       "['carla', 'rodrigo']"
      ]
     },
     "execution_count": 37,
     "metadata": {},
     "output_type": "execute_result"
    }
   ],
   "source": [
    "# Escreva uma função que recebe uma lista de palavras \n",
    "# e um inteiro e retorna a lista de palavras\n",
    "#que são maiores que esse inteiro, \n",
    "#com recurso a funções de ordem superior\n",
    "\n",
    "def maior_que_n(lista, n):\n",
    "    return list(filter(lambda x: len(x) > n,lista))\n",
    "\n",
    "lista =['ana', 'carla', 'rodrigo']\n",
    "maior_que_n(lista, 4)"
   ]
  },
  {
   "cell_type": "code",
   "execution_count": 52,
   "id": "b7dcb836",
   "metadata": {
    "tags": []
   },
   "outputs": [
    {
     "data": {
      "text/plain": [
       "[5, 7, 2, 13]"
      ]
     },
     "execution_count": 52,
     "metadata": {},
     "output_type": "execute_result"
    }
   ],
   "source": [
    "# Escreva uma função que recebe uma lista de números e \n",
    "# retorna a lista dos valores absolutos\n",
    "# desses números, com recurso a funções de ordem superior.\n",
    "\n",
    "\n",
    "def valores_abs(lista):\n",
    "    return list(map(abs, lista))\n",
    "    \n",
    "valores_abs([-5, -7, -2, -13])"
   ]
  },
  {
   "cell_type": "code",
   "execution_count": 54,
   "id": "9742eb58",
   "metadata": {},
   "outputs": [
    {
     "data": {
      "text/plain": [
       "-4"
      ]
     },
     "execution_count": 54,
     "metadata": {},
     "output_type": "execute_result"
    }
   ],
   "source": [
    "# Escreva uma função que recebe uma lista de números\n",
    "# e retorna o menor, com recurso a funções\n",
    "# de ordem superior.\n",
    "\n",
    "def menor(lista):\n",
    "    return reduce( lambda x,y: x if x < y else y ,lista)\n",
    "\n",
    "lista = [2, 6, -4, 1]\n",
    "menor(lista)"
   ]
  },
  {
   "cell_type": "code",
   "execution_count": 57,
   "id": "ef299f73",
   "metadata": {},
   "outputs": [
    {
     "data": {
      "text/plain": [
       "[2, 4]"
      ]
     },
     "execution_count": 57,
     "metadata": {},
     "output_type": "execute_result"
    }
   ],
   "source": [
    "#Escreva uma função que recebe uma lista de números e \n",
    "#retorna outra lista com apenas os\n",
    "#números positivos, com recurso a funções de ordem superior.\n",
    "\n",
    "def positivos(lista):\n",
    "    return list(filter(lambda x: x > 0, lista))\n",
    "    \n",
    "    \n",
    "\n",
    "lista = [-7, -20, 2, 4, -6]\n",
    "positivos(lista)"
   ]
  },
  {
   "cell_type": "code",
   "execution_count": 3,
   "id": "d81a45dc",
   "metadata": {},
   "outputs": [
    {
     "data": {
      "text/plain": [
       "[11, 16, 33]"
      ]
     },
     "execution_count": 3,
     "metadata": {},
     "output_type": "execute_result"
    }
   ],
   "source": [
    "# Escreva uma função que retorna a soma de três listas,\n",
    "#com recurso a funções de ordem superior.\n",
    "\n",
    "def soma_listas(lista1, lista2, lista3):\n",
    "    return list(map(lambda x, y, z: x + y + z, lista1, lista2, lista3))\n",
    "\n",
    "lista1 = [4, 6, 10]\n",
    "lista2 = [6, 8, 20]\n",
    "lista3 = [1, 2, 3]\n",
    "\n",
    "soma_listas(lista1, lista2, lista3)"
   ]
  },
  {
   "cell_type": "code",
   "execution_count": 15,
   "id": "be2eefa9",
   "metadata": {
    "collapsed": true,
    "jupyter": {
     "outputs_hidden": true
    },
    "tags": []
   },
   "outputs": [
    {
     "ename": "NameError",
     "evalue": "name 'reduce' is not defined",
     "output_type": "error",
     "traceback": [
      "\u001b[1;31m---------------------------------------------------------------------------\u001b[0m",
      "\u001b[1;31mNameError\u001b[0m                                 Traceback (most recent call last)",
      "\u001b[1;32m<ipython-input-15-2970cbe25ebb>\u001b[0m in \u001b[0;36m<module>\u001b[1;34m\u001b[0m\n\u001b[0;32m      5\u001b[0m     \u001b[1;32mreturn\u001b[0m \u001b[0mreduce\u001b[0m\u001b[1;33m(\u001b[0m\u001b[1;32mlambda\u001b[0m \u001b[0mx\u001b[0m\u001b[1;33m,\u001b[0m \u001b[0my\u001b[0m\u001b[1;33m:\u001b[0m \u001b[0mx\u001b[0m \u001b[1;33m+\u001b[0m \u001b[1;36m1\u001b[0m\u001b[1;33m%\u001b[0m\u001b[0my\u001b[0m \u001b[1;33m,\u001b[0m \u001b[0mrange\u001b[0m\u001b[1;33m(\u001b[0m\u001b[1;36m1\u001b[0m\u001b[1;33m,\u001b[0m\u001b[0mn\u001b[0m\u001b[1;33m)\u001b[0m\u001b[1;33m)\u001b[0m\u001b[1;33m\u001b[0m\u001b[1;33m\u001b[0m\u001b[0m\n\u001b[0;32m      6\u001b[0m \u001b[1;33m\u001b[0m\u001b[0m\n\u001b[1;32m----> 7\u001b[1;33m \u001b[0mserie_harmonica\u001b[0m\u001b[1;33m(\u001b[0m\u001b[1;36m4\u001b[0m\u001b[1;33m)\u001b[0m\u001b[1;33m\u001b[0m\u001b[1;33m\u001b[0m\u001b[0m\n\u001b[0m",
      "\u001b[1;32m<ipython-input-15-2970cbe25ebb>\u001b[0m in \u001b[0;36mserie_harmonica\u001b[1;34m(n)\u001b[0m\n\u001b[0;32m      3\u001b[0m \u001b[1;33m\u001b[0m\u001b[0m\n\u001b[0;32m      4\u001b[0m \u001b[1;32mdef\u001b[0m \u001b[0mserie_harmonica\u001b[0m\u001b[1;33m(\u001b[0m\u001b[0mn\u001b[0m\u001b[1;33m)\u001b[0m\u001b[1;33m:\u001b[0m\u001b[1;33m\u001b[0m\u001b[1;33m\u001b[0m\u001b[0m\n\u001b[1;32m----> 5\u001b[1;33m     \u001b[1;32mreturn\u001b[0m \u001b[0mreduce\u001b[0m\u001b[1;33m(\u001b[0m\u001b[1;32mlambda\u001b[0m \u001b[0mx\u001b[0m\u001b[1;33m,\u001b[0m \u001b[0my\u001b[0m\u001b[1;33m:\u001b[0m \u001b[0mx\u001b[0m \u001b[1;33m+\u001b[0m \u001b[1;36m1\u001b[0m\u001b[1;33m%\u001b[0m\u001b[0my\u001b[0m \u001b[1;33m,\u001b[0m \u001b[0mrange\u001b[0m\u001b[1;33m(\u001b[0m\u001b[1;36m1\u001b[0m\u001b[1;33m,\u001b[0m\u001b[0mn\u001b[0m\u001b[1;33m)\u001b[0m\u001b[1;33m)\u001b[0m\u001b[1;33m\u001b[0m\u001b[1;33m\u001b[0m\u001b[0m\n\u001b[0m\u001b[0;32m      6\u001b[0m \u001b[1;33m\u001b[0m\u001b[0m\n\u001b[0;32m      7\u001b[0m \u001b[0mserie_harmonica\u001b[0m\u001b[1;33m(\u001b[0m\u001b[1;36m4\u001b[0m\u001b[1;33m)\u001b[0m\u001b[1;33m\u001b[0m\u001b[1;33m\u001b[0m\u001b[0m\n",
      "\u001b[1;31mNameError\u001b[0m: name 'reduce' is not defined"
     ]
    }
   ],
   "source": [
    "# Escreva uma função que retorna a série harmónica de 1 até n-1,\n",
    "# com recurso a funções de ordem superior.\n",
    "\n",
    "def serie_harmonica(n):\n",
    "    return reduce(lambda x, y: x + 1%y , range(1,n))\n",
    "\n",
    "serie_harmonica(4)"
   ]
  },
  {
   "cell_type": "code",
   "execution_count": 16,
   "id": "955bdca2",
   "metadata": {},
   "outputs": [],
   "source": [
    "import os"
   ]
  },
  {
   "cell_type": "code",
   "execution_count": 18,
   "id": "d9bf75bc",
   "metadata": {},
   "outputs": [
    {
     "data": {
      "text/plain": [
       "'C:\\\\Users\\\\joana\\\\Desktop\\\\python\\\\curso python MES'"
      ]
     },
     "execution_count": 18,
     "metadata": {},
     "output_type": "execute_result"
    }
   ],
   "source": [
    "os.getcwd()"
   ]
  },
  {
   "cell_type": "code",
   "execution_count": 19,
   "id": "d16091f3",
   "metadata": {},
   "outputs": [
    {
     "data": {
      "text/plain": [
       "['.ipynb_checkpoints',\n",
       " 'aula1.ipynb',\n",
       " 'aula2.ipynb',\n",
       " 'aula3.ipynb',\n",
       " 'aula4.ipynb']"
      ]
     },
     "execution_count": 19,
     "metadata": {},
     "output_type": "execute_result"
    }
   ],
   "source": [
    "os.listdir()"
   ]
  },
  {
   "cell_type": "markdown",
   "id": "05907465",
   "metadata": {},
   "source": [
    "# unix Modulo os\n",
    "mv -> os.rename() : dar um novo nome a um ficheiro/diretoria.\n",
    "\n",
    "cd -> os.chdir() : mudar de diretoria\n",
    "\n",
    "rm-r-> os.rmdir(): remover diretoria\n",
    "\n",
    "rm -> os.remove(): remover ficheiro\n",
    "\n",
    "pwd -> os.gotcwd(): obter a diretoria atual\n",
    "\n",
    "ls -> os.listdir(): listar todos os documentos da diretoria atual\n",
    "\n",
    "mxdir -> os.mxdir(): criar sua diretoria"
   ]
  },
  {
   "cell_type": "code",
   "execution_count": 30,
   "id": "dfe66b8b",
   "metadata": {},
   "outputs": [
    {
     "name": "stdin",
     "output_type": "stream",
     "text": [
      "qual a operacao que pretende realizar(soma, subtracao, multiplicacao ou divisao)? soma\n",
      "coloque o primeiro numero 2\n",
      "coloque o segundo numero 3\n"
     ]
    },
    {
     "data": {
      "text/plain": [
       "5.0"
      ]
     },
     "execution_count": 30,
     "metadata": {},
     "output_type": "execute_result"
    }
   ],
   "source": [
    "# Escreva uma função que seja capaz de simular uma calculadora\n",
    "#(para simplificar, apenas suporte as operações de soma,\n",
    "#subtração, divisão e multiplicação entre dois números).\n",
    "\n",
    "\n",
    "def calculadora():\n",
    "    op = input(\"qual a operacao que pretende realizar(soma, subtracao, multiplicacao ou divisao)?\")\n",
    "    num1 = input (\"coloque o primeiro numero\")\n",
    "    num2 = input(\"coloque o segundo numero\")\n",
    "    if op == 'soma':\n",
    "        return float(num1) + float(num2)\n",
    "    elif op == 'subtracao':\n",
    "        return float(num1) - float(num2)\n",
    "    elif op == 'multiplicacao':\n",
    "        return float(num1) * float(num2)\n",
    "    else:\n",
    "        return float(num1)/float(num2)\n",
    "    \n",
    "calculadora()     \n",
    "        "
   ]
  },
  {
   "cell_type": "code",
   "execution_count": 38,
   "id": "e096c377",
   "metadata": {
    "collapsed": true,
    "jupyter": {
     "outputs_hidden": true
    },
    "tags": []
   },
   "outputs": [
    {
     "ename": "TypeError",
     "evalue": "pass_line_5() missing 1 required positional argument: 'file_path'",
     "output_type": "error",
     "traceback": [
      "\u001b[1;31m---------------------------------------------------------------------------\u001b[0m",
      "\u001b[1;31mTypeError\u001b[0m                                 Traceback (most recent call last)",
      "\u001b[1;32m<ipython-input-38-8b209a34c01a>\u001b[0m in \u001b[0;36m<module>\u001b[1;34m\u001b[0m\n\u001b[0;32m     12\u001b[0m                     \u001b[0mf\u001b[0m\u001b[1;33m.\u001b[0m\u001b[0mwrite\u001b[0m\u001b[1;33m(\u001b[0m\u001b[0mvalue\u001b[0m\u001b[1;33m)\u001b[0m\u001b[1;33m\u001b[0m\u001b[1;33m\u001b[0m\u001b[0m\n\u001b[0;32m     13\u001b[0m \u001b[1;33m\u001b[0m\u001b[0m\n\u001b[1;32m---> 14\u001b[1;33m \u001b[0mpass_line_5\u001b[0m\u001b[1;33m(\u001b[0m\u001b[1;33m)\u001b[0m\u001b[1;33m\u001b[0m\u001b[1;33m\u001b[0m\u001b[0m\n\u001b[0m",
      "\u001b[1;31mTypeError\u001b[0m: pass_line_5() missing 1 required positional argument: 'file_path'"
     ]
    }
   ],
   "source": [
    "#Escreva uma função que seja capaz de escrever todo o conteúdo de um ficheiro num novo\n",
    "#ficheiro, passando à frente a linha número 5.\n",
    "\n",
    "def pass_line_5(file_path):\n",
    "    if os.path.exists(file_path):\n",
    "        with open(file_path, 'r') as f:\n",
    "            result = f.readline()\n",
    "        with open('new_file.txt', 'a') as f:\n",
    "            for idx, value in enumerate(result):\n",
    "                if idx == 4:\n",
    "                    continue\n",
    "                    f.write(value)\n",
    "                \n",
    "pass_line_5()"
   ]
  },
  {
   "cell_type": "code",
   "execution_count": 44,
   "id": "63a0515e",
   "metadata": {},
   "outputs": [
    {
     "name": "stdin",
     "output_type": "stream",
     "text": [
      "escrever o nome do ficheiro file.txt\n"
     ]
    }
   ],
   "source": [
    "#Escreva uma função que recebe o caminho de um ficheiro como input e \n",
    "# retorna o número de palavras presentes nesse ficheiro.\n",
    "\n",
    "def conta_palavras():\n",
    "    file = input('escrever o nome do ficheiro')\n",
    "    if os.path.exists(file):\n",
    "        with open(file, 'r') as f:\n",
    "            temp = f.read()\n",
    "            result = len(temp.split())\n",
    "        return result\n",
    "    \n",
    "conta_palavras()"
   ]
  },
  {
   "cell_type": "code",
   "execution_count": 45,
   "id": "4e4d1fdf",
   "metadata": {},
   "outputs": [],
   "source": [
    "# Escreva uma função que aceita uma palavra e o caminho de um ficheiro \n",
    "#como input e retorna\n",
    "#a frequência dessa palavra nesse ficheiro.\n",
    "\n",
    "def conta_palavra_ficheiro():\n",
    "    result = 0\n",
    "    file = input('insira o nome do ficheiro')\n",
    "    palavra = input(\"insira a palavra\")\n",
    "    if os.path.exists(file):\n",
    "        with open(file, 'r') as f:\n",
    "            temp = f.read()\n",
    "            result = temp.count(palavra)\n",
    "        return result"
   ]
  }
 ],
 "metadata": {
  "kernelspec": {
   "display_name": "Python 3",
   "language": "python",
   "name": "python3"
  },
  "language_info": {
   "codemirror_mode": {
    "name": "ipython",
    "version": 3
   },
   "file_extension": ".py",
   "mimetype": "text/x-python",
   "name": "python",
   "nbconvert_exporter": "python",
   "pygments_lexer": "ipython3",
   "version": "3.8.8"
  }
 },
 "nbformat": 4,
 "nbformat_minor": 5
}
