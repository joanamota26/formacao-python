{
 "cells": [
  {
   "cell_type": "markdown",
   "id": "726e5660",
   "metadata": {},
   "source": [
    "## Aula 2"
   ]
  },
  {
   "cell_type": "markdown",
   "id": "02626436",
   "metadata": {},
   "source": [
    "## Operações lógicas"
   ]
  },
  {
   "cell_type": "markdown",
   "id": "68fba45c",
   "metadata": {},
   "source": [
    "### AND \n",
    "\n",
    "###### Devolve True se ambas as expressões forem verdadeiras"
   ]
  },
  {
   "cell_type": "code",
   "execution_count": 2,
   "id": "61596596",
   "metadata": {},
   "outputs": [
    {
     "data": {
      "text/plain": [
       "True"
      ]
     },
     "execution_count": 2,
     "metadata": {},
     "output_type": "execute_result"
    }
   ],
   "source": [
    "x = 3\n",
    "x < 10 and x < 5"
   ]
  },
  {
   "cell_type": "code",
   "execution_count": 3,
   "id": "1651ff56",
   "metadata": {},
   "outputs": [
    {
     "data": {
      "text/plain": [
       "False"
      ]
     },
     "execution_count": 3,
     "metadata": {},
     "output_type": "execute_result"
    }
   ],
   "source": [
    "x = 20\n",
    "x < 10 and x < 5"
   ]
  },
  {
   "cell_type": "markdown",
   "id": "0f15b70d",
   "metadata": {},
   "source": [
    "## OR\n",
    "\n",
    "##### Devolve True se alguma das expressões for verdadeira"
   ]
  },
  {
   "cell_type": "code",
   "execution_count": 4,
   "id": "49e9dd7d",
   "metadata": {},
   "outputs": [
    {
     "data": {
      "text/plain": [
       "False"
      ]
     },
     "execution_count": 4,
     "metadata": {},
     "output_type": "execute_result"
    }
   ],
   "source": [
    "x = 5\n",
    "x == 8 or x == 4"
   ]
  },
  {
   "cell_type": "code",
   "execution_count": 5,
   "id": "045e45ef",
   "metadata": {},
   "outputs": [
    {
     "data": {
      "text/plain": [
       "True"
      ]
     },
     "execution_count": 5,
     "metadata": {},
     "output_type": "execute_result"
    }
   ],
   "source": [
    "x = 5\n",
    "x == 5 or x == 4"
   ]
  },
  {
   "cell_type": "markdown",
   "id": "1b02c8a2",
   "metadata": {},
   "source": [
    "## not\n",
    "\n",
    "##### Reverte o resultado"
   ]
  },
  {
   "cell_type": "code",
   "execution_count": 7,
   "id": "0b04c6e5",
   "metadata": {},
   "outputs": [
    {
     "data": {
      "text/plain": [
       "False"
      ]
     },
     "execution_count": 7,
     "metadata": {},
     "output_type": "execute_result"
    }
   ],
   "source": [
    "# nao pode ser maior que 5 e 10, se for dá false\n",
    "\n",
    "x = 12\n",
    "not(x > 5 and x > 10)"
   ]
  },
  {
   "cell_type": "markdown",
   "id": "b7ef5497",
   "metadata": {},
   "source": [
    "## Operações de pertença"
   ]
  },
  {
   "cell_type": "markdown",
   "id": "5b39d9db",
   "metadata": {},
   "source": [
    "##### in: Retorna True se a sequência com o valor especificado está presente no objeto"
   ]
  },
  {
   "cell_type": "code",
   "execution_count": 11,
   "id": "9b92625d",
   "metadata": {},
   "outputs": [
    {
     "data": {
      "text/plain": [
       "True"
      ]
     },
     "execution_count": 11,
     "metadata": {},
     "output_type": "execute_result"
    }
   ],
   "source": [
    "x = \"ab\"\n",
    "y = \"abcd\"\n",
    "x in y"
   ]
  },
  {
   "cell_type": "code",
   "execution_count": 13,
   "id": "2c8ad29b",
   "metadata": {},
   "outputs": [
    {
     "data": {
      "text/plain": [
       "False"
      ]
     },
     "execution_count": 13,
     "metadata": {},
     "output_type": "execute_result"
    }
   ],
   "source": [
    "x = \"fg\"\n",
    "y = \"abcd\"\n",
    "x in y"
   ]
  },
  {
   "cell_type": "markdown",
   "id": "ca55d016",
   "metadata": {},
   "source": [
    "##### not in: Retorna True se a sequência com o valor especificado não está presente no objeto"
   ]
  },
  {
   "cell_type": "code",
   "execution_count": 8,
   "id": "bbd0da74",
   "metadata": {},
   "outputs": [
    {
     "data": {
      "text/plain": [
       "True"
      ]
     },
     "execution_count": 8,
     "metadata": {},
     "output_type": "execute_result"
    }
   ],
   "source": [
    "x = \"ab\"\n",
    "y = \"cd\"\n",
    "x not in y"
   ]
  },
  {
   "cell_type": "code",
   "execution_count": 10,
   "id": "fc2b4c5d",
   "metadata": {},
   "outputs": [
    {
     "data": {
      "text/plain": [
       "False"
      ]
     },
     "execution_count": 10,
     "metadata": {},
     "output_type": "execute_result"
    }
   ],
   "source": [
    "x = \"cd\"\n",
    "y = \"cd\"\n",
    "x not in y"
   ]
  },
  {
   "cell_type": "markdown",
   "id": "d0caf8c1",
   "metadata": {},
   "source": [
    "## If... else\n",
    "\n",
    "##### if: Permite executar um conjunto de instruções caso a condição em questão se verifique"
   ]
  },
  {
   "cell_type": "code",
   "execution_count": 16,
   "id": "90516101",
   "metadata": {},
   "outputs": [
    {
     "name": "stdout",
     "output_type": "stream",
     "text": [
      "y é maior do que x\n"
     ]
    }
   ],
   "source": [
    "x = 2\n",
    "y = 4\n",
    "if y > x:\n",
    "    print(\"y é maior do que x\")"
   ]
  },
  {
   "cell_type": "code",
   "execution_count": 20,
   "id": "f074fd20",
   "metadata": {},
   "outputs": [],
   "source": [
    "x = 7\n",
    "y = 4\n",
    "if y > x:\n",
    "    print(\"y é maior do que x\")"
   ]
  },
  {
   "cell_type": "markdown",
   "id": "a19c1eae",
   "metadata": {},
   "source": [
    "## elif\n",
    "\n",
    "##### Permite executar um conjunto de instruções caso a condição em questão se verifique e todas as anteriores não"
   ]
  },
  {
   "cell_type": "code",
   "execution_count": 23,
   "id": "4404b6e2",
   "metadata": {},
   "outputs": [
    {
     "name": "stdout",
     "output_type": "stream",
     "text": [
      "y é menor do que x\n"
     ]
    }
   ],
   "source": [
    "x = 4\n",
    "y = 2\n",
    "if y > x:\n",
    "    print(\"y é maior do que x\")\n",
    "elif y < x:\n",
    "    print(\"y é menor do que x\")"
   ]
  },
  {
   "cell_type": "markdown",
   "id": "636409d5",
   "metadata": {},
   "source": [
    "## else\n",
    "\n",
    "##### else: Permite capturar tudo o que não tenha sido capturado pelas condições anteriores"
   ]
  },
  {
   "cell_type": "code",
   "execution_count": 3,
   "id": "fc7ff339",
   "metadata": {},
   "outputs": [
    {
     "name": "stdout",
     "output_type": "stream",
     "text": [
      "y é igual a x\n"
     ]
    }
   ],
   "source": [
    "# elif é primeiro que else\n",
    "\n",
    "x = 5\n",
    "y = 5\n",
    "if y > x:\n",
    "    print(\"y é maior do que x\")\n",
    "elif y < x:\n",
    "    print(\"y é menor do que x\")\n",
    "else:\n",
    "    print(\"y é igual a x\")"
   ]
  },
  {
   "cell_type": "markdown",
   "id": "08f17fbd",
   "metadata": {},
   "source": [
    "## ciclos while\n",
    "\n",
    "##### while: permite executar um conjunto de instruções enquanto a condição for verdadeira"
   ]
  },
  {
   "cell_type": "code",
   "execution_count": 4,
   "id": "512359da",
   "metadata": {},
   "outputs": [
    {
     "data": {
      "text/plain": [
       "6"
      ]
     },
     "execution_count": 4,
     "metadata": {},
     "output_type": "execute_result"
    }
   ],
   "source": [
    "i = 0\n",
    "while i < 6:\n",
    "    i += 1\n",
    "\n",
    "i"
   ]
  },
  {
   "cell_type": "code",
   "execution_count": 17,
   "id": "d9fa6efc",
   "metadata": {},
   "outputs": [
    {
     "name": "stdout",
     "output_type": "stream",
     "text": [
      "1\n",
      "2\n"
     ]
    }
   ],
   "source": [
    "i = 0\n",
    "while i < 5:\n",
    "    i += 1\n",
    "    if i == 3:\n",
    "        break\n",
    "    print(i)"
   ]
  },
  {
   "cell_type": "code",
   "execution_count": 18,
   "id": "59519fef",
   "metadata": {},
   "outputs": [
    {
     "name": "stdout",
     "output_type": "stream",
     "text": [
      "1\n",
      "2\n",
      "4\n",
      "5\n"
     ]
    }
   ],
   "source": [
    "i = 0\n",
    "while i < 5:\n",
    "    i += 1\n",
    "    if i == 3:\n",
    "        continue\n",
    "    print(i)"
   ]
  },
  {
   "cell_type": "markdown",
   "id": "5e436f70",
   "metadata": {},
   "source": [
    "## ciclo for"
   ]
  },
  {
   "cell_type": "code",
   "execution_count": 19,
   "id": "8b7882dc",
   "metadata": {},
   "outputs": [
    {
     "name": "stdout",
     "output_type": "stream",
     "text": [
      "b\n",
      "a\n",
      "n\n",
      "a\n",
      "n\n",
      "a\n"
     ]
    }
   ],
   "source": [
    "for x in \"banana\":\n",
    "    print(x)"
   ]
  },
  {
   "cell_type": "markdown",
   "id": "e3d9b927",
   "metadata": {},
   "source": [
    "## scripts "
   ]
  },
  {
   "cell_type": "markdown",
   "id": "14bbcc57",
   "metadata": {},
   "source": [
    "## Funções\n",
    "\n",
    "#### def: Utiliza-se para definir uma função"
   ]
  },
  {
   "cell_type": "code",
   "execution_count": 20,
   "id": "f24f7f77",
   "metadata": {},
   "outputs": [
    {
     "name": "stdout",
     "output_type": "stream",
     "text": [
      "Hello world!\n"
     ]
    }
   ],
   "source": [
    "def my_function(): #sem argumento\n",
    "    print(\"Hello world!\")\n",
    "\n",
    "my_function()"
   ]
  },
  {
   "cell_type": "code",
   "execution_count": 24,
   "id": "434c2824",
   "metadata": {},
   "outputs": [
    {
     "name": "stdout",
     "output_type": "stream",
     "text": [
      "Number 8 is even.\n"
     ]
    }
   ],
   "source": [
    "def check_parity(i): #com argumento\n",
    "    if i%2==0:\n",
    "        print(f\"Number {i} is even.\")\n",
    "    else:\n",
    "        print(f\"Number {i} is odd.\")\n",
    "        \n",
    "check_parity(8)"
   ]
  },
  {
   "cell_type": "code",
   "execution_count": 28,
   "id": "eea17daf",
   "metadata": {},
   "outputs": [
    {
     "name": "stdout",
     "output_type": "stream",
     "text": [
      "Number 5 is odd.\n"
     ]
    }
   ],
   "source": [
    "def check_parity(i): #com argumento\n",
    "    if i%2==0:\n",
    "        print(f\"Number {i} is even.\")\n",
    "    else:\n",
    "        print(f\"Number {i} is odd.\")\n",
    "        \n",
    "check_parity(5)"
   ]
  },
  {
   "cell_type": "code",
   "execution_count": 25,
   "id": "700f6bd2",
   "metadata": {},
   "outputs": [
    {
     "name": "stdout",
     "output_type": "stream",
     "text": [
      "My favourite color is pink.\n"
     ]
    }
   ],
   "source": [
    "def favourite_color(color = \"pink\"): #argumento por omissão\n",
    "    print(f\"My favourite color is {color}.\")\n",
    "    \n",
    "favourite_color()"
   ]
  },
  {
   "cell_type": "code",
   "execution_count": 29,
   "id": "eac85286",
   "metadata": {},
   "outputs": [
    {
     "name": "stdout",
     "output_type": "stream",
     "text": [
      "My favourite color is blue.\n"
     ]
    }
   ],
   "source": [
    "def favourite_color(color = \"blue\"): #argumento por omissão\n",
    "    print(f\"My favourite color is {color}.\")\n",
    "    \n",
    "favourite_color()"
   ]
  },
  {
   "cell_type": "code",
   "execution_count": 26,
   "id": "b045a528",
   "metadata": {},
   "outputs": [
    {
     "name": "stdout",
     "output_type": "stream",
     "text": [
      "The children names are:\n",
      "- Maria\n",
      "- John\n",
      "- Frank\n"
     ]
    }
   ],
   "source": [
    "def children_names(*args): #número indefinido de argumentos - tanto pode ser 0 ,1, 3..\n",
    "    if len(args) == 0:\n",
    "        print(\"There are no children!\")\n",
    "    else:\n",
    "        print(\"The children names are:\")\n",
    "        for name in args:\n",
    "            print(f\"- {name}\")\n",
    "\n",
    "children_names(\"Maria\", \"John\", \"Frank\")"
   ]
  },
  {
   "cell_type": "code",
   "execution_count": 27,
   "id": "3e03d24f",
   "metadata": {},
   "outputs": [
    {
     "name": "stdout",
     "output_type": "stream",
     "text": [
      "name: Peter\n",
      "age: 30\n"
     ]
    }
   ],
   "source": [
    "def get_age(**kwargs): #número indefinido de argumentos com nome\n",
    "    for key, value in kwargs.items():\n",
    "        print(f\"{key}: {value}\")\n",
    "        \n",
    "get_age(name = \"Peter\", age = 30)"
   ]
  },
  {
   "cell_type": "markdown",
   "id": "d5d7d564",
   "metadata": {},
   "source": [
    "#### return - Uiliza-se para a função devolver um resultado"
   ]
  },
  {
   "cell_type": "code",
   "execution_count": 1,
   "id": "a37272a6",
   "metadata": {},
   "outputs": [
    {
     "data": {
      "text/plain": [
       "6"
      ]
     },
     "execution_count": 1,
     "metadata": {},
     "output_type": "execute_result"
    }
   ],
   "source": [
    "def double(i):\n",
    "    return i*2\n",
    "\n",
    "double(3)"
   ]
  },
  {
   "cell_type": "code",
   "execution_count": 31,
   "id": "36e13284",
   "metadata": {},
   "outputs": [
    {
     "data": {
      "text/plain": [
       "120"
      ]
     },
     "execution_count": 31,
     "metadata": {},
     "output_type": "execute_result"
    }
   ],
   "source": [
    "def factorial(i): #função recursiva\n",
    "    if i == 0:\n",
    "        return 1\n",
    "    else:\n",
    "        return i * factorial(i-1)\n",
    "\n",
    "factorial(5)"
   ]
  },
  {
   "cell_type": "markdown",
   "id": "3d9a6013",
   "metadata": {},
   "source": [
    "##### lambda: função anónima que pode receber qualquer número de argumentos, mas só pode ter uma expressão"
   ]
  },
  {
   "cell_type": "code",
   "execution_count": 32,
   "id": "be11ab03",
   "metadata": {},
   "outputs": [
    {
     "data": {
      "text/plain": [
       "15"
      ]
     },
     "execution_count": 32,
     "metadata": {},
     "output_type": "execute_result"
    }
   ],
   "source": [
    "x = lambda a: a+10\n",
    "\n",
    "x(5)"
   ]
  },
  {
   "cell_type": "code",
   "execution_count": 33,
   "id": "c453804f",
   "metadata": {},
   "outputs": [
    {
     "data": {
      "text/plain": [
       "5"
      ]
     },
     "execution_count": 33,
     "metadata": {},
     "output_type": "execute_result"
    }
   ],
   "source": [
    "len(\"abcde\")"
   ]
  },
  {
   "cell_type": "code",
   "execution_count": 34,
   "id": "2a93d6c1",
   "metadata": {},
   "outputs": [
    {
     "name": "stdout",
     "output_type": "stream",
     "text": [
      "0\n",
      "1\n",
      "2\n",
      "3\n",
      "4\n",
      "5\n",
      "6\n",
      "7\n",
      "8\n",
      "9\n"
     ]
    }
   ],
   "source": [
    "for i in range(10):\n",
    "    print(i)"
   ]
  },
  {
   "cell_type": "markdown",
   "id": "363a6844",
   "metadata": {},
   "source": [
    "## exercicios"
   ]
  },
  {
   "cell_type": "code",
   "execution_count": 2,
   "id": "9a4a8366",
   "metadata": {},
   "outputs": [
    {
     "data": {
      "text/plain": [
       "True"
      ]
     },
     "execution_count": 2,
     "metadata": {},
     "output_type": "execute_result"
    }
   ],
   "source": [
    "# 1) verificar se o 'a' está na string\n",
    "def contains_a(x):\n",
    "    if \"a\" in x:\n",
    "        return True\n",
    "    else:\n",
    "        return False\n",
    "    \n",
    "contains_a(\"joana\")"
   ]
  },
  {
   "cell_type": "code",
   "execution_count": 4,
   "id": "5705b078",
   "metadata": {},
   "outputs": [
    {
     "data": {
      "text/plain": [
       "True"
      ]
     },
     "execution_count": 4,
     "metadata": {},
     "output_type": "execute_result"
    }
   ],
   "source": [
    "x = 5\n",
    "y = 8\n",
    "\n",
    "x < y"
   ]
  },
  {
   "cell_type": "code",
   "execution_count": 5,
   "id": "36e91df6",
   "metadata": {},
   "outputs": [
    {
     "data": {
      "text/plain": [
       "4"
      ]
     },
     "execution_count": 5,
     "metadata": {},
     "output_type": "execute_result"
    }
   ],
   "source": [
    "# 2)\n",
    "\n",
    "def max(a,b):\n",
    "    if a > b:\n",
    "        return a\n",
    "    else:\n",
    "        return b\n",
    "\n",
    "max(4,2)"
   ]
  },
  {
   "cell_type": "code",
   "execution_count": 12,
   "id": "e69c777a",
   "metadata": {},
   "outputs": [],
   "source": [
    "import math"
   ]
  },
  {
   "cell_type": "code",
   "execution_count": 13,
   "id": "533d963d",
   "metadata": {},
   "outputs": [
    {
     "data": {
      "text/plain": [
       "3.141592653589793"
      ]
     },
     "execution_count": 13,
     "metadata": {},
     "output_type": "execute_result"
    }
   ],
   "source": [
    "math.pi"
   ]
  },
  {
   "cell_type": "code",
   "execution_count": 25,
   "id": "ee88ccfe",
   "metadata": {},
   "outputs": [
    {
     "data": {
      "text/plain": [
       "25.132741228718345"
      ]
     },
     "execution_count": 25,
     "metadata": {},
     "output_type": "execute_result"
    }
   ],
   "source": [
    "# 3)\n",
    "\n",
    "def perimetro (x):\n",
    "    perimetro = 2* math.pi * x\n",
    "    return (perimetro)\n",
    "\n",
    "perimetro(4)"
   ]
  },
  {
   "cell_type": "code",
   "execution_count": 47,
   "id": "5a21a1f8",
   "metadata": {},
   "outputs": [
    {
     "name": "stdout",
     "output_type": "stream",
     "text": [
      "#####\n",
      "#####\n",
      "#####\n",
      "#####\n",
      "#####\n"
     ]
    }
   ],
   "source": [
    "# 4)\n",
    "def quadrado():\n",
    "    for i in range(5):\n",
    "        print(\"#####\")\n",
    "        \n",
    "quadrado()"
   ]
  },
  {
   "cell_type": "code",
   "execution_count": 58,
   "id": "7a1b987d",
   "metadata": {},
   "outputs": [
    {
     "data": {
      "text/plain": [
       "4000"
      ]
     },
     "execution_count": 58,
     "metadata": {},
     "output_type": "execute_result"
    }
   ],
   "source": [
    "# 5)\n",
    "def produto(a,b):\n",
    "    if a * b >= 1000:\n",
    "        return a * b\n",
    "    else:\n",
    "        return a + b\n",
    "\n",
    "produto(20, 200)\n"
   ]
  },
  {
   "cell_type": "code",
   "execution_count": 1,
   "id": "e76ba4d1",
   "metadata": {},
   "outputs": [],
   "source": [
    "import math"
   ]
  },
  {
   "cell_type": "code",
   "execution_count": 8,
   "id": "1e8a177a",
   "metadata": {
    "collapsed": true,
    "jupyter": {
     "outputs_hidden": true
    },
    "tags": []
   },
   "outputs": [
    {
     "ename": "ValueError",
     "evalue": "math domain error",
     "output_type": "error",
     "traceback": [
      "\u001b[1;31m---------------------------------------------------------------------------\u001b[0m",
      "\u001b[1;31mValueError\u001b[0m                                Traceback (most recent call last)",
      "\u001b[1;32m<ipython-input-8-1c6af5a7973d>\u001b[0m in \u001b[0;36m<module>\u001b[1;34m\u001b[0m\n\u001b[0;32m      5\u001b[0m     \u001b[1;32mreturn\u001b[0m \u001b[1;33m(\u001b[0m\u001b[0mmais\u001b[0m\u001b[1;33m,\u001b[0m \u001b[0mmenos\u001b[0m\u001b[1;33m)\u001b[0m\u001b[1;33m\u001b[0m\u001b[1;33m\u001b[0m\u001b[0m\n\u001b[0;32m      6\u001b[0m \u001b[1;33m\u001b[0m\u001b[0m\n\u001b[1;32m----> 7\u001b[1;33m \u001b[0mformula\u001b[0m\u001b[1;33m(\u001b[0m\u001b[1;36m4\u001b[0m\u001b[1;33m,\u001b[0m \u001b[1;36m2\u001b[0m\u001b[1;33m,\u001b[0m \u001b[1;36m1\u001b[0m\u001b[1;33m)\u001b[0m\u001b[1;33m\u001b[0m\u001b[1;33m\u001b[0m\u001b[0m\n\u001b[0m",
      "\u001b[1;32m<ipython-input-8-1c6af5a7973d>\u001b[0m in \u001b[0;36mformula\u001b[1;34m(a, b, c)\u001b[0m\n\u001b[0;32m      1\u001b[0m \u001b[1;31m# 6)\u001b[0m\u001b[1;33m\u001b[0m\u001b[1;33m\u001b[0m\u001b[1;33m\u001b[0m\u001b[0m\n\u001b[0;32m      2\u001b[0m \u001b[1;32mdef\u001b[0m \u001b[0mformula\u001b[0m\u001b[1;33m(\u001b[0m\u001b[0ma\u001b[0m\u001b[1;33m,\u001b[0m \u001b[0mb\u001b[0m\u001b[1;33m,\u001b[0m \u001b[0mc\u001b[0m\u001b[1;33m)\u001b[0m\u001b[1;33m:\u001b[0m\u001b[1;33m\u001b[0m\u001b[1;33m\u001b[0m\u001b[0m\n\u001b[1;32m----> 3\u001b[1;33m     \u001b[0mmais\u001b[0m \u001b[1;33m=\u001b[0m \u001b[1;33m(\u001b[0m\u001b[1;33m(\u001b[0m\u001b[1;33m-\u001b[0m\u001b[0mb\u001b[0m \u001b[1;33m+\u001b[0m \u001b[0mmath\u001b[0m\u001b[1;33m.\u001b[0m\u001b[0msqrt\u001b[0m\u001b[1;33m(\u001b[0m\u001b[0mb\u001b[0m\u001b[1;33m**\u001b[0m\u001b[1;36m2\u001b[0m \u001b[1;33m-\u001b[0m \u001b[1;36m4\u001b[0m \u001b[1;33m*\u001b[0m \u001b[0ma\u001b[0m \u001b[1;33m*\u001b[0m \u001b[0mc\u001b[0m\u001b[1;33m)\u001b[0m\u001b[1;33m)\u001b[0m\u001b[1;33m)\u001b[0m \u001b[1;33m/\u001b[0m \u001b[1;33m(\u001b[0m\u001b[1;36m2\u001b[0m \u001b[1;33m*\u001b[0m \u001b[0ma\u001b[0m\u001b[1;33m)\u001b[0m\u001b[1;33m\u001b[0m\u001b[1;33m\u001b[0m\u001b[0m\n\u001b[0m\u001b[0;32m      4\u001b[0m     \u001b[0mmenos\u001b[0m \u001b[1;33m=\u001b[0m \u001b[1;33m(\u001b[0m\u001b[1;33m-\u001b[0m\u001b[0mb\u001b[0m \u001b[1;33m-\u001b[0m \u001b[0mmath\u001b[0m\u001b[1;33m.\u001b[0m\u001b[0msqrt\u001b[0m\u001b[1;33m(\u001b[0m\u001b[0mb\u001b[0m\u001b[1;33m**\u001b[0m\u001b[1;36m2\u001b[0m \u001b[1;33m-\u001b[0m \u001b[1;36m4\u001b[0m \u001b[1;33m*\u001b[0m \u001b[0ma\u001b[0m \u001b[1;33m*\u001b[0m \u001b[0mc\u001b[0m\u001b[1;33m)\u001b[0m\u001b[1;33m)\u001b[0m \u001b[1;33m/\u001b[0m \u001b[1;33m(\u001b[0m\u001b[1;36m2\u001b[0m \u001b[1;33m*\u001b[0m \u001b[0ma\u001b[0m\u001b[1;33m)\u001b[0m\u001b[1;33m\u001b[0m\u001b[1;33m\u001b[0m\u001b[0m\n\u001b[0;32m      5\u001b[0m     \u001b[1;32mreturn\u001b[0m \u001b[1;33m(\u001b[0m\u001b[0mmais\u001b[0m\u001b[1;33m,\u001b[0m \u001b[0mmenos\u001b[0m\u001b[1;33m)\u001b[0m\u001b[1;33m\u001b[0m\u001b[1;33m\u001b[0m\u001b[0m\n",
      "\u001b[1;31mValueError\u001b[0m: math domain error"
     ]
    }
   ],
   "source": [
    "# 6)\n",
    "def formula(a, b, c):\n",
    "    mais = ((-b + math.sqrt(b**2 - 4 * a * c))) / (2 * a)\n",
    "    menos = (-b - math.sqrt(b**2 - 4 * a * c)) / (2 * a)\n",
    "    return (mais, menos)\n",
    "             \n",
    "formula(4, 2, 1)"
   ]
  },
  {
   "cell_type": "code",
   "execution_count": 22,
   "id": "8c68455c",
   "metadata": {
    "collapsed": true,
    "jupyter": {
     "outputs_hidden": true
    },
    "tags": []
   },
   "outputs": [
    {
     "ename": "ValueError",
     "evalue": "math domain error",
     "output_type": "error",
     "traceback": [
      "\u001b[1;31m---------------------------------------------------------------------------\u001b[0m",
      "\u001b[1;31mValueError\u001b[0m                                Traceback (most recent call last)",
      "\u001b[1;32m<ipython-input-22-1820eeb6554a>\u001b[0m in \u001b[0;36m<module>\u001b[1;34m\u001b[0m\n\u001b[0;32m      3\u001b[0m     \u001b[1;32mreturn\u001b[0m \u001b[1;33m(\u001b[0m\u001b[1;33m-\u001b[0m\u001b[0mb\u001b[0m \u001b[1;33m+\u001b[0m \u001b[0mmath\u001b[0m\u001b[1;33m.\u001b[0m\u001b[0msqrt\u001b[0m\u001b[1;33m(\u001b[0m\u001b[0mb\u001b[0m\u001b[1;33m**\u001b[0m\u001b[1;36m2\u001b[0m \u001b[1;33m-\u001b[0m \u001b[1;36m4\u001b[0m\u001b[1;33m*\u001b[0m\u001b[0ma\u001b[0m\u001b[1;33m*\u001b[0m\u001b[0mc\u001b[0m\u001b[1;33m)\u001b[0m\u001b[1;33m)\u001b[0m\u001b[1;33m/\u001b[0m\u001b[1;33m(\u001b[0m\u001b[1;36m2\u001b[0m\u001b[1;33m*\u001b[0m\u001b[0ma\u001b[0m\u001b[1;33m)\u001b[0m\u001b[1;33m,\u001b[0m \u001b[1;33m(\u001b[0m\u001b[1;33m-\u001b[0m\u001b[0mb\u001b[0m \u001b[1;33m-\u001b[0m \u001b[0mmath\u001b[0m\u001b[1;33m.\u001b[0m\u001b[0msqrt\u001b[0m\u001b[1;33m(\u001b[0m\u001b[0mb\u001b[0m\u001b[1;33m**\u001b[0m\u001b[1;36m2\u001b[0m \u001b[1;33m-\u001b[0m \u001b[1;36m4\u001b[0m\u001b[1;33m*\u001b[0m\u001b[0ma\u001b[0m\u001b[1;33m*\u001b[0m\u001b[0mc\u001b[0m\u001b[1;33m)\u001b[0m\u001b[1;33m)\u001b[0m\u001b[1;33m/\u001b[0m\u001b[1;33m(\u001b[0m\u001b[1;36m2\u001b[0m\u001b[1;33m*\u001b[0m\u001b[0ma\u001b[0m\u001b[1;33m)\u001b[0m\u001b[1;33m\u001b[0m\u001b[1;33m\u001b[0m\u001b[0m\n\u001b[0;32m      4\u001b[0m \u001b[1;33m\u001b[0m\u001b[0m\n\u001b[1;32m----> 5\u001b[1;33m \u001b[0mresolvente\u001b[0m\u001b[1;33m(\u001b[0m\u001b[1;36m4\u001b[0m\u001b[1;33m,\u001b[0m \u001b[1;36m2\u001b[0m\u001b[1;33m,\u001b[0m \u001b[1;36m1\u001b[0m\u001b[1;33m)\u001b[0m\u001b[1;33m\u001b[0m\u001b[1;33m\u001b[0m\u001b[0m\n\u001b[0m",
      "\u001b[1;32m<ipython-input-22-1820eeb6554a>\u001b[0m in \u001b[0;36mresolvente\u001b[1;34m(a, b, c)\u001b[0m\n\u001b[0;32m      1\u001b[0m \u001b[1;32mimport\u001b[0m \u001b[0mmath\u001b[0m\u001b[1;33m\u001b[0m\u001b[1;33m\u001b[0m\u001b[0m\n\u001b[0;32m      2\u001b[0m \u001b[1;32mdef\u001b[0m \u001b[0mresolvente\u001b[0m \u001b[1;33m(\u001b[0m\u001b[0ma\u001b[0m\u001b[1;33m,\u001b[0m\u001b[0mb\u001b[0m\u001b[1;33m,\u001b[0m\u001b[0mc\u001b[0m\u001b[1;33m)\u001b[0m\u001b[1;33m:\u001b[0m\u001b[1;33m\u001b[0m\u001b[1;33m\u001b[0m\u001b[0m\n\u001b[1;32m----> 3\u001b[1;33m     \u001b[1;32mreturn\u001b[0m \u001b[1;33m(\u001b[0m\u001b[1;33m-\u001b[0m\u001b[0mb\u001b[0m \u001b[1;33m+\u001b[0m \u001b[0mmath\u001b[0m\u001b[1;33m.\u001b[0m\u001b[0msqrt\u001b[0m\u001b[1;33m(\u001b[0m\u001b[0mb\u001b[0m\u001b[1;33m**\u001b[0m\u001b[1;36m2\u001b[0m \u001b[1;33m-\u001b[0m \u001b[1;36m4\u001b[0m\u001b[1;33m*\u001b[0m\u001b[0ma\u001b[0m\u001b[1;33m*\u001b[0m\u001b[0mc\u001b[0m\u001b[1;33m)\u001b[0m\u001b[1;33m)\u001b[0m\u001b[1;33m/\u001b[0m\u001b[1;33m(\u001b[0m\u001b[1;36m2\u001b[0m\u001b[1;33m*\u001b[0m\u001b[0ma\u001b[0m\u001b[1;33m)\u001b[0m\u001b[1;33m,\u001b[0m \u001b[1;33m(\u001b[0m\u001b[1;33m-\u001b[0m\u001b[0mb\u001b[0m \u001b[1;33m-\u001b[0m \u001b[0mmath\u001b[0m\u001b[1;33m.\u001b[0m\u001b[0msqrt\u001b[0m\u001b[1;33m(\u001b[0m\u001b[0mb\u001b[0m\u001b[1;33m**\u001b[0m\u001b[1;36m2\u001b[0m \u001b[1;33m-\u001b[0m \u001b[1;36m4\u001b[0m\u001b[1;33m*\u001b[0m\u001b[0ma\u001b[0m\u001b[1;33m*\u001b[0m\u001b[0mc\u001b[0m\u001b[1;33m)\u001b[0m\u001b[1;33m)\u001b[0m\u001b[1;33m/\u001b[0m\u001b[1;33m(\u001b[0m\u001b[1;36m2\u001b[0m\u001b[1;33m*\u001b[0m\u001b[0ma\u001b[0m\u001b[1;33m)\u001b[0m\u001b[1;33m\u001b[0m\u001b[1;33m\u001b[0m\u001b[0m\n\u001b[0m\u001b[0;32m      4\u001b[0m \u001b[1;33m\u001b[0m\u001b[0m\n\u001b[0;32m      5\u001b[0m \u001b[0mresolvente\u001b[0m\u001b[1;33m(\u001b[0m\u001b[1;36m4\u001b[0m\u001b[1;33m,\u001b[0m \u001b[1;36m2\u001b[0m\u001b[1;33m,\u001b[0m \u001b[1;36m1\u001b[0m\u001b[1;33m)\u001b[0m\u001b[1;33m\u001b[0m\u001b[1;33m\u001b[0m\u001b[0m\n",
      "\u001b[1;31mValueError\u001b[0m: math domain error"
     ]
    }
   ],
   "source": [
    "import math\n",
    "def resolvente (a,b,c):\n",
    "    return (-b + math.sqrt(b**2 - 4*a*c))/(2*a), (-b - math.sqrt(b**2 - 4*a*c))/(2*a)\n",
    "\n",
    "resolvente(4, 2, 1)"
   ]
  },
  {
   "cell_type": "code",
   "execution_count": 29,
   "id": "fc40fdbe",
   "metadata": {},
   "outputs": [
    {
     "name": "stdout",
     "output_type": "stream",
     "text": [
      "1\n",
      "3\n",
      "9\n"
     ]
    }
   ],
   "source": [
    "# 7)\n",
    "\n",
    "def divisores(n):\n",
    "    for k in range(1, n+1):\n",
    "        if n % k == 0:\n",
    "            print(k)\n",
    "divisores(9)"
   ]
  },
  {
   "cell_type": "code",
   "execution_count": 33,
   "id": "949565a9",
   "metadata": {},
   "outputs": [
    {
     "data": {
      "text/plain": [
       "13"
      ]
     },
     "execution_count": 33,
     "metadata": {},
     "output_type": "execute_result"
    }
   ],
   "source": [
    "# 8) \n",
    "\n",
    "def fibonnaci(n):\n",
    "    if n == 1 or n == 2:\n",
    "        return 1\n",
    "    else:\n",
    "        return fibonnaci(n-1) + fibonnaci(n-2)\n",
    "        \n",
    "fibonnaci(7)"
   ]
  },
  {
   "cell_type": "code",
   "execution_count": 76,
   "id": "587e26f2",
   "metadata": {
    "collapsed": true,
    "jupyter": {
     "outputs_hidden": true
    },
    "tags": []
   },
   "outputs": [
    {
     "name": "stdout",
     "output_type": "stream",
     "text": [
      "nao é multiplo\n",
      "nao é multiplo\n",
      "Fizz\n",
      "nao é multiplo\n",
      "Buzz\n",
      "Fizz\n",
      "nao é multiplo\n",
      "nao é multiplo\n",
      "Fizz\n",
      "Buzz\n",
      "nao é multiplo\n",
      "Fizz\n",
      "nao é multiplo\n",
      "nao é multiplo\n",
      "FizzBuzZ\n",
      "nao é multiplo\n",
      "nao é multiplo\n",
      "Fizz\n",
      "nao é multiplo\n",
      "Buzz\n",
      "Fizz\n",
      "nao é multiplo\n",
      "nao é multiplo\n",
      "Fizz\n",
      "Buzz\n",
      "nao é multiplo\n",
      "Fizz\n",
      "nao é multiplo\n",
      "nao é multiplo\n",
      "FizzBuzZ\n",
      "nao é multiplo\n",
      "nao é multiplo\n",
      "Fizz\n",
      "nao é multiplo\n",
      "Buzz\n",
      "Fizz\n",
      "nao é multiplo\n",
      "nao é multiplo\n",
      "Fizz\n",
      "Buzz\n",
      "nao é multiplo\n",
      "Fizz\n",
      "nao é multiplo\n",
      "nao é multiplo\n",
      "FizzBuzZ\n",
      "nao é multiplo\n",
      "nao é multiplo\n",
      "Fizz\n",
      "nao é multiplo\n",
      "Buzz\n"
     ]
    }
   ],
   "source": [
    "# 9)\n",
    "def multiplo():\n",
    "    for x in range(1,51):\n",
    "        if x % 3 == 0 and x % 5 == 0:\n",
    "            print('FizzBuzZ')\n",
    "        elif x % 3 == 0:\n",
    "            print('Fizz')\n",
    "        elif x % 5 == 0:\n",
    "            print('Buzz')\n",
    "        else:\n",
    "            print('nao é multiplo')\n",
    "                   \n",
    "            \n",
    "multiplo()"
   ]
  },
  {
   "cell_type": "code",
   "execution_count": 90,
   "id": "b6b7ea38",
   "metadata": {},
   "outputs": [
    {
     "name": "stdout",
     "output_type": "stream",
     "text": [
      "2.0\n",
      "ok\n",
      "carta de conducao suspensa\n"
     ]
    }
   ],
   "source": [
    "# 10) Escreva uma função que verifica a velocidade dos condutores: \n",
    "# se a velocidade for menor que70 deverá imprimir “ok”, \n",
    "# por cada 5km acima do limite de velocidade (70)\n",
    "# deverá implicar um furo na carta e imprimir o número de furos, \n",
    "# se o condutor tiver mais de 12 furos na carta\n",
    "#deverá imprimir “carta de condução suspensa”.\n",
    "\n",
    "def velocidade(x):\n",
    "    pontos = (x - 70)/5\n",
    "    if x < 70:\n",
    "        print('ok')\n",
    "    elif pontos > 12:\n",
    "        print('carta de conducao suspensa')\n",
    "    else: \n",
    "        print(pontos)\n",
    "\n",
    "velocidade(80)\n",
    "velocidade(60)\n",
    "velocidade(180)"
   ]
  }
 ],
 "metadata": {
  "kernelspec": {
   "display_name": "Python 3",
   "language": "python",
   "name": "python3"
  },
  "language_info": {
   "codemirror_mode": {
    "name": "ipython",
    "version": 3
   },
   "file_extension": ".py",
   "mimetype": "text/x-python",
   "name": "python",
   "nbconvert_exporter": "python",
   "pygments_lexer": "ipython3",
   "version": "3.8.8"
  }
 },
 "nbformat": 4,
 "nbformat_minor": 5
}
