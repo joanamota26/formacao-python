{
 "cells": [
  {
   "cell_type": "markdown",
   "id": "7b637515",
   "metadata": {},
   "source": [
    "# Aula 3"
   ]
  },
  {
   "cell_type": "markdown",
   "id": "115c21b1",
   "metadata": {},
   "source": [
    "### coleção de dados"
   ]
  },
  {
   "cell_type": "code",
   "execution_count": 2,
   "id": "a78ed370",
   "metadata": {},
   "outputs": [
    {
     "data": {
      "text/plain": [
       "list"
      ]
     },
     "execution_count": 2,
     "metadata": {},
     "output_type": "execute_result"
    }
   ],
   "source": [
    "my_list = [1, 2, 3]\n",
    "\n",
    "type(my_list)"
   ]
  },
  {
   "cell_type": "markdown",
   "id": "188f71af",
   "metadata": {},
   "source": [
    "### list - utilizam-se para representar uma lista"
   ]
  },
  {
   "cell_type": "code",
   "execution_count": 3,
   "id": "3308633f",
   "metadata": {},
   "outputs": [
    {
     "data": {
      "text/plain": [
       "list"
      ]
     },
     "execution_count": 3,
     "metadata": {},
     "output_type": "execute_result"
    }
   ],
   "source": [
    "this_list = list(\"volvo\")\n",
    "\n",
    "type(this_list)"
   ]
  },
  {
   "cell_type": "markdown",
   "id": "9ecd22ec",
   "metadata": {},
   "source": [
    "### Propriedades de uma lista:\n",
    " ##### • Permite duplicados"
   ]
  },
  {
   "cell_type": "code",
   "execution_count": 4,
   "id": "f267dd58",
   "metadata": {},
   "outputs": [
    {
     "data": {
      "text/plain": [
       "[2, 2]"
      ]
     },
     "execution_count": 4,
     "metadata": {},
     "output_type": "execute_result"
    }
   ],
   "source": [
    "duplicates_list = [2, 2]\n",
    "\n",
    "duplicates_list"
   ]
  },
  {
   "cell_type": "markdown",
   "id": "70dc4402",
   "metadata": {},
   "source": [
    "#### • Permite vários tipos diferentes"
   ]
  },
  {
   "cell_type": "code",
   "execution_count": 5,
   "id": "08f34a17",
   "metadata": {},
   "outputs": [
    {
     "data": {
      "text/plain": [
       "[1, 'sand', 1.75, True]"
      ]
     },
     "execution_count": 5,
     "metadata": {},
     "output_type": "execute_result"
    }
   ],
   "source": [
    "diff_types_list = [1, \"sand\", 1.75, True]\n",
    "\n",
    "diff_types_list"
   ]
  },
  {
   "cell_type": "markdown",
   "id": "17973abf",
   "metadata": {},
   "source": [
    "#### • Ordenada\n",
    "#### Os seus elementos têm uma ordem definida e essa ordem não se irá alterar. Consequentemente, podem ser acedidos através de um índice.\n",
    "#### • Mutável\n",
    "#### É possível alterar, adicionar e remover itens numa lista, após esta ter sido criada."
   ]
  },
  {
   "cell_type": "markdown",
   "id": "d997ae19",
   "metadata": {},
   "source": [
    "#### indices da lista começam em 0, 1, 2 , 3"
   ]
  },
  {
   "cell_type": "code",
   "execution_count": 7,
   "id": "38f0daed",
   "metadata": {},
   "outputs": [
    {
     "data": {
      "text/plain": [
       "'yellow'"
      ]
     },
     "execution_count": 7,
     "metadata": {},
     "output_type": "execute_result"
    }
   ],
   "source": [
    "colors = [\"blue\", \"red\", \"yellow\"] #índices começam em 0\n",
    "colors[2]"
   ]
  },
  {
   "cell_type": "code",
   "execution_count": 9,
   "id": "47bb1f7e",
   "metadata": {},
   "outputs": [
    {
     "data": {
      "text/plain": [
       "'plane'"
      ]
     },
     "execution_count": 9,
     "metadata": {},
     "output_type": "execute_result"
    }
   ],
   "source": [
    "transports = [\"car\", \"plane\", \"bike\"] #neste caso, o índice -1 refere-se ao␣!último elemento\n",
    "transports[-2]"
   ]
  },
  {
   "cell_type": "code",
   "execution_count": 10,
   "id": "5e678a71",
   "metadata": {},
   "outputs": [
    {
     "data": {
      "text/plain": [
       "['brocolli', 'mushroom', 'spinach']"
      ]
     },
     "execution_count": 10,
     "metadata": {},
     "output_type": "execute_result"
    }
   ],
   "source": [
    "vegetables = [\"carrot\", \"brocolli\", \"mushroom\", \"spinach\"]\n",
    "vegetables[1:]"
   ]
  },
  {
   "cell_type": "code",
   "execution_count": 11,
   "id": "75e11698",
   "metadata": {},
   "outputs": [
    {
     "data": {
      "text/plain": [
       "['cat', 'dog']"
      ]
     },
     "execution_count": 11,
     "metadata": {},
     "output_type": "execute_result"
    }
   ],
   "source": [
    "animals = [\"cat\", \"dog\", \"bird\", \"elephant\", \"zebra\"]\n",
    "animals[:2]"
   ]
  },
  {
   "cell_type": "code",
   "execution_count": 13,
   "id": "f1e510f4",
   "metadata": {},
   "outputs": [
    {
     "data": {
      "text/plain": [
       "['burguer']"
      ]
     },
     "execution_count": 13,
     "metadata": {},
     "output_type": "execute_result"
    }
   ],
   "source": [
    "food = [\"spaghetti\", \"burguer\", \"pizza\"]\n",
    "food[1:2]"
   ]
  },
  {
   "cell_type": "code",
   "execution_count": 14,
   "id": "ca02ab91",
   "metadata": {},
   "outputs": [
    {
     "data": {
      "text/plain": [
       "['C#', 'C++', 'Java']"
      ]
     },
     "execution_count": 14,
     "metadata": {},
     "output_type": "execute_result"
    }
   ],
   "source": [
    "prog_languages = [\"C\", \"C#\", \"C++\", \"Java\", \"R\"]\n",
    "prog_languages[-4:-1]"
   ]
  },
  {
   "cell_type": "markdown",
   "id": "ab24a4f0",
   "metadata": {},
   "source": [
    "### Alterar elementos"
   ]
  },
  {
   "cell_type": "code",
   "execution_count": 15,
   "id": "7878dd5f",
   "metadata": {},
   "outputs": [
    {
     "data": {
      "text/plain": [
       "['a', 'e', 'I', 'o', 'u']"
      ]
     },
     "execution_count": 15,
     "metadata": {},
     "output_type": "execute_result"
    }
   ],
   "source": [
    "vowels = [\"a\", \"e\", \"i\", \"o\", \"u\"]\n",
    "vowels[2] = \"I\"\n",
    "vowels"
   ]
  },
  {
   "cell_type": "code",
   "execution_count": 16,
   "id": "fd6fd083",
   "metadata": {},
   "outputs": [
    {
     "data": {
      "text/plain": [
       "['maths', 'english', 'german', 'chemistry']"
      ]
     },
     "execution_count": 16,
     "metadata": {},
     "output_type": "execute_result"
    }
   ],
   "source": [
    "subjects = [\"maths\", \"physics\", \"geometry\", \"chemistry\"]\n",
    "subjects[1:3] = [\"english\", \"german\"]\n",
    "subjects"
   ]
  },
  {
   "cell_type": "code",
   "execution_count": 17,
   "id": "2d35cb17",
   "metadata": {},
   "outputs": [
    {
     "data": {
      "text/plain": [
       "['portugal', 'belgium', 'switzerland', 'mozambique', 'brazil']"
      ]
     },
     "execution_count": 17,
     "metadata": {},
     "output_type": "execute_result"
    }
   ],
   "source": [
    "countries = [\"portugal\", \"denmark\", \"mozambique\", \"brazil\"]\n",
    "countries[1:2] = [\"belgium\", \"switzerland\"]\n",
    "countries"
   ]
  },
  {
   "cell_type": "code",
   "execution_count": 18,
   "id": "c4d19f0d",
   "metadata": {},
   "outputs": [
    {
     "data": {
      "text/plain": [
       "['viseu', 'braga']"
      ]
     },
     "execution_count": 18,
     "metadata": {},
     "output_type": "execute_result"
    }
   ],
   "source": [
    "cities = [\"viseu\", \"coimbra\", \"aveiro\"]\n",
    "cities[1:3] = [\"braga\"]\n",
    "cities"
   ]
  },
  {
   "cell_type": "markdown",
   "id": "f9d12300",
   "metadata": {},
   "source": [
    "#### Adicionar elementos"
   ]
  },
  {
   "cell_type": "code",
   "execution_count": 19,
   "id": "ba6df9a6",
   "metadata": {},
   "outputs": [
    {
     "data": {
      "text/plain": [
       "['one', 'two', 'three', 'four']"
      ]
     },
     "execution_count": 19,
     "metadata": {},
     "output_type": "execute_result"
    }
   ],
   "source": [
    "numbers = [\"one\", \"two\", \"three\"]\n",
    "numbers.append(\"four\")\n",
    "numbers"
   ]
  },
  {
   "cell_type": "code",
   "execution_count": 20,
   "id": "85159d6d",
   "metadata": {},
   "outputs": [
    {
     "data": {
      "text/plain": [
       "['football', 'rugby', 'tennis']"
      ]
     },
     "execution_count": 20,
     "metadata": {},
     "output_type": "execute_result"
    }
   ],
   "source": [
    "sports = [\"football\", \"tennis\"]\n",
    "sports.insert(1, \"rugby\")\n",
    "sports"
   ]
  },
  {
   "cell_type": "code",
   "execution_count": 21,
   "id": "00b5e5bc",
   "metadata": {},
   "outputs": [
    {
     "data": {
      "text/plain": [
       "['trousers', 'skirts', 'boots', 'slippers']"
      ]
     },
     "execution_count": 21,
     "metadata": {},
     "output_type": "execute_result"
    }
   ],
   "source": [
    "apparel = [\"trousers\", \"skirts\"]\n",
    "shoes = [\"boots\", \"slippers\"] #também poderia ser um tuplo, por exemplo\n",
    "apparel.extend(shoes)\n",
    "apparel"
   ]
  },
  {
   "cell_type": "markdown",
   "id": "f6cfb37b",
   "metadata": {},
   "source": [
    "### Remover elementos"
   ]
  },
  {
   "cell_type": "code",
   "execution_count": 22,
   "id": "53cc9f4f",
   "metadata": {},
   "outputs": [
    {
     "data": {
      "text/plain": [
       "['mercury', 'venus', 'earth']"
      ]
     },
     "execution_count": 22,
     "metadata": {},
     "output_type": "execute_result"
    }
   ],
   "source": [
    "planets = [\"mercury\", \"venus\", \"earth\", \"pluto\"]\n",
    "planets.remove(\"pluto\")\n",
    "planets"
   ]
  },
  {
   "cell_type": "code",
   "execution_count": 23,
   "id": "0d2ae6a9",
   "metadata": {},
   "outputs": [
    {
     "data": {
      "text/plain": [
       "[]"
      ]
     },
     "execution_count": 23,
     "metadata": {},
     "output_type": "execute_result"
    }
   ],
   "source": [
    "summer = [\"sun\", \"beach\"]\n",
    "summer.clear()\n",
    "summer"
   ]
  },
  {
   "cell_type": "code",
   "execution_count": 24,
   "id": "007c5d9f",
   "metadata": {},
   "outputs": [
    {
     "data": {
      "text/plain": [
       "['arms', 'head']"
      ]
     },
     "execution_count": 24,
     "metadata": {},
     "output_type": "execute_result"
    }
   ],
   "source": [
    "body_parts = [\"arms\", \"legs\", \"head\"]\n",
    "body_parts.pop(1) #se o índice não for especificado, remove o último elemento\n",
    "body_parts"
   ]
  },
  {
   "cell_type": "code",
   "execution_count": 25,
   "id": "80f4f378",
   "metadata": {},
   "outputs": [
    {
     "data": {
      "text/plain": [
       "['arms', 'head']"
      ]
     },
     "execution_count": 25,
     "metadata": {},
     "output_type": "execute_result"
    }
   ],
   "source": [
    "body_parts = [\"arms\", \"legs\", \"head\"]\n",
    "del body_parts[1]\n",
    "body_parts"
   ]
  },
  {
   "cell_type": "code",
   "execution_count": 57,
   "id": "f40d55e5",
   "metadata": {},
   "outputs": [
    {
     "data": {
      "text/plain": [
       "(3, 'a')"
      ]
     },
     "execution_count": 57,
     "metadata": {},
     "output_type": "execute_result"
    }
   ],
   "source": [
    "## exercicio\n",
    "def first_last(x):\n",
    "    return x[0], x[-1]\n",
    "    \n",
    "\n",
    "first_last([3, 4, 'a'])"
   ]
  },
  {
   "cell_type": "markdown",
   "id": "609f4fbf",
   "metadata": {},
   "source": [
    "## listas de compreensao\n",
    "\n",
    "###### newlist = [expression for item in iterable if condition == True]: Sintaxe de uma lista em compreensão (a condição é opcional)"
   ]
  },
  {
   "cell_type": "code",
   "execution_count": 2,
   "id": "97c61c5c",
   "metadata": {},
   "outputs": [
    {
     "data": {
      "text/plain": [
       "['rose', 'cactus', 'daisy']"
      ]
     },
     "execution_count": 2,
     "metadata": {},
     "output_type": "execute_result"
    }
   ],
   "source": [
    "plants = [\"rose\", \"cactus\", \"bamboo\", \"daisy\"]\n",
    "\n",
    "plants_with_s = []\n",
    "\n",
    "for plant in plants:\n",
    "    if \"s\" in plant:\n",
    "        plants_with_s.append(plant)\n",
    "        \n",
    "plants_with_s"
   ]
  },
  {
   "cell_type": "code",
   "execution_count": 3,
   "id": "27fa7f0a",
   "metadata": {},
   "outputs": [
    {
     "data": {
      "text/plain": [
       "['rose', 'cactus', 'daisy']"
      ]
     },
     "execution_count": 3,
     "metadata": {},
     "output_type": "execute_result"
    }
   ],
   "source": [
    "plants = [\"rose\", \"cactus\", \"bamboo\", \"daisy\"]\n",
    "\n",
    "plants_with_s = [plant for plant in plants if \"s\" in plant]\n",
    "\n",
    "plants_with_s"
   ]
  },
  {
   "cell_type": "code",
   "execution_count": 14,
   "id": "1d7f6f8a",
   "metadata": {},
   "outputs": [
    {
     "data": {
      "text/plain": [
       "['chicken', 'commom blackbird', 'flamingo']"
      ]
     },
     "execution_count": 14,
     "metadata": {},
     "output_type": "execute_result"
    }
   ],
   "source": [
    "new_birds = []\n",
    "\n",
    "birds = [\"chicken\", \"blackbird\", \"flamingo\"]\n",
    "\n",
    "for bird in birds:\n",
    "    if bird == \"blackbird\":\n",
    "        new_birds.append(\"commom blackbird\")\n",
    "    else:\n",
    "        new_birds.append(bird)\n",
    "        \n",
    "new_birds"
   ]
  },
  {
   "cell_type": "code",
   "execution_count": 12,
   "id": "75e096fd",
   "metadata": {},
   "outputs": [
    {
     "data": {
      "text/plain": [
       "['chicken', 'commom blackbird', 'flamingo']"
      ]
     },
     "execution_count": 12,
     "metadata": {},
     "output_type": "execute_result"
    }
   ],
   "source": [
    "[\"commom blackbird\" if bird == \"blackbird\" else bird for bird in birds]"
   ]
  },
  {
   "cell_type": "markdown",
   "id": "7262ef0f",
   "metadata": {},
   "source": [
    "### ordenar listas "
   ]
  },
  {
   "cell_type": "code",
   "execution_count": 16,
   "id": "e439ae39",
   "metadata": {},
   "outputs": [
    {
     "data": {
      "text/plain": [
       "['Tuesday', 'friday', 'monday', 'thursday', 'wednesday']"
      ]
     },
     "execution_count": 16,
     "metadata": {},
     "output_type": "execute_result"
    }
   ],
   "source": [
    "weekdays = [\"monday\", \"Tuesday\", \"wednesday\", \"thursday\", \"friday\"]\n",
    "\n",
    "weekdays.sort() #também funciona para números\n",
    "\n",
    "weekdays\n",
    "\n",
    "## o Tuesday ficou em primeiro lugar porque tem letra maiuscula"
   ]
  },
  {
   "cell_type": "code",
   "execution_count": 17,
   "id": "e8304621",
   "metadata": {},
   "outputs": [
    {
     "data": {
      "text/plain": [
       "['lipgloss', 'eyeshadow', 'blush']"
      ]
     },
     "execution_count": 17,
     "metadata": {},
     "output_type": "execute_result"
    }
   ],
   "source": [
    "makeup = [\"blush\", \"eyeshadow\", \"lipgloss\"]\n",
    "\n",
    "makeup.sort(reverse=True)\n",
    "\n",
    "makeup"
   ]
  },
  {
   "cell_type": "code",
   "execution_count": 18,
   "id": "d7bfe568",
   "metadata": {},
   "outputs": [
    {
     "data": {
      "text/plain": [
       "[-1, -2, 3, 4, -17]"
      ]
     },
     "execution_count": 18,
     "metadata": {},
     "output_type": "execute_result"
    }
   ],
   "source": [
    "def my_sort_function(x):\n",
    "    return abs(x)\n",
    "\n",
    "x = [-17, -1, 3, -2, 4]\n",
    "\n",
    "x.sort(key=my_sort_function)\n",
    "\n",
    "x"
   ]
  },
  {
   "cell_type": "code",
   "execution_count": 19,
   "id": "9a1755da",
   "metadata": {},
   "outputs": [
    {
     "data": {
      "text/plain": [
       "['sunday', 'saturday']"
      ]
     },
     "execution_count": 19,
     "metadata": {},
     "output_type": "execute_result"
    }
   ],
   "source": [
    "weekend = [\"saturday\", \"sunday\"]\n",
    "\n",
    "weekend.reverse()\n",
    "\n",
    "weekend"
   ]
  },
  {
   "cell_type": "markdown",
   "id": "751a9d50",
   "metadata": {},
   "source": [
    "### copiar listas"
   ]
  },
  {
   "cell_type": "code",
   "execution_count": 20,
   "id": "f0792c9a",
   "metadata": {},
   "outputs": [
    {
     "data": {
      "text/plain": [
       "['january', 'february', 'march']"
      ]
     },
     "execution_count": 20,
     "metadata": {},
     "output_type": "execute_result"
    }
   ],
   "source": [
    "months = [\"january\", \"february\", \"march\"]\n",
    "\n",
    "new_list = months.copy()\n",
    "\n",
    "new_list"
   ]
  },
  {
   "cell_type": "code",
   "execution_count": 21,
   "id": "8d657361",
   "metadata": {},
   "outputs": [
    {
     "data": {
      "text/plain": [
       "['january', 'february', 'march']"
      ]
     },
     "execution_count": 21,
     "metadata": {},
     "output_type": "execute_result"
    }
   ],
   "source": [
    "months = [\"january\", \"february\", \"march\"]\n",
    "\n",
    "my_new_list = list(months)\n",
    "\n",
    "my_new_list"
   ]
  },
  {
   "cell_type": "markdown",
   "id": "056f0343",
   "metadata": {},
   "source": [
    "### count()"
   ]
  },
  {
   "cell_type": "code",
   "execution_count": 22,
   "id": "8d58eeaa",
   "metadata": {},
   "outputs": [
    {
     "data": {
      "text/plain": [
       "2"
      ]
     },
     "execution_count": 22,
     "metadata": {},
     "output_type": "execute_result"
    }
   ],
   "source": [
    "money = [\"euro\", \"pound\", \"dollar\", \"euro\"]\n",
    "\n",
    "money.count(\"euro\")"
   ]
  },
  {
   "cell_type": "markdown",
   "id": "f5ecaa39",
   "metadata": {},
   "source": [
    "### index()"
   ]
  },
  {
   "cell_type": "code",
   "execution_count": 23,
   "id": "4505637e",
   "metadata": {},
   "outputs": [
    {
     "data": {
      "text/plain": [
       "1"
      ]
     },
     "execution_count": 23,
     "metadata": {},
     "output_type": "execute_result"
    }
   ],
   "source": [
    "teams = [\"slbenfica\", \"fcporto\", \"scbraga\"]\n",
    "\n",
    "teams.index(\"fcporto\")"
   ]
  },
  {
   "cell_type": "markdown",
   "id": "b2024086",
   "metadata": {},
   "source": [
    "### exercicio"
   ]
  },
  {
   "cell_type": "code",
   "execution_count": 33,
   "id": "dfda32a5",
   "metadata": {},
   "outputs": [
    {
     "data": {
      "text/plain": [
       "4"
      ]
     },
     "execution_count": 33,
     "metadata": {},
     "output_type": "execute_result"
    }
   ],
   "source": [
    "# Escreva uma função que retorna o maior elemento de uma lista.\n",
    "\n",
    "def maior(t):\n",
    "    maior = 0\n",
    "    for i in t:\n",
    "        if i > maior:\n",
    "            maior = i\n",
    "    return maior\n",
    "\n",
    "    \n",
    "maior([2, 4, 1])"
   ]
  },
  {
   "cell_type": "code",
   "execution_count": 63,
   "id": "ab877a74",
   "metadata": {
    "tags": []
   },
   "outputs": [
    {
     "data": {
      "text/plain": [
       "[(0, 0), (0, 1), (0, 2), (1, 0), (1, 1), (1, 2), (2, 0), (2, 1), (2, 2)]"
      ]
     },
     "execution_count": 63,
     "metadata": {},
     "output_type": "execute_result"
    }
   ],
   "source": [
    "# Escreva uma função que retorna todas as combinações de \n",
    "# pares de 0 até um limite, com\n",
    "# recurso a uma lista em compreensão.\n",
    "\n",
    "def pares(limite):\n",
    "    result = []\n",
    "    for i in range(limite +1):\n",
    "        for j in range(limite +1):\n",
    "            result.append((i, j))\n",
    "            \n",
    "    return result\n",
    "\n",
    "\n",
    "pares(2)"
   ]
  },
  {
   "cell_type": "code",
   "execution_count": 69,
   "id": "f3a0b58e",
   "metadata": {},
   "outputs": [
    {
     "data": {
      "text/plain": [
       "[1, 2, 3]"
      ]
     },
     "execution_count": 69,
     "metadata": {},
     "output_type": "execute_result"
    }
   ],
   "source": [
    "# Escreva uma função que retorna os n menores números de uma lista de números.\n",
    "\n",
    "def menores(l,n):\n",
    "    l.sort()\n",
    "    return l[:n]  \n",
    "    \n",
    "menores([2,6,1,3], 3)"
   ]
  },
  {
   "cell_type": "markdown",
   "id": "04673aba",
   "metadata": {},
   "source": [
    "## tuples\n",
    "\n",
    "#### tuple() - Construtor utilizado para criar um tuplo"
   ]
  },
  {
   "cell_type": "code",
   "execution_count": 70,
   "id": "756a84d3",
   "metadata": {},
   "outputs": [
    {
     "data": {
      "text/plain": [
       "tuple"
      ]
     },
     "execution_count": 70,
     "metadata": {},
     "output_type": "execute_result"
    }
   ],
   "source": [
    "my_tuple = (1,2,3) #para criar um tuplo com um único elemento, é necessário␣,!colocar uma vírgula no fim\n",
    "\n",
    "type(my_tuple)"
   ]
  },
  {
   "cell_type": "code",
   "execution_count": 71,
   "id": "f91618c1",
   "metadata": {},
   "outputs": [
    {
     "data": {
      "text/plain": [
       "tuple"
      ]
     },
     "execution_count": 71,
     "metadata": {},
     "output_type": "execute_result"
    }
   ],
   "source": [
    "this_tuple = tuple((4,8))\n",
    "\n",
    "type(this_tuple)"
   ]
  },
  {
   "cell_type": "markdown",
   "id": "1beb0901",
   "metadata": {},
   "source": [
    "### Propriedades de um tuplo:\n",
    "#### • Permite duplicados"
   ]
  },
  {
   "cell_type": "code",
   "execution_count": 72,
   "id": "29bd153c",
   "metadata": {},
   "outputs": [
    {
     "data": {
      "text/plain": [
       "(2, 2)"
      ]
     },
     "execution_count": 72,
     "metadata": {},
     "output_type": "execute_result"
    }
   ],
   "source": [
    "duplicates_tuple = (2,2)\n",
    "\n",
    "duplicates_tuple"
   ]
  },
  {
   "cell_type": "markdown",
   "id": "ab3a02d2",
   "metadata": {},
   "source": [
    "### Permite vários tipos diferentes"
   ]
  },
  {
   "cell_type": "code",
   "execution_count": 73,
   "id": "cfbd2601",
   "metadata": {},
   "outputs": [
    {
     "data": {
      "text/plain": [
       "(2, 'ana', 3.45, False)"
      ]
     },
     "execution_count": 73,
     "metadata": {},
     "output_type": "execute_result"
    }
   ],
   "source": [
    "diff_types_tuple = (2, \"ana\", 3.45, False)\n",
    "\n",
    "diff_types_tuple"
   ]
  },
  {
   "cell_type": "markdown",
   "id": "c3282645",
   "metadata": {},
   "source": [
    "#### • Ordenado\n",
    "###### Os seus elementos têm uma ordem definida e essa ordem não se irá alterar. Consequentemente, podem ser acedidos através de um índice.\n",
    "#### • Imutável\n",
    "##### Não é possível alterar, adicionar e remover itens num tuplo, após este ter sido criado."
   ]
  },
  {
   "cell_type": "markdown",
   "id": "4b7aa028",
   "metadata": {},
   "source": [
    "#### Aceder a elementos"
   ]
  },
  {
   "cell_type": "markdown",
   "id": "c20973bb",
   "metadata": {},
   "source": [
    "### Desconstruir tuplos"
   ]
  },
  {
   "cell_type": "code",
   "execution_count": 74,
   "id": "4785a61b",
   "metadata": {},
   "outputs": [
    {
     "name": "stdout",
     "output_type": "stream",
     "text": [
      "cardiology\n",
      "dermatology\n",
      "neurology\n"
     ]
    }
   ],
   "source": [
    "specialty = (\"cardiology\", \"dermatology\", \"neurology\")\n",
    "\n",
    "(heart, skin, brain) = specialty\n",
    "\n",
    "print(heart)\n",
    "print(skin)\n",
    "print(brain)"
   ]
  },
  {
   "cell_type": "code",
   "execution_count": 75,
   "id": "65ddc553",
   "metadata": {},
   "outputs": [
    {
     "name": "stdout",
     "output_type": "stream",
     "text": [
      "The Great Gatsby\n",
      "Don Quixote\n",
      "['War and Peace', 'Anna Karenina']\n"
     ]
    }
   ],
   "source": [
    "books = (\"The Great Gatsby\", \"Don Quixote\", \"War and Peace\", \"Anna Karenina\")\n",
    "\n",
    "(fitzgerald, cervantes, *tolstoi) = books\n",
    "\n",
    "print(fitzgerald)\n",
    "print(cervantes)\n",
    "print(tolstoi)"
   ]
  },
  {
   "cell_type": "markdown",
   "id": "e3e8b6f6",
   "metadata": {},
   "source": [
    "#### exercicio"
   ]
  },
  {
   "cell_type": "code",
   "execution_count": 98,
   "id": "e88d79ec",
   "metadata": {
    "tags": []
   },
   "outputs": [
    {
     "data": {
      "text/plain": [
       "5.656854249492381"
      ]
     },
     "execution_count": 98,
     "metadata": {},
     "output_type": "execute_result"
    }
   ],
   "source": [
    "# Escreva uma função que retorna a distância euclidiana \n",
    "# entre dois pontos.\n",
    "\n",
    "def euclidiana (t1, t2):\n",
    "    resultado = math.sqrt((t1[0]-t2[0])**2 + (t1[1] - t2[1])**2)\n",
    "    return resultado\n",
    "\n",
    "euclidiana((1,2), (5,6))\n"
   ]
  },
  {
   "cell_type": "code",
   "execution_count": 102,
   "id": "05152aef",
   "metadata": {},
   "outputs": [
    {
     "data": {
      "text/plain": [
       "[3, 10, 15]"
      ]
     },
     "execution_count": 102,
     "metadata": {},
     "output_type": "execute_result"
    }
   ],
   "source": [
    "# Escreva uma função que retorna o resultado de\n",
    "# somar os elementos de cada tuplo presente numa lista de tuplos.\n",
    "\n",
    "def soma(x):\n",
    "    i = 0\n",
    "    for j in x:\n",
    "        i = i + j \n",
    "    return i\n",
    "\n",
    "def somar_tuplos(t): \n",
    "    my_list=[] # acrescenta-se uma lista para retornar no final como lista\n",
    "    for i in t:\n",
    "         my_list.append(soma(i))\n",
    "    return my_list\n",
    "\n",
    "    \n",
    "somar_tuplos([(1,2), (4,6), (8,7)])"
   ]
  },
  {
   "cell_type": "code",
   "execution_count": 117,
   "id": "7c960a43",
   "metadata": {},
   "outputs": [],
   "source": [
    "def aux(x):\n",
    "    i = 0\n",
    "    for j in x:\n",
    "        i = i + j \n",
    "    return i"
   ]
  },
  {
   "cell_type": "code",
   "execution_count": 128,
   "id": "e5a5c2cc",
   "metadata": {
    "tags": []
   },
   "outputs": [
    {
     "data": {
      "text/plain": [
       "[3, 4]"
      ]
     },
     "execution_count": 128,
     "metadata": {},
     "output_type": "execute_result"
    }
   ],
   "source": [
    "# Escreva uma função que recebe uma lista de listas de números \n",
    "# e retorna a sublista que resulta na maior soma.\n",
    "\n",
    "def max_sublista(l):\n",
    "    sum = 0\n",
    "    index = 0\n",
    "    for idx, i in enumerate(l):\n",
    "        soma(i) > sum\n",
    "        sum = soma(i)\n",
    "        index = idx\n",
    "        return l[index]\n",
    "\n",
    "        \n",
    "max_sublista(([3,4], [1,2], [1, 2, 6]))"
   ]
  },
  {
   "cell_type": "markdown",
   "id": "7339f6a5",
   "metadata": {},
   "source": [
    "## Sets"
   ]
  },
  {
   "cell_type": "code",
   "execution_count": 129,
   "id": "0f70e55b",
   "metadata": {},
   "outputs": [
    {
     "data": {
      "text/plain": [
       "set"
      ]
     },
     "execution_count": 129,
     "metadata": {},
     "output_type": "execute_result"
    }
   ],
   "source": [
    "my_set = {1,2,3} #caso não tenha elementos já não se trata de um conjunto, mas␣,sim de um dicionário\n",
    "\n",
    "type(my_set)"
   ]
  },
  {
   "cell_type": "code",
   "execution_count": 130,
   "id": "a24c783f",
   "metadata": {},
   "outputs": [
    {
     "data": {
      "text/plain": [
       "set"
      ]
     },
     "execution_count": 130,
     "metadata": {},
     "output_type": "execute_result"
    }
   ],
   "source": [
    "this_set = set((\"banana\", \"apple\", \"orange\"))\n",
    "\n",
    "type(this_set)"
   ]
  },
  {
   "cell_type": "code",
   "execution_count": 131,
   "id": "d66f5f18",
   "metadata": {},
   "outputs": [
    {
     "data": {
      "text/plain": [
       "{'tree'}"
      ]
     },
     "execution_count": 131,
     "metadata": {},
     "output_type": "execute_result"
    }
   ],
   "source": [
    "no_duplicates_set = {\"tree\", \"tree\"}\n",
    "\n",
    "no_duplicates_set"
   ]
  },
  {
   "cell_type": "code",
   "execution_count": 132,
   "id": "4311ee2b",
   "metadata": {},
   "outputs": [
    {
     "data": {
      "text/plain": [
       "{'Beyoncé', 'Lady Gaga', 'Shakira'}"
      ]
     },
     "execution_count": 132,
     "metadata": {},
     "output_type": "execute_result"
    }
   ],
   "source": [
    "singers = {\"Lady Gaga\", \"Shakira\"}\n",
    "\n",
    "singers.add(\"Beyoncé\")\n",
    "singers"
   ]
  },
  {
   "cell_type": "code",
   "execution_count": 133,
   "id": "120f5894",
   "metadata": {},
   "outputs": [
    {
     "data": {
      "text/plain": [
       "{'Maroon 5', 'Nirvana', 'Queen', 'The Script'}"
      ]
     },
     "execution_count": 133,
     "metadata": {},
     "output_type": "execute_result"
    }
   ],
   "source": [
    "bands = {\"Maroon 5\", \"The Script\"}\n",
    "\n",
    "dead_bands = {\"Nirvana\", \"Queen\"} #também poderia ser uma lista, por exemplo\n",
    "\n",
    "bands.update(dead_bands)\n",
    "\n",
    "bands"
   ]
  },
  {
   "cell_type": "code",
   "execution_count": 134,
   "id": "3ade19f3",
   "metadata": {},
   "outputs": [
    {
     "data": {
      "text/plain": [
       "{'bracelet', 'earring'}"
      ]
     },
     "execution_count": 134,
     "metadata": {},
     "output_type": "execute_result"
    }
   ],
   "source": [
    "jewelry = {\"ring\", \"earring\", \"bracelet\"}\n",
    "jewelry.remove(\"ring\")\n",
    "jewelry"
   ]
  },
  {
   "cell_type": "markdown",
   "id": "2eb51e3a",
   "metadata": {},
   "source": [
    "### juntar sets"
   ]
  },
  {
   "cell_type": "code",
   "execution_count": 135,
   "id": "6ff79de9",
   "metadata": {},
   "outputs": [
    {
     "data": {
      "text/plain": [
       "{'Cindy Sherman', 'Liu Xiaodong', 'Pablo Picasso', 'Vincent van Gogh'}"
      ]
     },
     "execution_count": 135,
     "metadata": {},
     "output_type": "execute_result"
    }
   ],
   "source": [
    "living_painters = {\"Cindy Sherman\", \"Liu Xiaodong\"}\n",
    "dead_painters = {\"Vincent van Gogh\", \"Pablo Picasso\"}\n",
    "painters = living_painters.union(dead_painters)\n",
    "\n",
    "painters"
   ]
  },
  {
   "cell_type": "code",
   "execution_count": 136,
   "id": "bcb9271d",
   "metadata": {},
   "outputs": [
    {
     "data": {
      "text/plain": [
       "{'apple'}"
      ]
     },
     "execution_count": 136,
     "metadata": {},
     "output_type": "execute_result"
    }
   ],
   "source": [
    "it_brands = {\"microsoft\", \"apple\", \"google\"}\n",
    "fruits = {\"apple\", \"cherry\", \"strawberry\"}\n",
    "\n",
    "it_brands.intersection_update(fruits)\n",
    "\n",
    "it_brands"
   ]
  },
  {
   "cell_type": "code",
   "execution_count": 137,
   "id": "26a9aa48",
   "metadata": {},
   "outputs": [
    {
     "data": {
      "text/plain": [
       "{'ducati'}"
      ]
     },
     "execution_count": 137,
     "metadata": {},
     "output_type": "execute_result"
    }
   ],
   "source": [
    "motorcycle_brands = {\"ducati\", \"yamaha\"}\n",
    "piano_brands = {\"yamaha\"}\n",
    "\n",
    "motorcycle_brands.symmetric_difference_update(piano_brands)\n",
    "\n",
    "motorcycle_brands"
   ]
  },
  {
   "cell_type": "code",
   "execution_count": 139,
   "id": "bf1cd931",
   "metadata": {},
   "outputs": [
    {
     "data": {
      "text/plain": [
       "{'chocolate', 'strawberry'}"
      ]
     },
     "execution_count": 139,
     "metadata": {},
     "output_type": "execute_result"
    }
   ],
   "source": [
    "chocolate_cake_ingredients = {\"eggs\", \"sugar\", \"flour\", \"chocolate\"}\n",
    "\n",
    "strawberry_cake_ingredients = {\"eggs\", \"sugar\", \"flour\", \"strawberry\"}\n",
    "\n",
    "flavours = chocolate_cake_ingredients.symmetric_difference(strawberry_cake_ingredients)\n",
    "\n",
    "flavours"
   ]
  },
  {
   "cell_type": "code",
   "execution_count": 140,
   "id": "a631b4c9",
   "metadata": {},
   "outputs": [
    {
     "data": {
      "text/plain": [
       "True"
      ]
     },
     "execution_count": 140,
     "metadata": {},
     "output_type": "execute_result"
    }
   ],
   "source": [
    "s1 = {\"a\", \"b\", \"c\", \"d\", \"e\"}\n",
    "s2 = {\"a\", \"b\"}\n",
    "\n",
    "s1.issuperset(s2)"
   ]
  },
  {
   "cell_type": "code",
   "execution_count": 141,
   "id": "e09ddfc7",
   "metadata": {},
   "outputs": [
    {
     "data": {
      "text/plain": [
       "True"
      ]
     },
     "execution_count": 141,
     "metadata": {},
     "output_type": "execute_result"
    }
   ],
   "source": [
    "set1 = {1,2}\n",
    "set2 = {1,2,3,4}\n",
    "\n",
    "set1.issubset(set2)"
   ]
  },
  {
   "cell_type": "code",
   "execution_count": 142,
   "id": "5b4fe134",
   "metadata": {},
   "outputs": [
    {
     "data": {
      "text/plain": [
       "False"
      ]
     },
     "execution_count": 142,
     "metadata": {},
     "output_type": "execute_result"
    }
   ],
   "source": [
    "first_set = {True, False}\n",
    "second_set = {False}\n",
    "\n",
    "first_set.isdisjoint(second_set)"
   ]
  },
  {
   "cell_type": "code",
   "execution_count": 143,
   "id": "b117a3e2",
   "metadata": {},
   "outputs": [
    {
     "data": {
      "text/plain": [
       "{'ball'}"
      ]
     },
     "execution_count": 143,
     "metadata": {},
     "output_type": "execute_result"
    }
   ],
   "source": [
    "original_set = {\"ball\"}\n",
    "copied_set = original_set.copy()\n",
    "\n",
    "copied_set"
   ]
  },
  {
   "cell_type": "code",
   "execution_count": 144,
   "id": "6e3e1948",
   "metadata": {},
   "outputs": [
    {
     "data": {
      "text/plain": [
       "{3.45}"
      ]
     },
     "execution_count": 144,
     "metadata": {},
     "output_type": "execute_result"
    }
   ],
   "source": [
    "a = {1.5, 3.45}\n",
    "b = {4.75, 1.5}\n",
    "\n",
    "c = a.difference(b)\n",
    "\n",
    "c"
   ]
  },
  {
   "cell_type": "code",
   "execution_count": 145,
   "id": "398eb68a",
   "metadata": {},
   "outputs": [
    {
     "data": {
      "text/plain": [
       "{True}"
      ]
     },
     "execution_count": 145,
     "metadata": {},
     "output_type": "execute_result"
    }
   ],
   "source": [
    "d = {True, 3}\n",
    "e = {3, 4}\n",
    "\n",
    "d.difference_update(e)\n",
    "\n",
    "d"
   ]
  },
  {
   "cell_type": "code",
   "execution_count": 158,
   "id": "38e51a88",
   "metadata": {},
   "outputs": [
    {
     "data": {
      "text/plain": [
       "{1, 3}"
      ]
     },
     "execution_count": 158,
     "metadata": {},
     "output_type": "execute_result"
    }
   ],
   "source": [
    "# Escreva uma função que retorna um conjunto com os elementos \n",
    "# que existem apenas no primeiro conjunto e \n",
    "# não no segundo conjunto.\n",
    "\n",
    "def diff(s1, s2):\n",
    "    c = s1.difference(s2)\n",
    "    return c\n",
    "    \n",
    "diff({1,2,3}, {4,5,2})\n",
    "\n",
    "\n",
    "# tambem dava s1 - s2"
   ]
  }
 ],
 "metadata": {
  "kernelspec": {
   "display_name": "Python 3",
   "language": "python",
   "name": "python3"
  },
  "language_info": {
   "codemirror_mode": {
    "name": "ipython",
    "version": 3
   },
   "file_extension": ".py",
   "mimetype": "text/x-python",
   "name": "python",
   "nbconvert_exporter": "python",
   "pygments_lexer": "ipython3",
   "version": "3.8.8"
  }
 },
 "nbformat": 4,
 "nbformat_minor": 5
}
