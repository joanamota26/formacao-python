{
 "cells": [
  {
   "cell_type": "markdown",
   "metadata": {},
   "source": [
    "### 1. String exercise\n",
    "\n",
    "Given the two variables below, you'll have to concatenate them and find a way to get the following back:\n",
    "\n",
    "> YAY! I, `your name here`, have successfully completed this exercise!"
   ]
  },
  {
   "cell_type": "code",
   "execution_count": null,
   "metadata": {},
   "outputs": [],
   "source": [
    "x = 'yay'\n",
    "y = \"I, Ricardo, have successfully completed this exercise!\""
   ]
  },
  {
   "cell_type": "code",
   "execution_count": null,
   "metadata": {},
   "outputs": [],
   "source": [
    "# write your solution here\n",
    "# create a variable called my_phrase to save it\n",
    "my_phrase = ''"
   ]
  },
  {
   "cell_type": "code",
   "execution_count": null,
   "metadata": {},
   "outputs": [],
   "source": [
    "# print your solution\n",
    "print(my_phrase)"
   ]
  },
  {
   "cell_type": "markdown",
   "metadata": {},
   "source": [
    "### 2. Lists exercise\n",
    "\n",
    "- Make an empty list and assign to variable `fav_foods`\n",
    "- add two items \n",
    "- print the 2nd item\n",
    "- remove the first item"
   ]
  },
  {
   "cell_type": "code",
   "execution_count": null,
   "metadata": {},
   "outputs": [],
   "source": [
    "# make an empty list and assign to variable `fav_foods`\n"
   ]
  },
  {
   "cell_type": "code",
   "execution_count": null,
   "metadata": {},
   "outputs": [],
   "source": [
    "# add one item\n"
   ]
  },
  {
   "cell_type": "code",
   "execution_count": null,
   "metadata": {},
   "outputs": [],
   "source": [
    "# add second item\n"
   ]
  },
  {
   "cell_type": "code",
   "execution_count": null,
   "metadata": {},
   "outputs": [],
   "source": [
    "# print the 2nd item\n"
   ]
  },
  {
   "cell_type": "code",
   "execution_count": null,
   "metadata": {},
   "outputs": [],
   "source": [
    "# remove the first item\n"
   ]
  },
  {
   "cell_type": "markdown",
   "metadata": {},
   "source": [
    "### 3. Lists exercise 2\n",
    "\n",
    "Given the list stored in the variable `bag_words`:\n",
    "\n",
    "1. Extract the following four words: `damn` `I'm` `so` `pythonic`\n",
    "2. Used them to build the following sentence: **Damn...I'm so pythonic!**"
   ]
  },
  {
   "cell_type": "code",
   "execution_count": null,
   "metadata": {},
   "outputs": [],
   "source": [
    "bag_words = ['damn', 'blue', 'string', 'I\\'m', 'of', 'tuple', 'pythonic', 'where', 'because', 'so']"
   ]
  },
  {
   "cell_type": "code",
   "execution_count": null,
   "metadata": {},
   "outputs": [],
   "source": [
    "# write your solution here\n",
    "my_phrase = f\"\""
   ]
  },
  {
   "cell_type": "code",
   "execution_count": null,
   "metadata": {},
   "outputs": [],
   "source": [
    "# print your solution\n",
    "print(my_phrase)"
   ]
  },
  {
   "cell_type": "markdown",
   "metadata": {},
   "source": [
    "### 4. Loop exercise"
   ]
  },
  {
   "cell_type": "code",
   "execution_count": null,
   "metadata": {},
   "outputs": [],
   "source": [
    "# take the list below, and print out all the names that start with an 'A':\n",
    "names = ['Ricardo', 'Ana', 'Rita', 'António', 'Sebastião', 'Carolina', 'José', 'Sérgio', 'Anabela']\n",
    "\n",
    "# your solution here\n",
    "\n",
    "\n",
    "\n"
   ]
  },
  {
   "cell_type": "markdown",
   "metadata": {},
   "source": [
    "### 5. Challenge\n",
    "\n",
    "Build a loop that follows the following rules:\n",
    "\n",
    "- Goes from number 1 to 100. (use the `range()` function for this).\n",
    "- For number 3 and each multiple of 3, print \"Fizz\" instead of the number.\n",
    "- For number 5 and each multiple of 5, print \"Buzz\" instead of the number.\n",
    "- For numbers which are multiples of both 3 and 5, print \"FizzBuzz\" instead of the number.\""
   ]
  },
  {
   "cell_type": "code",
   "execution_count": null,
   "metadata": {},
   "outputs": [],
   "source": [
    "# your solution here:\n",
    "\n",
    "\n"
   ]
  },
  {
   "cell_type": "markdown",
   "metadata": {},
   "source": [
    "### 6. Challenge 2: create acronyms automatically\n",
    "\n",
    "The goal is to create acronyms based on user input.\n",
    "\n",
    "Ex: if the user enters `Artificial Intelligence`, the program will output `AI`.\n",
    "\n",
    "To get user input you will use the `input()` function."
   ]
  },
  {
   "cell_type": "code",
   "execution_count": null,
   "metadata": {},
   "outputs": [],
   "source": [
    "message = input('Please enter your message:')\n",
    "\n",
    "# your solution here\n",
    "\n",
    "\n",
    "\n"
   ]
  },
  {
   "cell_type": "markdown",
   "metadata": {},
   "source": [
    "### 7. Functions exercise\n",
    "\n",
    "Remember the loops exercise?\n",
    "\n",
    "Imagine that you'll need to use that piece of code a lot of times, the only change being the letter that you want to search for.\n",
    "\n",
    "Instead of having to write the same code over and over again, you can apply the DRY principle and make a definition/function that you'll be able to use everywhere.\n",
    "\n",
    "Go ahead and make a new function called `starts_with` as we did in the loops exercise, think before coding, and take notes if needed.\n"
   ]
  },
  {
   "cell_type": "code",
   "execution_count": null,
   "metadata": {},
   "outputs": [],
   "source": [
    "first_names = ['Ricardo', 'Ana', 'Rita', 'António', 'Sebastião', 'Carolina', 'José', 'Sérgio', 'Anabela']\n",
    "\n",
    "# your code here:\n",
    "\n",
    "\n",
    "\n",
    "\n",
    "# test your code:\n",
    "starts_with(first_names, 'A')"
   ]
  },
  {
   "cell_type": "markdown",
   "metadata": {},
   "source": [
    "### 8. Variable Scopes exercise\n",
    "\n",
    "**Without running the code**, try to figure out how many `x`'s will be printed and in which order. When you think that you have the answer, verify it by running the code."
   ]
  },
  {
   "cell_type": "code",
   "execution_count": null,
   "metadata": {},
   "outputs": [],
   "source": [
    "x = 'global x'\n",
    "\n",
    "def outer():\n",
    "    x = 'enclosing x'\n",
    "    \n",
    "    def inner(x):\n",
    "        x = 'local x'\n",
    "        print(x)\n",
    "\n",
    "    inner(x)\n",
    "    print(x)\n",
    "\n",
    "outer()\n",
    "print(x)"
   ]
  },
  {
   "cell_type": "markdown",
   "metadata": {},
   "source": [
    "### 9. Data classes exercise\n",
    "\n",
    "Given the data class and the code below, can you think of a way to include the field metadata if we print the instance?\n",
    "\n",
    "````python\n",
    "from dataclasses import dataclass, field, fields\n",
    "from typing import Any\n",
    "\n",
    "@dataclass\n",
    "class DataClassGamer:\n",
    "    rank: Any = field(default='Last', metadata={'description': 'The current position of the player.'}) # our configuration\n",
    "    team: str = 'Solo'\n",
    "        \n",
    "gamer = DataClassGamer()\n",
    "\n",
    "# to access the metadata:\n",
    "#gamer.__dataclass_fields__['rank'].metadata['description']\n",
    "\n",
    "print(gamer) # we need the metadata printed here...\n",
    "````"
   ]
  },
  {
   "cell_type": "code",
   "execution_count": null,
   "metadata": {},
   "outputs": [],
   "source": [
    "from dataclasses import dataclass, field, fields\n",
    "from typing import Any\n",
    "\n",
    "@dataclass\n",
    "class DataClassGamer:\n",
    "    rank: Any = field(default='Last', metadata={'description': 'The current position of the player.'}) # our configuration\n",
    "    team: str = 'Solo'\n",
    "    \n",
    "    # Hint: your solution code should be here\n",
    "\n",
    "    \n",
    "\n",
    "gamer = DataClassGamer()\n",
    "print(gamer)"
   ]
  },
  {
   "cell_type": "markdown",
   "metadata": {},
   "source": [
    "### 10. Functional programming exercise\n",
    "\n",
    "We're seen in the slide how to replace `map()` with a list comprehension. Given the code below, how could we replace both `map()` and `filter()` using a single list comprehension?"
   ]
  },
  {
   "cell_type": "code",
   "execution_count": null,
   "metadata": {},
   "outputs": [],
   "source": [
    "import math\n",
    "\n",
    "nums = [25, 9, 81, -16, 0]\n",
    "\n",
    "def is_positive(num):\n",
    "    return num > 0\n",
    "\n",
    "# the map/filter approach\n",
    "sqr_roots = map(math.sqrt, filter(is_positive, nums))\n",
    "print(list(sqr_roots))\n",
    "\n",
    "# the list comprehension approach:\n",
    "# sqr_roots =\n",
    "# print(sqr_roots)"
   ]
  }
 ],
 "metadata": {
  "kernelspec": {
   "display_name": "Python 3",
   "language": "python",
   "name": "python3"
  },
  "language_info": {
   "codemirror_mode": {
    "name": "ipython",
    "version": 3
   },
   "file_extension": ".py",
   "mimetype": "text/x-python",
   "name": "python",
   "nbconvert_exporter": "python",
   "pygments_lexer": "ipython3",
   "version": "3.8.8"
  }
 },
 "nbformat": 4,
 "nbformat_minor": 4
}
