{
 "cells": [
  {
   "cell_type": "markdown",
   "id": "incredible-victor",
   "metadata": {},
   "source": [
    "# Aula 5"
   ]
  },
  {
   "cell_type": "markdown",
   "id": "early-terrorist",
   "metadata": {},
   "source": [
    "# Variables scope\n",
    "\n",
    "\n",
    "O escopo é importante porque precisamos entendê-lo em quase todos os programas que escrevemos.\n",
    "\n",
    "Isto permite-nos entender onde é que as nossas variáveis podem ser vistas dentro do programa e também quais os valores que essas variáveis contêm\n",
    "\n",
    "As variáveis podem ser de quatro tipos: integradas, globais, envolventes ou locais\n",
    "\n",
    "Esta também é a ordem que o python usa para avaliar uma variável."
   ]
  },
  {
   "cell_type": "code",
   "execution_count": 3,
   "id": "spanish-peter",
   "metadata": {
    "collapsed": true,
    "jupyter": {
     "outputs_hidden": true
    },
    "tags": []
   },
   "outputs": [
    {
     "data": {
      "text/plain": [
       "Copyright (c) 2001-2021 Python Software Foundation.\n",
       "All Rights Reserved.\n",
       "\n",
       "Copyright (c) 2000 BeOpen.com.\n",
       "All Rights Reserved.\n",
       "\n",
       "Copyright (c) 1995-2001 Corporation for National Research Initiatives.\n",
       "All Rights Reserved.\n",
       "\n",
       "Copyright (c) 1991-1995 Stichting Mathematisch Centrum, Amsterdam.\n",
       "All Rights Reserved."
      ]
     },
     "execution_count": 3,
     "metadata": {},
     "output_type": "execute_result"
    }
   ],
   "source": [
    "# variáveis embutidas são todas as variáveis carregadas pelo próprio python para serem usadas\n",
    "\n",
    "copyright"
   ]
  },
  {
   "cell_type": "code",
   "execution_count": 5,
   "id": "combined-currency",
   "metadata": {},
   "outputs": [
    {
     "name": "stdout",
     "output_type": "stream",
     "text": [
      "global x\n"
     ]
    }
   ],
   "source": [
    "# qual será o valor x?\n",
    "x = 'global x'\n",
    "\n",
    "def test():\n",
    "    x = 'local x'\n",
    "    print(x)\n",
    "    \n",
    "print(x)"
   ]
  },
  {
   "cell_type": "code",
   "execution_count": 6,
   "id": "reserved-charlotte",
   "metadata": {},
   "outputs": [
    {
     "name": "stdout",
     "output_type": "stream",
     "text": [
      "enclosing x\n"
     ]
    }
   ],
   "source": [
    "x = 'global x'\n",
    "\n",
    "def outer():\n",
    "    x = 'enclosing x'\n",
    "    \n",
    "    def inner(x):\n",
    "        x = 'local x'\n",
    "        print(x)\n",
    "        \n",
    "    print(x)\n",
    "    \n",
    "outer()"
   ]
  },
  {
   "cell_type": "code",
   "execution_count": 7,
   "id": "together-queensland",
   "metadata": {},
   "outputs": [
    {
     "name": "stdout",
     "output_type": "stream",
     "text": [
      "local x\n"
     ]
    }
   ],
   "source": [
    "x = 'global x'\n",
    "\n",
    "def outer():\n",
    "    x = 'enclosing x'\n",
    "    \n",
    "    def inner():\n",
    "        x = 'local x'\n",
    "        print(x)\n",
    "    \n",
    "    inner()\n",
    "\n",
    "outer()"
   ]
  },
  {
   "cell_type": "markdown",
   "id": "pressing-commonwealth",
   "metadata": {},
   "source": [
    "## Exercicio \n",
    "\n",
    "Descobrir quantos `x`s serão imprimidos e em que ordem."
   ]
  },
  {
   "cell_type": "code",
   "execution_count": 9,
   "id": "promising-spice",
   "metadata": {},
   "outputs": [
    {
     "name": "stdout",
     "output_type": "stream",
     "text": [
      "local x\n",
      "enclosing x\n",
      "global x\n"
     ]
    }
   ],
   "source": [
    "x = 'global x'\n",
    "\n",
    "def outer():\n",
    "    x = 'enclosing x'\n",
    "    \n",
    "    def inner(x):\n",
    "        x = 'local x'\n",
    "        print(x)\n",
    "\n",
    "    inner(x)\n",
    "    print(x)\n",
    "\n",
    "outer()\n",
    "print(x)"
   ]
  },
  {
   "cell_type": "markdown",
   "id": "assured-scale",
   "metadata": {},
   "source": [
    "# json\n",
    "\n",
    "O módulo json está disponivel em python"
   ]
  },
  {
   "cell_type": "code",
   "execution_count": 10,
   "id": "exotic-cologne",
   "metadata": {},
   "outputs": [],
   "source": [
    "import json\n",
    "\n",
    "\n",
    "# e adicionar algo\n",
    "\n",
    "people_string = '''\n",
    "{\n",
    "    \"people\": [\n",
    "        {\n",
    "            \"name\": \"John Smith\",\n",
    "            \"phone\": \"615-555-7164\",\n",
    "            \"emails\": [\"john@bogus.com\", \"johm@work.com\"],\n",
    "            \"has_license\": false\n",
    "        },\n",
    "        {\n",
    "            \"name\": \"Jane Doe\",\n",
    "            \"phone\": \"615-666-7164\",\n",
    "            \"emails\": null,\n",
    "            \"has_license\": true\n",
    "        }\n",
    "    ]\n",
    "}\n",
    "'''\n",
    "\n",
    "# Vamos converter essa string num objeto Python, para que possamos trabalhar com ela:\n",
    "\n",
    "json.loads(people_string)\n",
    "data = json.loads(people_string)\n"
   ]
  },
  {
   "cell_type": "code",
   "execution_count": 8,
   "id": "hollywood-artist",
   "metadata": {
    "tags": []
   },
   "outputs": [
    {
     "data": {
      "text/plain": [
       "dict"
      ]
     },
     "execution_count": 8,
     "metadata": {},
     "output_type": "execute_result"
    }
   ],
   "source": [
    "#Converteu todo o objeto json num dicionário:\n",
    "type(data)"
   ]
  },
  {
   "cell_type": "code",
   "execution_count": 9,
   "id": "turned-supplement",
   "metadata": {},
   "outputs": [
    {
     "data": {
      "text/plain": [
       "['john@bogus.com', 'johm@work.com']"
      ]
     },
     "execution_count": 9,
     "metadata": {},
     "output_type": "execute_result"
    }
   ],
   "source": [
    "# Matrizes json convertidas (os e-mails) em listas\n",
    "data['people'][0]['emails']"
   ]
  },
  {
   "cell_type": "markdown",
   "id": "planned-sugar",
   "metadata": {},
   "source": [
    "Verdadeiro, falso e nulo convertidos em booleanos python e valor nulo: verdadeiro, falso e nenhum"
   ]
  },
  {
   "cell_type": "code",
   "execution_count": 11,
   "id": "unable-shoot",
   "metadata": {},
   "outputs": [
    {
     "name": "stdout",
     "output_type": "stream",
     "text": [
      "John Smith\n",
      "Jane Doe\n"
     ]
    }
   ],
   "source": [
    "# Agora será muito mais fácil trabalhar com estes dados\n",
    "# Vamos percorrer estas pessoas e acessá-las:\n",
    "\n",
    "for person in data['people']:\n",
    "    print(person['name'])"
   ]
  },
  {
   "cell_type": "code",
   "execution_count": 12,
   "id": "defined-crime",
   "metadata": {
    "tags": []
   },
   "outputs": [
    {
     "name": "stdout",
     "output_type": "stream",
     "text": [
      "{\"people\": [{\"name\": \"John Smith\", \"emails\": [\"john@bogus.com\", \"johm@work.com\"], \"has_license\": false}, {\"name\": \"Jane Doe\", \"emails\": null, \"has_license\": true}]}\n"
     ]
    }
   ],
   "source": [
    "# Agora vamos fazer o oposto: transformar nosso dicionário python em um objeto json\n",
    "# Vamos usar estes dados, mas vamos limpá-los. Imagine que não queríamos o número de telefone no novo objeto json\n",
    "\n",
    "for person in data['people']:\n",
    "    del(person['phone'])\n",
    "\n",
    "new_string = json.dumps(data)\n",
    "print(new_string)"
   ]
  },
  {
   "cell_type": "code",
   "execution_count": null,
   "id": "tight-image",
   "metadata": {},
   "outputs": [],
   "source": [
    "# # Vamos limpar de uma forma mais legível e com chaves classificadas:\n",
    "new_string = json.dumps(data, indent=2, sort_keys=True)\n",
    "print(new_string)"
   ]
  },
  {
   "cell_type": "markdown",
   "id": "national-figure",
   "metadata": {},
   "source": [
    "# data analysis"
   ]
  },
  {
   "cell_type": "code",
   "execution_count": 19,
   "id": "found-photography",
   "metadata": {},
   "outputs": [],
   "source": [
    "import numpy as np\n",
    "import pandas as pd\n",
    "import matplotlib.pyplot as plt\n",
    "import os"
   ]
  },
  {
   "cell_type": "code",
   "execution_count": 17,
   "id": "occupied-consensus",
   "metadata": {
    "tags": []
   },
   "outputs": [],
   "source": [
    "# carregar o arquivo de dados\n",
    "data_file = pd.read_csv('flights.csv')\n",
    "\n",
    "#data_file = pd.read_excel('data_with_headers.xlsx')"
   ]
  },
  {
   "cell_type": "code",
   "execution_count": 18,
   "id": "correct-fetish",
   "metadata": {
    "tags": []
   },
   "outputs": [
    {
     "data": {
      "text/html": [
       "<div>\n",
       "<style scoped>\n",
       "    .dataframe tbody tr th:only-of-type {\n",
       "        vertical-align: middle;\n",
       "    }\n",
       "\n",
       "    .dataframe tbody tr th {\n",
       "        vertical-align: top;\n",
       "    }\n",
       "\n",
       "    .dataframe thead th {\n",
       "        text-align: right;\n",
       "    }\n",
       "</style>\n",
       "<table border=\"1\" class=\"dataframe\">\n",
       "  <thead>\n",
       "    <tr style=\"text-align: right;\">\n",
       "      <th></th>\n",
       "      <th>Year</th>\n",
       "      <th>Month</th>\n",
       "      <th>DayofMonth</th>\n",
       "      <th>DayOfWeek</th>\n",
       "      <th>DepTime</th>\n",
       "      <th>CRSDepTime</th>\n",
       "      <th>ArrTime</th>\n",
       "      <th>CRSArrTime</th>\n",
       "      <th>UniqueCarrier</th>\n",
       "      <th>FlightNum</th>\n",
       "      <th>...</th>\n",
       "      <th>TaxiIn</th>\n",
       "      <th>TaxiOut</th>\n",
       "      <th>Cancelled</th>\n",
       "      <th>CancellationCode</th>\n",
       "      <th>Diverted</th>\n",
       "      <th>CarrierDelay</th>\n",
       "      <th>WeatherDelay</th>\n",
       "      <th>NASDelay</th>\n",
       "      <th>SecurityDelay</th>\n",
       "      <th>LateAircraftDelay</th>\n",
       "    </tr>\n",
       "  </thead>\n",
       "  <tbody>\n",
       "    <tr>\n",
       "      <th>0</th>\n",
       "      <td>2008</td>\n",
       "      <td>1</td>\n",
       "      <td>3</td>\n",
       "      <td>4</td>\n",
       "      <td>2003.0</td>\n",
       "      <td>1955</td>\n",
       "      <td>2211.0</td>\n",
       "      <td>2225</td>\n",
       "      <td>WN</td>\n",
       "      <td>335</td>\n",
       "      <td>...</td>\n",
       "      <td>4.0</td>\n",
       "      <td>8.0</td>\n",
       "      <td>0</td>\n",
       "      <td>NaN</td>\n",
       "      <td>0</td>\n",
       "      <td>NaN</td>\n",
       "      <td>NaN</td>\n",
       "      <td>NaN</td>\n",
       "      <td>NaN</td>\n",
       "      <td>NaN</td>\n",
       "    </tr>\n",
       "    <tr>\n",
       "      <th>1</th>\n",
       "      <td>2008</td>\n",
       "      <td>1</td>\n",
       "      <td>3</td>\n",
       "      <td>4</td>\n",
       "      <td>754.0</td>\n",
       "      <td>735</td>\n",
       "      <td>1002.0</td>\n",
       "      <td>1000</td>\n",
       "      <td>WN</td>\n",
       "      <td>3231</td>\n",
       "      <td>...</td>\n",
       "      <td>5.0</td>\n",
       "      <td>10.0</td>\n",
       "      <td>0</td>\n",
       "      <td>NaN</td>\n",
       "      <td>0</td>\n",
       "      <td>NaN</td>\n",
       "      <td>NaN</td>\n",
       "      <td>NaN</td>\n",
       "      <td>NaN</td>\n",
       "      <td>NaN</td>\n",
       "    </tr>\n",
       "    <tr>\n",
       "      <th>2</th>\n",
       "      <td>2008</td>\n",
       "      <td>1</td>\n",
       "      <td>3</td>\n",
       "      <td>4</td>\n",
       "      <td>628.0</td>\n",
       "      <td>620</td>\n",
       "      <td>804.0</td>\n",
       "      <td>750</td>\n",
       "      <td>WN</td>\n",
       "      <td>448</td>\n",
       "      <td>...</td>\n",
       "      <td>3.0</td>\n",
       "      <td>17.0</td>\n",
       "      <td>0</td>\n",
       "      <td>NaN</td>\n",
       "      <td>0</td>\n",
       "      <td>NaN</td>\n",
       "      <td>NaN</td>\n",
       "      <td>NaN</td>\n",
       "      <td>NaN</td>\n",
       "      <td>NaN</td>\n",
       "    </tr>\n",
       "  </tbody>\n",
       "</table>\n",
       "<p>3 rows × 29 columns</p>\n",
       "</div>"
      ],
      "text/plain": [
       "   Year  Month  DayofMonth  DayOfWeek  DepTime  CRSDepTime  ArrTime  \\\n",
       "0  2008      1           3          4   2003.0        1955   2211.0   \n",
       "1  2008      1           3          4    754.0         735   1002.0   \n",
       "2  2008      1           3          4    628.0         620    804.0   \n",
       "\n",
       "   CRSArrTime UniqueCarrier  FlightNum  ... TaxiIn  TaxiOut  Cancelled  \\\n",
       "0        2225            WN        335  ...    4.0      8.0          0   \n",
       "1        1000            WN       3231  ...    5.0     10.0          0   \n",
       "2         750            WN        448  ...    3.0     17.0          0   \n",
       "\n",
       "   CancellationCode  Diverted  CarrierDelay WeatherDelay NASDelay  \\\n",
       "0               NaN         0           NaN          NaN      NaN   \n",
       "1               NaN         0           NaN          NaN      NaN   \n",
       "2               NaN         0           NaN          NaN      NaN   \n",
       "\n",
       "   SecurityDelay  LateAircraftDelay  \n",
       "0            NaN                NaN  \n",
       "1            NaN                NaN  \n",
       "2            NaN                NaN  \n",
       "\n",
       "[3 rows x 29 columns]"
      ]
     },
     "execution_count": 18,
     "metadata": {},
     "output_type": "execute_result"
    }
   ],
   "source": [
    "#print(data_file[0:3])\n",
    "data_file.head(3)"
   ]
  },
  {
   "cell_type": "code",
   "execution_count": 24,
   "id": "wooden-nigeria",
   "metadata": {},
   "outputs": [
    {
     "name": "stdout",
     "output_type": "stream",
     "text": [
      "0    2008\n",
      "1    2008\n",
      "2    2008\n",
      "Name: Year, dtype: int64\n"
     ]
    }
   ],
   "source": [
    "# Vamos analisar a coluna de tempo\n",
    "Year = data_file['Year']\n",
    "print(Year[:3])"
   ]
  },
  {
   "cell_type": "code",
   "execution_count": null,
   "id": "understanding-ireland",
   "metadata": {},
   "outputs": [],
   "source": [
    "# Vamos livrar das colunas sem dados (NaN's)\n",
    "sensors = data_file.loc[:, 's1':'s4']\n",
    "print(sensors[:3])"
   ]
  },
  {
   "cell_type": "code",
   "execution_count": null,
   "id": "involved-albuquerque",
   "metadata": {},
   "outputs": [],
   "source": [
    "#Vamos obter a média de cada linha e de cada coluna:\n",
    "avg_row = np.mean(sensors, 1)\n",
    "avg_col = np.mean(sensors, 0)\n",
    "print(avg_row[:3])\n",
    "print()\n",
    "print(avg_col)"
   ]
  },
  {
   "cell_type": "code",
   "execution_count": null,
   "id": "double-baking",
   "metadata": {},
   "outputs": [],
   "source": [
    "# Vamos juntar as colunas novamente:\n",
    "join_cols = [time, sensors, avg_row]\n",
    "final_data = pd.concat(join_cols, axis = 1)\n",
    "print(final_data[:3])"
   ]
  },
  {
   "cell_type": "code",
   "execution_count": null,
   "id": "complex-thailand",
   "metadata": {},
   "outputs": [],
   "source": [
    "# Vamos dar um título de cabeçalho para nossa coluna avg_row:\n",
    "final_data = final_data.rename(columns={0: 'Avg'})\n",
    "print(final_data[:300])"
   ]
  },
  {
   "cell_type": "code",
   "execution_count": null,
   "id": "focused-artwork",
   "metadata": {},
   "outputs": [],
   "source": [
    "# exportar dados\n",
    "final_data.to_csv('final_data.csv')\n",
    "\n",
    "#final_data.to_excel('final_data.xlsx')\n",
    "#final_data.to_html('final_data.htm')\n",
    "#final_data.to_clipboard("
   ]
  },
  {
   "cell_type": "code",
   "execution_count": null,
   "id": "lesser-postcard",
   "metadata": {},
   "outputs": [],
   "source": [
    "# gerar uma figura\n",
    "plt.figure(1)\n",
    "plt.plot(time,sensors['s1'],'r-')\n",
    "plt.plot(time,avg_row,'b.');"
   ]
  },
  {
   "cell_type": "code",
   "execution_count": null,
   "id": "romance-coral",
   "metadata": {},
   "outputs": [],
   "source": [
    "# adicionar legendas na figura\n",
    "plt.figure(1)\n",
    "plt.plot(time,sensors['s1'],'r-')\n",
    "plt.plot(time,avg_row,'b.')\n",
    "plt.legend(['Sensor 1','Average'])\n",
    "plt.xlabel('Time (sec)')\n",
    "plt.ylabel('Sensor Values')"
   ]
  },
  {
   "cell_type": "code",
   "execution_count": null,
   "id": "attractive-internship",
   "metadata": {},
   "outputs": [],
   "source": [
    "# salvar a imagem em PNG\n",
    "plt.figure(1)\n",
    "plt.plot(time,sensors['s1'],'r-')\n",
    "plt.plot(time,avg_row,'b.')\n",
    "plt.legend(['Sensor 2','Average'])\n",
    "plt.xlabel('Time (sec)')\n",
    "plt.ylabel('Sensor Values')\n",
    "plt.savefig(f'{os.getcwd()}/figures/my_Python_plot.png')"
   ]
  }
 ],
 "metadata": {
  "kernelspec": {
   "display_name": "Python 3",
   "language": "python",
   "name": "python3"
  },
  "language_info": {
   "codemirror_mode": {
    "name": "ipython",
    "version": 3
   },
   "file_extension": ".py",
   "mimetype": "text/x-python",
   "name": "python",
   "nbconvert_exporter": "python",
   "pygments_lexer": "ipython3",
   "version": "3.8.8"
  }
 },
 "nbformat": 4,
 "nbformat_minor": 5
}
