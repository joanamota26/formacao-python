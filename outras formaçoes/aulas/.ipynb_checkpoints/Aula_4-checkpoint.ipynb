{
 "cells": [
  {
   "cell_type": "markdown",
   "id": "imposed-hunger",
   "metadata": {},
   "source": [
    "# Aula 4"
   ]
  },
  {
   "cell_type": "markdown",
   "id": "competitive-galaxy",
   "metadata": {},
   "source": [
    "### 5. Challenge\n",
    "\n",
    "Build a loop that follows the following rules:\n",
    "\n",
    "- Goes from number 1 to 100. (use the `range()` function for this).\n",
    "- For number 3 and each multiple of 3, print \"Fizz\" instead of the number.\n",
    "- For number 5 and each multiple of 5, print \"Buzz\" instead of the number.\n",
    "- For numbers which are multiples of both 3 and 5, print \"FizzBuzz\" instead of the number.\""
   ]
  },
  {
   "cell_type": "code",
   "execution_count": 8,
   "id": "pharmaceutical-convert",
   "metadata": {
    "collapsed": true,
    "jupyter": {
     "outputs_hidden": true
    },
    "tags": []
   },
   "outputs": [
    {
     "name": "stdout",
     "output_type": "stream",
     "text": [
      "1\n",
      "2\n",
      "fizz\n",
      "4\n",
      "buzz\n",
      "fizz\n",
      "7\n",
      "8\n",
      "fizz\n",
      "buzz\n",
      "11\n",
      "fizz\n",
      "13\n",
      "14\n",
      "fizzbuzz\n",
      "16\n",
      "17\n",
      "fizz\n",
      "19\n",
      "buzz\n",
      "fizz\n",
      "22\n",
      "23\n",
      "fizz\n",
      "buzz\n",
      "26\n",
      "fizz\n",
      "28\n",
      "29\n",
      "fizzbuzz\n",
      "31\n",
      "32\n",
      "fizz\n",
      "34\n",
      "buzz\n",
      "fizz\n",
      "37\n",
      "38\n",
      "fizz\n",
      "buzz\n",
      "41\n",
      "fizz\n",
      "43\n",
      "44\n",
      "fizzbuzz\n",
      "46\n",
      "47\n",
      "fizz\n",
      "49\n",
      "buzz\n",
      "fizz\n",
      "52\n",
      "53\n",
      "fizz\n",
      "buzz\n",
      "56\n",
      "fizz\n",
      "58\n",
      "59\n",
      "fizzbuzz\n",
      "61\n",
      "62\n",
      "fizz\n",
      "64\n",
      "buzz\n",
      "fizz\n",
      "67\n",
      "68\n",
      "fizz\n",
      "buzz\n",
      "71\n",
      "fizz\n",
      "73\n",
      "74\n",
      "fizzbuzz\n",
      "76\n",
      "77\n",
      "fizz\n",
      "79\n",
      "buzz\n",
      "fizz\n",
      "82\n",
      "83\n",
      "fizz\n",
      "buzz\n",
      "86\n",
      "fizz\n",
      "88\n",
      "89\n",
      "fizzbuzz\n",
      "91\n",
      "92\n",
      "fizz\n",
      "94\n",
      "buzz\n",
      "fizz\n",
      "97\n",
      "98\n",
      "fizz\n",
      "buzz\n"
     ]
    }
   ],
   "source": [
    "# para ir de 1 a 100 --> for i in range(1, 101)\n",
    "# multiplos de 3 --> i % 3 == 0\n",
    "# multiplos de 5 --> i % 5 == 0\n",
    "for i in range(1, 101):\n",
    "    if i % 3 == 0 and i % 5 == 0:\n",
    "        print('fizzbuzz')\n",
    "    elif i % 3 == 0:\n",
    "        print('fizz')\n",
    "    elif i % 5 == 0:\n",
    "        print('buzz')\n",
    "    else:\n",
    "        print(i)\n",
    "     "
   ]
  },
  {
   "cell_type": "markdown",
   "id": "structured-princeton",
   "metadata": {},
   "source": [
    "## funções"
   ]
  },
  {
   "cell_type": "code",
   "execution_count": 11,
   "id": "preceding-intranet",
   "metadata": {},
   "outputs": [
    {
     "name": "stdout",
     "output_type": "stream",
     "text": [
      "hello\n"
     ]
    }
   ],
   "source": [
    "# funções são um conjunto de instruções agrupadas que executam uma tarefa\n",
    "def my_funcao():\n",
    "    print('hello')\n",
    "    \n",
    "# chamar a função\n",
    "my_funcao()"
   ]
  },
  {
   "cell_type": "code",
   "execution_count": 1,
   "id": "amateur-novelty",
   "metadata": {},
   "outputs": [
    {
     "data": {
      "text/plain": [
       "9"
      ]
     },
     "execution_count": 1,
     "metadata": {},
     "output_type": "execute_result"
    }
   ],
   "source": [
    "# funçoes podem aceitar argumentos q sao valores q desejamos usar na nossa função\n",
    "# argumentos é o que está dentro de ()\n",
    "# esta função aceita um numero e retorna o seu numero quadrado -> 3 ao quadrado\n",
    "x = 3\n",
    "def square_funcao(numero):\n",
    "    return numero ** 2\n",
    "\n",
    "# chamamos a função passando a nossa variavel x como um argumento \n",
    "square_funcao(x)"
   ]
  },
  {
   "cell_type": "code",
   "execution_count": 16,
   "id": "unlimited-genesis",
   "metadata": {},
   "outputs": [
    {
     "data": {
      "text/plain": [
       "81"
      ]
     },
     "execution_count": 16,
     "metadata": {},
     "output_type": "execute_result"
    }
   ],
   "source": [
    "# uma função pode imprimir seu resultado -> print\n",
    "# ou pode retornar o resultado -> return\n",
    "# O retorno de resultados costuma ser usado quando chamamos uma função dentro de outra função\n",
    "\n",
    "x = 3\n",
    "def square_of_square(numero):\n",
    "    z = square_funcao(numero)\n",
    "    return z ** 2\n",
    "square_of_square(x)"
   ]
  },
  {
   "cell_type": "markdown",
   "id": "hearing-sample",
   "metadata": {},
   "source": [
    "> Retornar resultados também é uma parte importante do princípio de programação DRY (Don't Repeat Yourself)"
   ]
  },
  {
   "cell_type": "code",
   "execution_count": 18,
   "id": "boxed-stomach",
   "metadata": {},
   "outputs": [
    {
     "data": {
      "text/plain": [
       "'HELLO THERE'"
      ]
     },
     "execution_count": 18,
     "metadata": {},
     "output_type": "execute_result"
    }
   ],
   "source": [
    "# Retornar o resultado tem outra vantagem: podemos encadear outras funções com base no tipo de dados do resultado.\n",
    "# podemos adicionar metodos nas funçoes\n",
    "# por exemplo, pôr as letras maiusculas\n",
    "def my_salute():\n",
    "    return 'hello there'\n",
    "\n",
    "# Como estamos a retornar uma string, podemos usar a função upper () diretamente:\n",
    "my_salute().upper()"
   ]
  },
  {
   "cell_type": "markdown",
   "id": "revised-trouble",
   "metadata": {},
   "source": [
    "## Atribuição de padrão de valores aos argumentos"
   ]
  },
  {
   "cell_type": "code",
   "execution_count": 9,
   "id": "prompt-flesh",
   "metadata": {},
   "outputs": [
    {
     "name": "stdout",
     "output_type": "stream",
     "text": [
      "#1 - mat\n",
      "#11 - historia\n",
      "#21 - geografia\n"
     ]
    }
   ],
   "source": [
    "# podemos querer atribuir valores aos argumentos para saltar a necessidade de passá-los \n",
    "# contar de 10 em 10 cada item começando em 1\n",
    "\n",
    "cursos = ['mat', 'historia', 'geografia']\n",
    "\n",
    "def numerate_items(items, start_at = 1, jump_by = 10):\n",
    "    for i in items:\n",
    "        print(f'#{start_at} - {i}')\n",
    "        start_at += jump_by\n",
    "        \n",
    "# aqui nao estamos a passar o argumento star_at nem o argumento jump_by        \n",
    "numerate_items(cursos)"
   ]
  },
  {
   "cell_type": "code",
   "execution_count": 4,
   "id": "narrative-aircraft",
   "metadata": {},
   "outputs": [
    {
     "name": "stdout",
     "output_type": "stream",
     "text": [
      "#100 - mat\n",
      "#110 - historia\n",
      "#120 - geografia\n"
     ]
    }
   ],
   "source": [
    "# podemos começar no 1\n",
    "# mas tambem podemos começar no 100\n",
    "# entao nudamos o argumento\n",
    "numerate_items(cursos, 100)"
   ]
  },
  {
   "cell_type": "markdown",
   "id": "packed-approval",
   "metadata": {},
   "source": [
    "## Lembrar quando se trabalha com padroes de valores"
   ]
  },
  {
   "cell_type": "markdown",
   "id": "selective-foster",
   "metadata": {},
   "source": [
    " > os argumentos sao avaliados quando a funçao é definida, nem sempre quando uma função é chamada "
   ]
  },
  {
   "cell_type": "code",
   "execution_count": 6,
   "id": "harmful-affairs",
   "metadata": {},
   "outputs": [
    {
     "name": "stdout",
     "output_type": "stream",
     "text": [
      "[3]\n",
      "[3, [5, 7]]\n",
      "[3, [5, 7], 'asdf']\n"
     ]
    }
   ],
   "source": [
    "# O append() é um método que anexa um elemento ao final da lista.\n",
    "# definimos o argumento input_list como vazio\n",
    "def list_append(element, input_list=[]):\n",
    "    input_list.append(element)\n",
    "    return input_list\n",
    "\n",
    "# se chamarmos a mesma função 3 vezes, vai sempre adicionando os elementos que pusermos\n",
    "print(list_append(3))\n",
    "print(list_append([5, 7]))\n",
    "print(list_append('asdf'))"
   ]
  },
  {
   "cell_type": "code",
   "execution_count": 7,
   "id": "increasing-farmer",
   "metadata": {},
   "outputs": [
    {
     "name": "stdout",
     "output_type": "stream",
     "text": [
      "[3]\n",
      "[[5, 7]]\n",
      "['asdf']\n"
     ]
    }
   ],
   "source": [
    "# outra solução possivel\n",
    "# este apenas mostra o que foi adicionado\n",
    "def list_append(element, input_list=None):\n",
    "    if not input_list:\n",
    "        input_list = []\n",
    "    input_list.append(element)\n",
    "    return input_list\n",
    "\n",
    "print(list_append(3))\n",
    "print(list_append([5, 7]))\n",
    "print(list_append(\"asdf\"))"
   ]
  },
  {
   "cell_type": "markdown",
   "id": "extraordinary-greek",
   "metadata": {},
   "source": [
    "## Usar argumentos nomeados"
   ]
  },
  {
   "cell_type": "code",
   "execution_count": 8,
   "id": "amino-philippines",
   "metadata": {},
   "outputs": [
    {
     "name": "stdout",
     "output_type": "stream",
     "text": [
      "#1 - mat\n",
      "#21 - historia\n",
      "#41 - geografia\n"
     ]
    }
   ],
   "source": [
    "# agora queremos manter o argumento padrao star_at e apenar alterar o jump_by\n",
    "# nao podemos saltar um argumento, ent uma maneira de fazer isso é especificar todos\n",
    "# saltar de 20 em 20\n",
    "numerate_items(cursos, jump_by = 20)"
   ]
  },
  {
   "cell_type": "markdown",
   "id": "american-information",
   "metadata": {},
   "source": [
    "## Usar uma sugestao-tipo"
   ]
  },
  {
   "cell_type": "markdown",
   "id": "stock-benefit",
   "metadata": {},
   "source": [
    "> python é uma linguagem dinâmica, o que significa que a mesma variável pode alterar seu tipo de dados instantaneamente\n",
    "\n",
    "> é um recurso poderoso, mas também pode levar a muitos erros imprevistos\n",
    "\n",
    "> python partilha o melhor dos dois mundos, é dinâmico, mas permite que se indique qual o tipo de parâmetro deve ser, fornecendo informações preciosas"
   ]
  },
  {
   "cell_type": "code",
   "execution_count": 27,
   "id": "copyrighted-textbook",
   "metadata": {},
   "outputs": [],
   "source": [
    "age = 'Im 20 years old'\n",
    "age = 20"
   ]
  },
  {
   "cell_type": "code",
   "execution_count": 11,
   "id": "negative-socket",
   "metadata": {
    "collapsed": true,
    "jupyter": {
     "outputs_hidden": true
    },
    "tags": []
   },
   "outputs": [
    {
     "ename": "TypeError",
     "evalue": "'type' object is not subscriptable",
     "output_type": "error",
     "traceback": [
      "\u001b[1;31m---------------------------------------------------------------------------\u001b[0m",
      "\u001b[1;31mTypeError\u001b[0m                                 Traceback (most recent call last)",
      "\u001b[1;32m<ipython-input-11-7921f52d2265>\u001b[0m in \u001b[0;36m<module>\u001b[1;34m\u001b[0m\n\u001b[1;32m----> 1\u001b[1;33m \u001b[1;32mdef\u001b[0m \u001b[0mnumerate_items\u001b[0m\u001b[1;33m(\u001b[0m\u001b[0mitems\u001b[0m\u001b[1;33m:\u001b[0m \u001b[0mlist\u001b[0m\u001b[1;33m[\u001b[0m\u001b[0mstr\u001b[0m\u001b[1;33m]\u001b[0m\u001b[1;33m,\u001b[0m \u001b[0mstart_at\u001b[0m\u001b[1;33m:\u001b[0m \u001b[0mint\u001b[0m\u001b[1;33m=\u001b[0m\u001b[1;36m1\u001b[0m\u001b[1;33m,\u001b[0m \u001b[0mjump_by\u001b[0m\u001b[1;33m:\u001b[0m \u001b[0mint\u001b[0m\u001b[1;33m=\u001b[0m\u001b[1;36m1\u001b[0m\u001b[1;33m)\u001b[0m \u001b[1;33m->\u001b[0m \u001b[0mstr\u001b[0m\u001b[1;33m:\u001b[0m\u001b[1;33m\u001b[0m\u001b[1;33m\u001b[0m\u001b[0m\n\u001b[0m\u001b[0;32m      2\u001b[0m     \u001b[1;32mpass\u001b[0m\u001b[1;33m\u001b[0m\u001b[1;33m\u001b[0m\u001b[0m\n\u001b[0;32m      3\u001b[0m \u001b[1;33m\u001b[0m\u001b[0m\n\u001b[0;32m      4\u001b[0m \u001b[1;31m# aqui dizemos que o parametro 'items' é uma lista de strings\u001b[0m\u001b[1;33m\u001b[0m\u001b[1;33m\u001b[0m\u001b[1;33m\u001b[0m\u001b[0m\n\u001b[0;32m      5\u001b[0m \u001b[1;31m# os parametos 'start_at' e 'jump_by' são int que começam por 1\u001b[0m\u001b[1;33m\u001b[0m\u001b[1;33m\u001b[0m\u001b[1;33m\u001b[0m\u001b[0m\n",
      "\u001b[1;31mTypeError\u001b[0m: 'type' object is not subscriptable"
     ]
    }
   ],
   "source": [
    "def numerate_items(items: List[str], start_at: int=1, jump_by: int=1) -> str:\n",
    "    pass\n",
    "\n",
    "# aqui dizemos que o parametro 'items' é uma lista de strings\n",
    "# os parametos 'start_at' e 'jump_by' são int que começam por 1\n",
    "# e o resultado da função é uma string:' -> str: '\n"
   ]
  },
  {
   "cell_type": "code",
   "execution_count": null,
   "id": "meaning-artwork",
   "metadata": {},
   "outputs": [],
   "source": []
  },
  {
   "cell_type": "code",
   "execution_count": 13,
   "id": "provincial-lover",
   "metadata": {},
   "outputs": [
    {
     "name": "stdout",
     "output_type": "stream",
     "text": [
      "these are args: ('mat', 'historia', 'geografia')\n",
      "these are kwargs: {'name': 'joana', 'age': 21}\n"
     ]
    }
   ],
   "source": [
    "def example(*args, **kwargs):\n",
    "# isto significa q podemos passar um numero arbitrario de parametros para uma função\n",
    "# 'args' representa argumentos\n",
    "# enquanto 'kwargs' representa argumentos de palavra-chave\n",
    "    print(f'these are args: {args}')\n",
    "    print(f'these are kwargs: {kwargs}')\n",
    "    \n",
    "example('mat', 'historia', 'geografia', name = 'joana', age = 21)\n",
    "\n",
    "# Importante: Args tem de vir sempre antes dos kwargs"
   ]
  },
  {
   "cell_type": "code",
   "execution_count": null,
   "id": "removed-outline",
   "metadata": {},
   "outputs": [],
   "source": [
    "# passar uma funcao como argumento de outra função"
   ]
  },
  {
   "cell_type": "code",
   "execution_count": 14,
   "id": "american-museum",
   "metadata": {
    "tags": []
   },
   "outputs": [
    {
     "name": "stdout",
     "output_type": "stream",
     "text": [
      "these are args: (['Math', 'History', 'Geography'], {'name': 'Ricardo', 'age': 39})\n",
      "these are kwargs: {}\n"
     ]
    }
   ],
   "source": [
    "#Na maioria das vezes os parâmetros estarão em variáveis assim:\n",
    "courses = ['Math', 'History', 'Geography']\n",
    "student_info = {'name': 'Ricardo', 'age': 39}\n",
    "\n",
    "#Se passarmos as variáveis como argumentos, o resultado não é o esperado:\n",
    "example(courses, student_info)"
   ]
  },
  {
   "cell_type": "markdown",
   "id": "automated-commitment",
   "metadata": {},
   "source": [
    "## Funções são objetos de primeira classe\n",
    "\n",
    "\n",
    "Isso significa que as funções podem ser usadas como argumentos, assim como qualquer outro objeto (`str`,` int`, `float`,` list` e assim por diante)."
   ]
  },
  {
   "cell_type": "code",
   "execution_count": 15,
   "id": "figured-danish",
   "metadata": {},
   "outputs": [],
   "source": [
    "def hey(name):\n",
    "    return f\"Hey {name}\"\n",
    "\n",
    "def bye(name):\n",
    "    return f\"Bye {name}\"\n",
    "\n",
    "def greet(greeter_func, name):\n",
    "    return greeter_func(name)"
   ]
  },
  {
   "cell_type": "markdown",
   "id": "prostate-serial",
   "metadata": {},
   "source": [
    "Agora podemos usar a função para dizer olá ou adeus a alguém:"
   ]
  },
  {
   "cell_type": "code",
   "execution_count": 16,
   "id": "manual-transformation",
   "metadata": {},
   "outputs": [
    {
     "name": "stdout",
     "output_type": "stream",
     "text": [
      "Hey John\n",
      "Bye John\n"
     ]
    }
   ],
   "source": [
    "print(greet(hey, 'John'))\n",
    "print(greet(bye, 'John'))"
   ]
  },
  {
   "cell_type": "markdown",
   "id": "contrary-cargo",
   "metadata": {},
   "source": [
    "Então, quando passamos `hey` com um argumento 'name' para a função` greet`, estamos apenas a passar o nome da função sem o `()`. Isso significa que estamos apenas a passar a referência da função, não a chamada para a função em si (isso acontecerá dentro da função `greet`, na forma de` greeter_func () `)."
   ]
  },
  {
   "cell_type": "markdown",
   "id": "american-steps",
   "metadata": {},
   "source": [
    "## Funções internas\n",
    "\n",
    "Pode-se definir funções dentro de outras funções, e essas são chamadas de funções internas, porque existem apenas no objetivo da função pai."
   ]
  },
  {
   "cell_type": "code",
   "execution_count": null,
   "id": "possible-mixer",
   "metadata": {},
   "outputs": [],
   "source": [
    "def greet(greet_type, name):\n",
    "    def ola(name):\n",
    "        return f\"Olá {name}\"\n",
    "\n",
    "    def adeus(name):\n",
    "        return f\"Adeus {name}\"\n",
    "    \n",
    "    if(greet_type == 'h'):\n",
    "        return ola(name)\n",
    "    elif(greet_type == 'b'):\n",
    "        return adeus(name)\n",
    "    else:\n",
    "        return f\"Well {name}, it's either Hey or Bye, you pick!\""
   ]
  },
  {
   "cell_type": "code",
   "execution_count": null,
   "id": "smaller-immunology",
   "metadata": {},
   "outputs": [],
   "source": [
    "print(greet('h', 'John'))\n",
    "print(greet('b', 'John'))\n",
    "print(greet('zzz', 'John'))"
   ]
  },
  {
   "cell_type": "markdown",
   "id": "velvet-accountability",
   "metadata": {},
   "source": [
    "As funções `ola` and `adeus` só podem ser chamadas dentro da função `greet`. \n",
    "\n",
    "Dá erro se tentarmos chamar qualquer um deles"
   ]
  },
  {
   "cell_type": "code",
   "execution_count": 17,
   "id": "compound-clearing",
   "metadata": {
    "collapsed": true,
    "jupyter": {
     "outputs_hidden": true
    },
    "tags": []
   },
   "outputs": [
    {
     "ename": "NameError",
     "evalue": "name 'ola' is not defined",
     "output_type": "error",
     "traceback": [
      "\u001b[1;31m---------------------------------------------------------------------------\u001b[0m",
      "\u001b[1;31mNameError\u001b[0m                                 Traceback (most recent call last)",
      "\u001b[1;32m<ipython-input-17-b9832ce6192c>\u001b[0m in \u001b[0;36m<module>\u001b[1;34m\u001b[0m\n\u001b[1;32m----> 1\u001b[1;33m \u001b[0mola\u001b[0m\u001b[1;33m(\u001b[0m\u001b[1;34m'John'\u001b[0m\u001b[1;33m)\u001b[0m\u001b[1;33m\u001b[0m\u001b[1;33m\u001b[0m\u001b[0m\n\u001b[0m",
      "\u001b[1;31mNameError\u001b[0m: name 'ola' is not defined"
     ]
    }
   ],
   "source": [
    "ola('John')"
   ]
  },
  {
   "cell_type": "markdown",
   "id": "sacred-compiler",
   "metadata": {},
   "source": [
    "## exercicio"
   ]
  },
  {
   "cell_type": "code",
   "execution_count": null,
   "id": "eastern-crisis",
   "metadata": {},
   "outputs": [],
   "source": []
  },
  {
   "cell_type": "code",
   "execution_count": null,
   "id": "loaded-moses",
   "metadata": {},
   "outputs": [],
   "source": []
  },
  {
   "cell_type": "markdown",
   "id": "checked-chapter",
   "metadata": {},
   "source": [
    "### 7. Functions exercise\n",
    "\n",
    "Remember the loops exercise?\n",
    "\n",
    "Imagine that you'll need to use that piece of code a lot of times, the only change being the letter that you want to search for.\n",
    "\n",
    "Instead of having to write the same code over and over again, you can apply the DRY principle and make a definition/function that you'll be able to use everywhere.\n",
    "\n",
    "Go ahead and make a new function called `starts_with` as we did in the loops exercise, think before coding, and take notes if needed."
   ]
  },
  {
   "cell_type": "code",
   "execution_count": 45,
   "id": "union-defeat",
   "metadata": {
    "tags": []
   },
   "outputs": [
    {
     "data": {
      "text/plain": [
       "'Not Found'"
      ]
     },
     "execution_count": 45,
     "metadata": {},
     "output_type": "execute_result"
    }
   ],
   "source": [
    "names = ['Ricardo', 'Ana', 'Rita', 'António', 'Sebastião', 'Carolina', 'José', 'Sérgio', 'anabela']\n",
    "\n",
    "def starts_with(lista, letter):\n",
    "    result = []\n",
    "    for name in lista:\n",
    "        if name.upper().startswith(letter.upper()):\n",
    "            result.append(name)\n",
    "    if not result:\n",
    "        return 'Not Found'\n",
    "    return ', '.join(result)\n",
    "\n",
    "# test your code:\n",
    "#starts_with(first_names, 'A')\n",
    "#starts_with(first_names, 'a')\n",
    "starts_with(names, 'z')"
   ]
  },
  {
   "cell_type": "markdown",
   "id": "cultural-raise",
   "metadata": {},
   "source": [
    "## exceções\n",
    "\n",
    "try e except ajuda a lidar com erros que não esperamos ou simplesmente não controlamos\n",
    "\n",
    "um bom exemplo é uma conexão com um url externo, que pode não estar disponível\n",
    "\n",
    "o que se mete dentro do except é aquilo que quero fazer caso dê erro"
   ]
  },
  {
   "cell_type": "code",
   "execution_count": 46,
   "id": "committed-rebecca",
   "metadata": {},
   "outputs": [],
   "source": [
    "# vamos tentar correr este codigo\n",
    "try: \n",
    "    pass\n",
    "except Exception: # se falhar, este código será executado\n",
    "    pass\n",
    "else: # se nao falhar, este codigo será executado\n",
    "    pass\n",
    "finally: # este codigo sera sempre executado, mesmo que dê erro ou nao\n",
    "    pass"
   ]
  },
  {
   "cell_type": "code",
   "execution_count": null,
   "id": "indoor-coordinate",
   "metadata": {},
   "outputs": [],
   "source": [
    "# tentar carregar um ficheiro que nao existe:\n",
    "f = open('testfile.txt')\n",
    "# «se executarmos isto, ocorrerá a seguinte saída"
   ]
  },
  {
   "cell_type": "code",
   "execution_count": null,
   "id": "fourth-animal",
   "metadata": {},
   "outputs": [],
   "source": [
    "# vamos aplicar o mesmo codigo e corre-lo:\n",
    "try:\n",
    "    f = open('testfile.txt')\n",
    "except Exception:\n",
    "    print('Sorry, I can\\'t find that file.')"
   ]
  },
  {
   "cell_type": "code",
   "execution_count": null,
   "id": "mineral-rocket",
   "metadata": {},
   "outputs": [],
   "source": [
    "# Não estamos apenas a imprimir um erro, mas o script pode continuar se quisermos.\n",
    "# Mas na maioria das vezes não podemos prever qual será o erro, então a mensagem pode estar errada.\n",
    "# Neste exemplo, o arquivo realmente existe e é a segunda linha que está errada\n",
    "# a mensagem nao faz sentido\n",
    "try:\n",
    "    f = open('my_first_program.py')\n",
    "    var = bad_var\n",
    "except Exception:\n",
    "    print('Sorry, I can\\'t find that file.')"
   ]
  },
  {
   "cell_type": "code",
   "execution_count": null,
   "id": "actual-wireless",
   "metadata": {},
   "outputs": [],
   "source": [
    "# ou podemos ter várias exceções\n",
    "try:\n",
    "    f = open('testfile.txt')\n",
    "    var = bad_var\n",
    "except FileNotFoundError:\n",
    "    print('Sorry, I can\\'t find that file.')\n",
    "except Exception:\n",
    "    print('Sorry, something went wrong.')"
   ]
  },
  {
   "cell_type": "markdown",
   "id": "ignored-karma",
   "metadata": {},
   "source": [
    "Obtivemos um erro no inicio: \n",
    "    FileNotFoundError: [Errno 2] No such file or directory: 'testfile.txt'\n",
    "    \n",
    " entao como podemos encontrar o nome do erro na segunda linha --> (var = bad_var)?"
   ]
  },
  {
   "cell_type": "code",
   "execution_count": null,
   "id": "guided-rocket",
   "metadata": {},
   "outputs": [],
   "source": [
    "f = open('my_first_program.py')\n",
    "var = bad_var"
   ]
  },
  {
   "cell_type": "code",
   "execution_count": null,
   "id": "stylish-answer",
   "metadata": {},
   "outputs": [],
   "source": [
    "# devemos sempre deixar o tratamento de erros no final do codigo\n",
    "# ou o codigo nunca chega \n",
    "# Também é possível gerar o erro diretamente\n",
    "try:\n",
    "    f = open('testfile.txt')\n",
    "    var = bad_var\n",
    "except Exception as e:\n",
    "    print(e) # messagem de erro\n",
    "    print(type(e).__name__) # o tipo de exceção"
   ]
  },
  {
   "cell_type": "code",
   "execution_count": null,
   "id": "outdoor-basic",
   "metadata": {},
   "outputs": [],
   "source": [
    "# As cláusulas else e finally podem ser usadas para colocar código que:\n",
    "# Else: será executado se nenhuma exceção for lançada\n",
    "# Finally: será executado independentemente do que aconteça - normalmente é usado para libertar recursos ou limpar variáveis\n",
    "\n",
    "try:\n",
    "    f = open('my_first_program.py')\n",
    "    var = bad_var\n",
    "except FileNotFoundError:\n",
    "    print('Sorry, I can\\'t find that file.')\n",
    "except NameError:\n",
    "    print('Sorry, string vars must be enclosed in backticks.')\n",
    "except Exception:\n",
    "    print('Sorry, something went wrong.')\n",
    "else:\n",
    "    print('File Contents:')\n",
    "    print('-' * 30)\n",
    "    print(f.read())\n",
    "finally:\n",
    "    f.close()"
   ]
  },
  {
   "cell_type": "markdown",
   "id": "frozen-universal",
   "metadata": {},
   "source": [
    "## fazer exceções manualmente"
   ]
  },
  {
   "cell_type": "code",
   "execution_count": null,
   "id": "guided-parade",
   "metadata": {},
   "outputs": [],
   "source": [
    "# Também podemos levantar exceções que o python não acionará, pois não há nada de errado com a linguagem, mas isso é importante para nós.\n",
    "try:\n",
    "    f = open('my_first_program.py')\n",
    "    if(f.name == 'my_first_program.py'):\n",
    "        raise Exception\n",
    "except FileNotFoundError:\n",
    "    print('Sorry, I can\\'t find that file.')\n",
    "except Exception:\n",
    "    print('Sorry, something went wrong.')\n",
    "else:\n",
    "    print('File Contents:')\n",
    "    print('-' * 30)\n",
    "    print(f.read())\n",
    "finally:\n",
    "    f.close()"
   ]
  },
  {
   "cell_type": "markdown",
   "id": "extensive-picture",
   "metadata": {},
   "source": [
    "## criar as suas proprias exceções personalizadas"
   ]
  },
  {
   "cell_type": "code",
   "execution_count": 18,
   "id": "introductory-ethics",
   "metadata": {},
   "outputs": [
    {
     "data": {
      "text/plain": [
       "\"Sorry, we don't accept *.pdf files, only *.jpg or *.png files.\""
      ]
     },
     "execution_count": 18,
     "metadata": {},
     "output_type": "execute_result"
    }
   ],
   "source": [
    "# Imagina que temos um aplicativo da web em que aceitamos uploads de arquivos, mas apenas arquivos\n",
    "# jpg e * .png, e alguem carrega um arquivo * .pdf.\n",
    "# Queremos enviar uma notificação avisanddo que não aceitamos PDFs.\n",
    "\n",
    "# esta é a uma exceção personalizada\n",
    "\n",
    "class WrongFileExtException(Exception):\n",
    "    pass\n",
    "\n",
    "def check_file_ext(file_extension):\n",
    "    try:\n",
    "        if file_extension not in ['jpg', 'png']:\n",
    "            raise WrongFileExtException # raising our custom exception\n",
    "    except WrongFileExtException:\n",
    "        return f\"Sorry, we don't accept *.{file_extension} files, only *.jpg or *.png files.\"\n",
    "    except Exception:\n",
    "        return 'Something went wrong.'\n",
    "    \n",
    "check_file_ext('pdf')"
   ]
  },
  {
   "cell_type": "markdown",
   "id": "phantom-filing",
   "metadata": {},
   "source": [
    "## Agrupando exceções"
   ]
  },
  {
   "cell_type": "code",
   "execution_count": null,
   "id": "cleared-blood",
   "metadata": {},
   "outputs": [],
   "source": [
    "# podemos agrupar exceções se queremos ter a mesma saída em todos eles\n",
    "\n",
    "def check_file_ext(file_extension):\n",
    "    try:\n",
    "        if file_extension not in ['jpg', 'png']:\n",
    "            raise WrongFileExtException\n",
    "        else:\n",
    "            raise Exception\n",
    "    except (WrongFileExtException, Exception): # coloca-se () e entre virgulas para agrupa-las\n",
    "        return f\"Something went wrong.\"\n",
    "    \n",
    "check_file_ext('pdf')\n",
    "#check_file_ext('png')"
   ]
  }
 ],
 "metadata": {
  "kernelspec": {
   "display_name": "Python 3",
   "language": "python",
   "name": "python3"
  },
  "language_info": {
   "codemirror_mode": {
    "name": "ipython",
    "version": 3
   },
   "file_extension": ".py",
   "mimetype": "text/x-python",
   "name": "python",
   "nbconvert_exporter": "python",
   "pygments_lexer": "ipython3",
   "version": "3.8.8"
  }
 },
 "nbformat": 4,
 "nbformat_minor": 5
}
