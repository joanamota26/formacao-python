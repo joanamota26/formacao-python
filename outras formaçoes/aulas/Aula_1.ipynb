{
 "cells": [
  {
   "cell_type": "markdown",
   "id": "american-carroll",
   "metadata": {},
   "source": [
    "## Aula 1"
   ]
  },
  {
   "cell_type": "markdown",
   "id": "sized-enzyme",
   "metadata": {},
   "source": [
    "- hguyguij \n",
    "- bjhbjhnk\n",
    "- kjbhjb \n",
    "\n",
    "1. gjhbvj\n",
    "2. hijh\n",
    "3. jkhjb\n",
    "\n",
    "\n",
    "```python\n",
    "x = 3\n",
    "```\n"
   ]
  },
  {
   "cell_type": "code",
   "execution_count": 5,
   "id": "crucial-darkness",
   "metadata": {},
   "outputs": [
    {
     "name": "stdout",
     "output_type": "stream",
     "text": [
      "1\n"
     ]
    }
   ],
   "source": [
    "x = 10\n",
    "y = 9\n",
    "print (x - y)"
   ]
  },
  {
   "cell_type": "code",
   "execution_count": 4,
   "id": "extreme-microphone",
   "metadata": {},
   "outputs": [],
   "source": [
    "x = 1"
   ]
  },
  {
   "cell_type": "code",
   "execution_count": 7,
   "id": "liquid-terrorist",
   "metadata": {},
   "outputs": [
    {
     "name": "stdout",
     "output_type": "stream",
     "text": [
      "Hi, I am joana and I am 21 years old\n"
     ]
    }
   ],
   "source": [
    "now = 2021\n",
    "my_birth_year = 2000\n",
    "my_name = 'joana'\n",
    "print(f'Hi, I am {my_name} and I am {now - my_birth_year} years old')"
   ]
  },
  {
   "cell_type": "markdown",
   "id": "stock-championship",
   "metadata": {},
   "source": [
    "# fim da aula"
   ]
  },
  {
   "cell_type": "code",
   "execution_count": 10,
   "id": "rapid-usage",
   "metadata": {},
   "outputs": [],
   "source": [
    "# saber se o 3 está na lista. Faz-se um ciclo em que ele verifica se cada elemento é 3. \n",
    "def existe(numero, lista):\n",
    "    for i in lista:\n",
    "        if numero == i:\n",
    "            return True\n",
    "    return False "
   ]
  },
  {
   "cell_type": "code",
   "execution_count": 11,
   "id": "inner-reply",
   "metadata": {},
   "outputs": [
    {
     "data": {
      "text/plain": [
       "False"
      ]
     },
     "execution_count": 11,
     "metadata": {},
     "output_type": "execute_result"
    }
   ],
   "source": [
    "existe(3, [1, 4, 6, 7])"
   ]
  },
  {
   "cell_type": "code",
   "execution_count": 12,
   "id": "foreign-binding",
   "metadata": {},
   "outputs": [
    {
     "data": {
      "text/plain": [
       "True"
      ]
     },
     "execution_count": 12,
     "metadata": {},
     "output_type": "execute_result"
    }
   ],
   "source": [
    "existe(3, [1, 4, 3, 7])"
   ]
  },
  {
   "cell_type": "code",
   "execution_count": 16,
   "id": "shared-blond",
   "metadata": {},
   "outputs": [],
   "source": [
    "# quantos numeros é que existem na lista maior ou igual a 3. \n",
    "def quantos(numero, lista):\n",
    "    x = 0\n",
    "    for i in lista:\n",
    "        if i >= numero:\n",
    "            x = x + 1\n",
    "    return x \n",
    "            \n",
    "        "
   ]
  },
  {
   "cell_type": "code",
   "execution_count": 17,
   "id": "necessary-cloud",
   "metadata": {},
   "outputs": [
    {
     "data": {
      "text/plain": [
       "3"
      ]
     },
     "execution_count": 17,
     "metadata": {},
     "output_type": "execute_result"
    }
   ],
   "source": [
    "quantos(3, [1, 4, 6, 7])"
   ]
  },
  {
   "cell_type": "code",
   "execution_count": 19,
   "id": "private-electron",
   "metadata": {},
   "outputs": [
    {
     "data": {
      "text/plain": [
       "2"
      ]
     },
     "execution_count": 19,
     "metadata": {},
     "output_type": "execute_result"
    }
   ],
   "source": [
    "quantos(3, [1, 4, 3, 2])"
   ]
  },
  {
   "cell_type": "code",
   "execution_count": 21,
   "id": "minimal-agriculture",
   "metadata": {},
   "outputs": [],
   "source": [
    "# quais sao os numeros que são >= a 3\n",
    "def quais(numero, lista):\n",
    "    my_list = []\n",
    "    for i in lista:\n",
    "        if i >= numero:\n",
    "            my_list.append(i)\n",
    "    return my_list"
   ]
  },
  {
   "cell_type": "code",
   "execution_count": 22,
   "id": "confirmed-contract",
   "metadata": {},
   "outputs": [
    {
     "data": {
      "text/plain": [
       "[4, 6, 7]"
      ]
     },
     "execution_count": 22,
     "metadata": {},
     "output_type": "execute_result"
    }
   ],
   "source": [
    "quais(3, [1, 4, 6, 7])"
   ]
  },
  {
   "cell_type": "code",
   "execution_count": 23,
   "id": "coral-vacation",
   "metadata": {},
   "outputs": [
    {
     "data": {
      "text/plain": [
       "[4, 3]"
      ]
     },
     "execution_count": 23,
     "metadata": {},
     "output_type": "execute_result"
    }
   ],
   "source": [
    "quais(3, [1, 4, 3, 2])"
   ]
  },
  {
   "cell_type": "code",
   "execution_count": 31,
   "id": "modern-porter",
   "metadata": {},
   "outputs": [],
   "source": [
    "# numeros comuns nas duas listas\n",
    "def comum(lista1, lista2):\n",
    "    my_list = []\n",
    "    for i in lista1:\n",
    "        if (existe(i, lista2)): \n",
    "            my_list.append(i)\n",
    "    return my_list\n",
    "    "
   ]
  },
  {
   "cell_type": "code",
   "execution_count": 33,
   "id": "skilled-group",
   "metadata": {},
   "outputs": [
    {
     "data": {
      "text/plain": [
       "[1, 4]"
      ]
     },
     "execution_count": 33,
     "metadata": {},
     "output_type": "execute_result"
    }
   ],
   "source": [
    "comum([1, 4, 3, 2], [1, 4, 6, 7])"
   ]
  },
  {
   "cell_type": "code",
   "execution_count": 5,
   "id": "chicken-category",
   "metadata": {},
   "outputs": [],
   "source": [
    "# remover os duplicados numa lista\n",
    "def remove(lista):\n",
    "    my_list = []\n",
    "    for i in lista:\n",
    "        if i not in my_list:\n",
    "            my_list.append(i)\n",
    "    return my_list"
   ]
  },
  {
   "cell_type": "code",
   "execution_count": 6,
   "id": "governmental-villa",
   "metadata": {},
   "outputs": [
    {
     "data": {
      "text/plain": [
       "[1, 3, 4, 6, 7, 8]"
      ]
     },
     "execution_count": 6,
     "metadata": {},
     "output_type": "execute_result"
    }
   ],
   "source": [
    "remove([1, 3, 3, 4, 4, 6, 7, 7, 8])"
   ]
  }
 ],
 "metadata": {
  "kernelspec": {
   "display_name": "Python 3",
   "language": "python",
   "name": "python3"
  },
  "language_info": {
   "codemirror_mode": {
    "name": "ipython",
    "version": 3
   },
   "file_extension": ".py",
   "mimetype": "text/x-python",
   "name": "python",
   "nbconvert_exporter": "python",
   "pygments_lexer": "ipython3",
   "version": "3.8.8"
  }
 },
 "nbformat": 4,
 "nbformat_minor": 5
}
