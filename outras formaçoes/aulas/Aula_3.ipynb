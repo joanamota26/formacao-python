{
 "cells": [
  {
   "cell_type": "markdown",
   "id": "latter-cheese",
   "metadata": {},
   "source": [
    "# Aula 3"
   ]
  },
  {
   "cell_type": "markdown",
   "id": "endangered-spoke",
   "metadata": {},
   "source": [
    "## Dicionários"
   ]
  },
  {
   "cell_type": "code",
   "execution_count": 1,
   "id": "motivated-center",
   "metadata": {},
   "outputs": [],
   "source": [
    "# dicionarios são objetos\n",
    "# todos os objetos tem de ter chave e valor\n",
    "# chaves - podem ser strings ou valores e sao unicos\n",
    "# valores - pode ser tudo\n"
   ]
  },
  {
   "cell_type": "code",
   "execution_count": 21,
   "id": "local-promise",
   "metadata": {},
   "outputs": [
    {
     "data": {
      "text/plain": [
       "{'name': 'Mary', 'age': 23, 'curso': ['matematica', 'historia', 'ciencia']}"
      ]
     },
     "execution_count": 21,
     "metadata": {},
     "output_type": "execute_result"
    }
   ],
   "source": [
    "student = {'name': 'Mary', 'age': 23, 'curso': ['matematica', 'historia', 'ciencia']}\n",
    "student"
   ]
  },
  {
   "cell_type": "code",
   "execution_count": 8,
   "id": "right-vegetation",
   "metadata": {},
   "outputs": [
    {
     "name": "stdout",
     "output_type": "stream",
     "text": [
      "Mary\n"
     ]
    }
   ],
   "source": [
    "print(student['name'])"
   ]
  },
  {
   "cell_type": "code",
   "execution_count": 5,
   "id": "immune-cotton",
   "metadata": {},
   "outputs": [
    {
     "name": "stdout",
     "output_type": "stream",
     "text": [
      "None\n"
     ]
    }
   ],
   "source": [
    "# get - vai dizer se existe a chave \n",
    "# se nao existe dá none\n",
    "print(student.get('phone'))"
   ]
  },
  {
   "cell_type": "code",
   "execution_count": 9,
   "id": "czech-press",
   "metadata": {},
   "outputs": [
    {
     "name": "stdout",
     "output_type": "stream",
     "text": [
      "dict_keys(['name', 'age', 'curso'])\n"
     ]
    }
   ],
   "source": [
    "# pedir as chaves todas do dicionario\n",
    "print(student.keys())"
   ]
  },
  {
   "cell_type": "code",
   "execution_count": 11,
   "id": "encouraging-stability",
   "metadata": {},
   "outputs": [
    {
     "data": {
      "text/plain": [
       "{'name': 'Mary', 'age': 23, 'curso': 'matematica', 'phone': '123456789'}"
      ]
     },
     "execution_count": 11,
     "metadata": {},
     "output_type": "execute_result"
    }
   ],
   "source": [
    "# adicionar algo no dicionario\n",
    "student['phone'] = '123456789'\n",
    "student"
   ]
  },
  {
   "cell_type": "code",
   "execution_count": 22,
   "id": "opposed-safety",
   "metadata": {},
   "outputs": [
    {
     "data": {
      "text/plain": [
       "{'name': 'Mary F',\n",
       " 'age': 23,\n",
       " 'curso': ['matematica', 'historia', 'ciencia', 'arte'],\n",
       " 'phone': 2345654}"
      ]
     },
     "execution_count": 22,
     "metadata": {},
     "output_type": "execute_result"
    }
   ],
   "source": [
    "#fazer update da lista\n",
    "novo_curso = student['curso']\n",
    "novo_curso.append('arte')\n",
    "student.update({'name': 'Mary F', 'phone': 2345654, 'curso': novo_curso})\n",
    "student"
   ]
  },
  {
   "cell_type": "code",
   "execution_count": 18,
   "id": "comparable-disco",
   "metadata": {},
   "outputs": [
    {
     "data": {
      "text/plain": [
       "{'name': 'Mary F',\n",
       " 'curso': ['matematica', 'historia', 'ciencia', 'arte', 'arte', 'arte'],\n",
       " 'phone': 2345654,\n",
       " 'cursos': ['matematica', 'historia', 'ciencia', 'arte', 'arte', 'arte']}"
      ]
     },
     "execution_count": 18,
     "metadata": {},
     "output_type": "execute_result"
    }
   ],
   "source": [
    "# remover uma chave do dicionario, podemos usar:\n",
    "\n",
    "del student['age']\n",
    "student\n",
    "\n",
    "# nao se deve usar, pq pode apagar tudo"
   ]
  },
  {
   "cell_type": "code",
   "execution_count": 23,
   "id": "standing-intensity",
   "metadata": {},
   "outputs": [
    {
     "name": "stdout",
     "output_type": "stream",
     "text": [
      "2345654\n",
      "{'name': 'Mary F', 'age': 23, 'curso': ['matematica', 'historia', 'ciencia', 'arte']}\n"
     ]
    }
   ],
   "source": [
    "# eliminar uma chave\n",
    "print(student.pop('phone'))\n",
    "print(student)"
   ]
  },
  {
   "cell_type": "code",
   "execution_count": 28,
   "id": "destroyed-bulletin",
   "metadata": {},
   "outputs": [
    {
     "name": "stdout",
     "output_type": "stream",
     "text": [
      "Dicionary length: 3\n"
     ]
    }
   ],
   "source": [
    "# comprimento do dicionario\n",
    "# vai ser o numero de pares ou de chaves\n",
    "student = {'name': 'Mary', 'age': 23, 'curso': ['matematica', 'historia', 'ciencia']}\n",
    "print(f'Dicionary length: {len(student)}')\n"
   ]
  },
  {
   "cell_type": "markdown",
   "id": "introductory-christian",
   "metadata": {},
   "source": [
    "## Variáveis"
   ]
  },
  {
   "cell_type": "code",
   "execution_count": 31,
   "id": "spiritual-corpus",
   "metadata": {},
   "outputs": [],
   "source": [
    "# uma variavel nao pode começar com numeros \n",
    "#variavel_nome\n",
    "#var12\n"
   ]
  },
  {
   "cell_type": "code",
   "execution_count": 2,
   "id": "adjustable-bobby",
   "metadata": {},
   "outputs": [],
   "source": [
    "# variavel vazia\n",
    "empty_string = ''\n",
    "empty_list = []\n",
    "another_empty_list = ()\n",
    "another_empty_string = str()"
   ]
  },
  {
   "cell_type": "code",
   "execution_count": 36,
   "id": "eleven-valentine",
   "metadata": {},
   "outputs": [
    {
     "data": {
      "text/plain": [
       "str"
      ]
     },
     "execution_count": 36,
     "metadata": {},
     "output_type": "execute_result"
    }
   ],
   "source": [
    "my_string = 'hello'\n",
    "\n",
    "type(my_string)"
   ]
  },
  {
   "cell_type": "code",
   "execution_count": 40,
   "id": "christian-powell",
   "metadata": {},
   "outputs": [
    {
     "name": "stdout",
     "output_type": "stream",
     "text": [
      "hello\n",
      "100\n",
      "halo\n"
     ]
    }
   ],
   "source": [
    "# dá para criar multiplas variaveis \n",
    "a , b, c = 'hello', 100, 'halo'\n",
    "print(a)\n",
    "print(b)\n",
    "print(c) "
   ]
  },
  {
   "cell_type": "code",
   "execution_count": 41,
   "id": "straight-heritage",
   "metadata": {},
   "outputs": [
    {
     "name": "stdout",
     "output_type": "stream",
     "text": [
      "10\n",
      "10\n",
      "10\n"
     ]
    }
   ],
   "source": [
    "a = b = c = 10\n",
    "print(a)\n",
    "print(b)\n",
    "print(c) "
   ]
  },
  {
   "cell_type": "code",
   "execution_count": 3,
   "id": "pleased-allah",
   "metadata": {},
   "outputs": [
    {
     "name": "stdout",
     "output_type": "stream",
     "text": [
      "123\n",
      "456\n"
     ]
    }
   ],
   "source": [
    "my_var = 123\n",
    "print(my_var)\n",
    "\n",
    "# walrus operator\n",
    "print(my_var := 456)\n",
    "\n",
    "# isto dá erro\n",
    "print(my_var = 789)"
   ]
  },
  {
   "cell_type": "code",
   "execution_count": 6,
   "id": "upper-prediction",
   "metadata": {},
   "outputs": [],
   "source": [
    "import os\n",
    "\n",
    "current_directory = os.getcwd()\n",
    "if current_directory == '/workspace/python/python_course':\n",
    "    print(f\"{current_directory} is an interesting directory!\")\n",
    "    \n",
    "# tambem se pode fazer \n",
    "if (current_directory := os.getcwd()) == '/workspace/python/python_course':\n",
    "    print(f\"{current_directory} is an interesting directory!\")"
   ]
  },
  {
   "cell_type": "markdown",
   "id": "external-sharp",
   "metadata": {},
   "source": [
    "## getting variables"
   ]
  },
  {
   "cell_type": "code",
   "execution_count": 47,
   "id": "defensive-scoop",
   "metadata": {},
   "outputs": [
    {
     "data": {
      "text/plain": [
       "'hello'"
      ]
     },
     "execution_count": 47,
     "metadata": {},
     "output_type": "execute_result"
    }
   ],
   "source": [
    "my_string"
   ]
  },
  {
   "cell_type": "markdown",
   "id": "psychological-malta",
   "metadata": {},
   "source": [
    "## swapping variable values"
   ]
  },
  {
   "cell_type": "code",
   "execution_count": 48,
   "id": "gothic-travel",
   "metadata": {},
   "outputs": [
    {
     "name": "stdout",
     "output_type": "stream",
     "text": [
      "20 10\n"
     ]
    }
   ],
   "source": [
    "# guardo o valor de a e mudo para 20\n",
    "a = '10'\n",
    "b = a\n",
    "a = '20'\n",
    "print(a, b)"
   ]
  },
  {
   "cell_type": "code",
   "execution_count": 49,
   "id": "welsh-eclipse",
   "metadata": {},
   "outputs": [
    {
     "name": "stdout",
     "output_type": "stream",
     "text": [
      "20 10\n"
     ]
    }
   ],
   "source": [
    "# outra maneira\n",
    "a = '10'\n",
    "b = '20'\n",
    "a, b = b, a\n",
    "print(a, b)"
   ]
  },
  {
   "cell_type": "code",
   "execution_count": 54,
   "id": "adapted-woman",
   "metadata": {},
   "outputs": [],
   "source": [
    "# variaveis que eu tenho"
   ]
  },
  {
   "cell_type": "code",
   "execution_count": 53,
   "id": "automatic-private",
   "metadata": {},
   "outputs": [
    {
     "name": "stdout",
     "output_type": "stream",
     "text": [
      "Variable       Type    Data/Info\n",
      "--------------------------------\n",
      "a              str     20\n",
      "b              str     10\n",
      "c              int     10\n",
      "empty_string   str     \n",
      "my_string      str     hello\n",
      "my_var         int     123\n",
      "novo_curso     list    n=4\n",
      "student        dict    n=3\n"
     ]
    }
   ],
   "source": [
    "whos"
   ]
  },
  {
   "cell_type": "markdown",
   "id": "varied-shopper",
   "metadata": {},
   "source": [
    "## palavras reservadas"
   ]
  },
  {
   "cell_type": "code",
   "execution_count": 56,
   "id": "located-hollywood",
   "metadata": {
    "collapsed": true,
    "jupyter": {
     "outputs_hidden": true
    }
   },
   "outputs": [
    {
     "ename": "SyntaxError",
     "evalue": "invalid syntax (<ipython-input-56-f40d9345d8ce>, line 3)",
     "output_type": "error",
     "traceback": [
      "\u001b[1;36m  File \u001b[1;32m\"<ipython-input-56-f40d9345d8ce>\"\u001b[1;36m, line \u001b[1;32m3\u001b[0m\n\u001b[1;33m    def = 'hi'\u001b[0m\n\u001b[1;37m        ^\u001b[0m\n\u001b[1;31mSyntaxError\u001b[0m\u001b[1;31m:\u001b[0m invalid syntax\n"
     ]
    }
   ],
   "source": [
    "# nao se pode, pq é uma palavra reservada\n",
    "# def define uma função\n",
    "def = 'hi'"
   ]
  },
  {
   "cell_type": "code",
   "execution_count": 57,
   "id": "metallic-spencer",
   "metadata": {},
   "outputs": [
    {
     "data": {
      "text/plain": [
       "'hi'"
      ]
     },
     "execution_count": 57,
     "metadata": {},
     "output_type": "execute_result"
    }
   ],
   "source": [
    "# não dá erro, mas depois nao funciona mais durante o programa\n",
    "print = 'hi'\n",
    "print"
   ]
  },
  {
   "cell_type": "code",
   "execution_count": 59,
   "id": "brief-texas",
   "metadata": {
    "collapsed": true,
    "jupyter": {
     "outputs_hidden": true
    }
   },
   "outputs": [
    {
     "ename": "TypeError",
     "evalue": "'str' object is not callable",
     "output_type": "error",
     "traceback": [
      "\u001b[1;31m---------------------------------------------------------------------------\u001b[0m",
      "\u001b[1;31mTypeError\u001b[0m                                 Traceback (most recent call last)",
      "\u001b[1;32m<ipython-input-59-190f99c7d85d>\u001b[0m in \u001b[0;36m<module>\u001b[1;34m\u001b[0m\n\u001b[0;32m      1\u001b[0m \u001b[1;31m# nao funciona, pq demos uma string ao print\u001b[0m\u001b[1;33m\u001b[0m\u001b[1;33m\u001b[0m\u001b[1;33m\u001b[0m\u001b[0m\n\u001b[1;32m----> 2\u001b[1;33m \u001b[0mprint\u001b[0m\u001b[1;33m(\u001b[0m\u001b[1;34m\" I'm not going to appear...\"\u001b[0m\u001b[1;33m)\u001b[0m\u001b[1;33m\u001b[0m\u001b[1;33m\u001b[0m\u001b[0m\n\u001b[0m",
      "\u001b[1;31mTypeError\u001b[0m: 'str' object is not callable"
     ]
    }
   ],
   "source": [
    "# nao funciona, pq demos um nome ao print\n",
    "print(\" I'm not going to appear...\")"
   ]
  },
  {
   "cell_type": "code",
   "execution_count": 65,
   "id": "eligible-trick",
   "metadata": {},
   "outputs": [],
   "source": [
    "del print"
   ]
  },
  {
   "cell_type": "markdown",
   "id": "painful-pioneer",
   "metadata": {},
   "source": [
    "## condições"
   ]
  },
  {
   "cell_type": "code",
   "execution_count": 60,
   "id": "historical-angel",
   "metadata": {},
   "outputs": [],
   "source": [
    "# uma condição ou devolve true ou false"
   ]
  },
  {
   "cell_type": "code",
   "execution_count": 66,
   "id": "endless-still",
   "metadata": {},
   "outputs": [
    {
     "name": "stdout",
     "output_type": "stream",
     "text": [
      "Im a math genius!\n"
     ]
    }
   ],
   "source": [
    "x = 2\n",
    "if 1*1 == 1:\n",
    "    print('Im a math genius!')\n",
    "else:\n",
    "    print('study some more') "
   ]
  },
  {
   "cell_type": "code",
   "execution_count": 70,
   "id": "middle-supervisor",
   "metadata": {},
   "outputs": [
    {
     "name": "stdout",
     "output_type": "stream",
     "text": [
      "true\n"
     ]
    }
   ],
   "source": [
    "x = 2\n",
    "if 1*1 == 2:\n",
    "    print('im a math genius')\n",
    "elif x == 2:\n",
    "    print('true')\n",
    "else:\n",
    "    print('study more')"
   ]
  },
  {
   "cell_type": "markdown",
   "id": "impaired-governor",
   "metadata": {},
   "source": [
    "## Operadores de comparação "
   ]
  },
  {
   "cell_type": "code",
   "execution_count": null,
   "id": "sized-running",
   "metadata": {},
   "outputs": [],
   "source": [
    "# Comparison Operators:\n",
    "# igual:               ==\n",
    "# não é igual:         !=\n",
    "# maior que :          >\n",
    "# menor que:           <\n",
    "# maior ou igual:      >=\n",
    "# menor ou igual:      <=\n",
    "# objeto identificado:  is"
   ]
  },
  {
   "cell_type": "markdown",
   "id": "defined-favor",
   "metadata": {},
   "source": [
    "## == vs is"
   ]
  },
  {
   "cell_type": "code",
   "execution_count": 7,
   "id": "optimum-frost",
   "metadata": {},
   "outputs": [
    {
     "name": "stdout",
     "output_type": "stream",
     "text": [
      "True\n",
      "False\n"
     ]
    }
   ],
   "source": [
    "# o == compara o conteudo\n",
    "# o is compara se os objetos são o mesmo. tem o mesmo id.\n",
    "x = [1,2, 3]\n",
    "y = [1,2,3]\n",
    "print( x == y)\n",
    "print( x is y)"
   ]
  },
  {
   "cell_type": "code",
   "execution_count": 9,
   "id": "extraordinary-respect",
   "metadata": {},
   "outputs": [
    {
     "name": "stdout",
     "output_type": "stream",
     "text": [
      "2972525046976\n",
      "2972525216960\n",
      "------------------------------\n",
      "False\n"
     ]
    }
   ],
   "source": [
    "print(id(x))\n",
    "print(id(y))\n",
    "print('-' * 30)\n",
    "print(id(x) == id(y))"
   ]
  },
  {
   "cell_type": "code",
   "execution_count": 11,
   "id": "loving-lounge",
   "metadata": {},
   "outputs": [
    {
     "name": "stdout",
     "output_type": "stream",
     "text": [
      "True\n",
      "True\n"
     ]
    }
   ],
   "source": [
    "# aqui x e y são o mesmo \n",
    "x = [1, 2, 3]\n",
    "y = x\n",
    "print(x == y)\n",
    "print( x is y)"
   ]
  },
  {
   "cell_type": "markdown",
   "id": "proud-campbell",
   "metadata": {},
   "source": [
    "## operadores boleanos"
   ]
  },
  {
   "cell_type": "code",
   "execution_count": 72,
   "id": "specific-render",
   "metadata": {},
   "outputs": [],
   "source": [
    "# and\n",
    "# or - basta que uma delas seja true para que tudo seja true\n",
    "# not "
   ]
  },
  {
   "cell_type": "code",
   "execution_count": 80,
   "id": "united-absorption",
   "metadata": {},
   "outputs": [
    {
     "name": "stdout",
     "output_type": "stream",
     "text": [
      "welcome\n"
     ]
    }
   ],
   "source": [
    "user = 'admin'\n",
    "loggin = False\n",
    "if user == 'admin' or loggin:\n",
    "    print('welcome')\n",
    "else:\n",
    "    print('you are not logged in yet')"
   ]
  },
  {
   "cell_type": "code",
   "execution_count": 76,
   "id": "greek-fountain",
   "metadata": {},
   "outputs": [
    {
     "name": "stdout",
     "output_type": "stream",
     "text": [
      "you are not logged in yet\n"
     ]
    }
   ],
   "source": [
    "user = 'admin'\n",
    "loggin = False\n",
    "if user == 'admin' and loggin:\n",
    "    print('welcome')\n",
    "else:\n",
    "    print('you are not logged in yet')"
   ]
  },
  {
   "cell_type": "markdown",
   "id": "robust-france",
   "metadata": {},
   "source": [
    "## any() or"
   ]
  },
  {
   "cell_type": "code",
   "execution_count": 84,
   "id": "wrong-owner",
   "metadata": {},
   "outputs": [
    {
     "name": "stdout",
     "output_type": "stream",
     "text": [
      "it exists\n",
      "it exists\n"
     ]
    }
   ],
   "source": [
    "first_name= 'ana'\n",
    "second_name = ''\n",
    "third_name = ''\n",
    "fourth_name = ''\n",
    "\n",
    "if first_name or second_name or third_name or fourth_name:\n",
    "        print('it exists')\n",
    "        \n",
    "names = [first_name, second_name, third_name, fourth_name]\n",
    "if any(names):\n",
    "    print('it exists')"
   ]
  },
  {
   "cell_type": "markdown",
   "id": "false-nevada",
   "metadata": {},
   "source": [
    "## all () and"
   ]
  },
  {
   "cell_type": "code",
   "execution_count": 13,
   "id": "identified-matthew",
   "metadata": {},
   "outputs": [
    {
     "name": "stdout",
     "output_type": "stream",
     "text": [
      "Not all names have values..\n",
      "Not all names have values..\n"
     ]
    }
   ],
   "source": [
    "first_name = 'Ana'\n",
    "second_name = 'Cristina'\n",
    "third_name = ''\n",
    "fourth_name = 'Pedro'\n",
    "\n",
    "# usando and\n",
    "if first_name != '' and second_name != '' and third_name != '' and fourth_name != '':\n",
    "    print('All names have values!')\n",
    "else:\n",
    "    print('Not all names have values..')\n",
    "\n",
    "# usando all()\n",
    "names = [first_name, second_name, third_name, fourth_name]\n",
    "if all(names):\n",
    "    print('All names have values!')\n",
    "else:\n",
    "    print('Not all names have values..')"
   ]
  },
  {
   "cell_type": "markdown",
   "id": "supreme-adobe",
   "metadata": {},
   "source": [
    "## valores falsos"
   ]
  },
  {
   "cell_type": "code",
   "execution_count": 86,
   "id": "particular-depth",
   "metadata": {},
   "outputs": [],
   "source": [
    "# valores falsos:\n",
    "# false\n",
    "# none\n",
    "# zero of any numeric\n",
    "# any empty sequence, for example '', (), [], {}"
   ]
  },
  {
   "cell_type": "code",
   "execution_count": 14,
   "id": "compressed-burns",
   "metadata": {},
   "outputs": [
    {
     "name": "stdout",
     "output_type": "stream",
     "text": [
      "Evaluated to False\n"
     ]
    }
   ],
   "source": [
    "# false\n",
    "condition = False\n",
    "if condition:\n",
    "    print('Evaluated to True')\n",
    "else:\n",
    "    print('Evaluated to False')"
   ]
  },
  {
   "cell_type": "code",
   "execution_count": 15,
   "id": "preliminary-course",
   "metadata": {},
   "outputs": [
    {
     "name": "stdout",
     "output_type": "stream",
     "text": [
      "Evaluated to False\n"
     ]
    }
   ],
   "source": [
    "# none\n",
    "condition = None\n",
    "if condition:\n",
    "    print('Evaluated to True')\n",
    "else:\n",
    "    print('Evaluated to False')"
   ]
  },
  {
   "cell_type": "code",
   "execution_count": 16,
   "id": "large-medicare",
   "metadata": {},
   "outputs": [
    {
     "name": "stdout",
     "output_type": "stream",
     "text": [
      "Evaluated to False\n"
     ]
    }
   ],
   "source": [
    "# zero \n",
    "condition = 0\n",
    "if condition:\n",
    "    print('Evaluated to True')\n",
    "else:\n",
    "    print('Evaluated to False')"
   ]
  },
  {
   "cell_type": "code",
   "execution_count": 17,
   "id": "ordered-pearl",
   "metadata": {},
   "outputs": [
    {
     "name": "stdout",
     "output_type": "stream",
     "text": [
      "Evaluated to False\n"
     ]
    }
   ],
   "source": [
    "# uma sequencia vazia\n",
    "condition = []\n",
    "if condition:\n",
    "    print('Evaluated to True')\n",
    "else:\n",
    "    print('Evaluated to False')"
   ]
  },
  {
   "cell_type": "markdown",
   "id": "mysterious-gross",
   "metadata": {},
   "source": [
    "## ciclos "
   ]
  },
  {
   "cell_type": "code",
   "execution_count": 87,
   "id": "wound-centre",
   "metadata": {},
   "outputs": [
    {
     "name": "stdout",
     "output_type": "stream",
     "text": [
      "historia\n",
      "matematica\n",
      "geografia\n"
     ]
    }
   ],
   "source": [
    "cursos = ['historia', 'matematica', 'geografia']\n",
    "for curso in cursos:\n",
    "    print(curso)"
   ]
  },
  {
   "cell_type": "code",
   "execution_count": 88,
   "id": "universal-corpus",
   "metadata": {},
   "outputs": [
    {
     "name": "stdout",
     "output_type": "stream",
     "text": [
      "0 historia\n",
      "1 matematica\n",
      "2 geografia\n"
     ]
    }
   ],
   "source": [
    "# saber o indice de cada curso\n",
    "for i, curso in enumerate(cursos):\n",
    "    print(i, curso)"
   ]
  },
  {
   "cell_type": "code",
   "execution_count": 89,
   "id": "contained-ratio",
   "metadata": {},
   "outputs": [
    {
     "name": "stdout",
     "output_type": "stream",
     "text": [
      "1 historia\n",
      "2 matematica\n",
      "3 geografia\n"
     ]
    }
   ],
   "source": [
    "# começar em 1 \n",
    "for key, value in enumerate(cursos, start = 1):\n",
    "    print(key, value)"
   ]
  },
  {
   "cell_type": "code",
   "execution_count": 97,
   "id": "interim-seminar",
   "metadata": {},
   "outputs": [
    {
     "name": "stdout",
     "output_type": "stream",
     "text": [
      "dict_items([('name', 'mary'), ('age', 23), ('cursos', ['matematica', 'historia', 'geografia']), ('phone', 123355)])\n",
      "------------------------------------------------------------------------------------------\n",
      "name mary\n",
      "age 23\n",
      "cursos ['matematica', 'historia', 'geografia']\n",
      "phone 123355\n"
     ]
    }
   ],
   "source": [
    "# isto é uma tuple. dentro da tuple tem duas strings\n",
    "student = {'name': 'mary', 'age': 23, 'cursos': ['matematica', 'historia', 'geografia'], 'phone': 123355}\n",
    "print(student.items())\n",
    "print('-' * 90)\n",
    "for key,value in student.items():\n",
    "    print(key, value)"
   ]
  },
  {
   "cell_type": "markdown",
   "id": "formed-whale",
   "metadata": {},
   "source": [
    "## break e continue"
   ]
  },
  {
   "cell_type": "code",
   "execution_count": 100,
   "id": "liquid-maple",
   "metadata": {},
   "outputs": [
    {
     "name": "stdout",
     "output_type": "stream",
     "text": [
      "historia\n",
      "mat\n",
      " geografia\n",
      "design\n"
     ]
    }
   ],
   "source": [
    "# break serve para parar a execução do loop\n",
    "# quando chegar a geografia faz break\n",
    "cursos =['historia', 'mat', ' geografia', 'design']\n",
    "for curso in cursos:\n",
    "    if curso == 'geografia':\n",
    "        print(curso)\n",
    "        break\n",
    "    else:\n",
    "        print(curso)"
   ]
  },
  {
   "cell_type": "code",
   "execution_count": 101,
   "id": "taken-corporation",
   "metadata": {},
   "outputs": [
    {
     "name": "stdout",
     "output_type": "stream",
     "text": [
      "historia\n",
      " ignoring math...\n",
      " geografia\n",
      "design\n"
     ]
    }
   ],
   "source": [
    "# chega a mat e irá fazer print e vai continuar a executar\n",
    "cursos =['historia', 'mat', ' geografia', 'design']\n",
    "for curso in cursos:\n",
    "    if curso == 'mat':\n",
    "        print(' ignoring math...')\n",
    "        continue\n",
    "    else:\n",
    "        print(curso)"
   ]
  },
  {
   "cell_type": "markdown",
   "id": "renewable-batman",
   "metadata": {},
   "source": [
    "## inner loops"
   ]
  },
  {
   "cell_type": "code",
   "execution_count": null,
   "id": "mental-lloyd",
   "metadata": {},
   "outputs": [],
   "source": [
    "# json é uma lista de dicionarios"
   ]
  },
  {
   "cell_type": "code",
   "execution_count": null,
   "id": "ethical-product",
   "metadata": {},
   "outputs": [],
   "source": [
    "json = [\n",
    "    {\n",
    "      \"id\": \"file\",\n",
    "      \"popup\": [\n",
    "          {\"option\": \"New\"},\n",
    "          {\"option\": \"Open\"},\n",
    "          {\"option\": \"Close\"}\n",
    "      ]\n",
    "    },\n",
    "    {\n",
    "      \"id\": \"link\",\n",
    "      \"popup\": [\n",
    "          {\"option\": \"Create\"},\n",
    "          {\"option\": \"Change\"},\n",
    "          {\"option\": \"Remove\"}\n",
    "      ]\n",
    "    }\n",
    "]\n",
    "\n",
    "for menu in json: # will iterate 2 times\n",
    "    print(f'Entering menu with id: {menu[\"id\"]}')\n",
    "    # And then loop each value inside the 'popup' list\n",
    "    for item in menu['popup']: # will iterate 3 times\n",
    "        print(f'Command: {item[\"option\"]}')\n",
    "    print('-' * 30)"
   ]
  },
  {
   "cell_type": "markdown",
   "id": "blond-register",
   "metadata": {},
   "source": [
    "## while loops"
   ]
  },
  {
   "cell_type": "code",
   "execution_count": 103,
   "id": "hispanic-malpractice",
   "metadata": {},
   "outputs": [
    {
     "name": "stdout",
     "output_type": "stream",
     "text": [
      "0\n",
      "1\n",
      "2\n",
      "3\n",
      "4\n",
      "5\n",
      "6\n",
      "7\n",
      "8\n",
      "9\n"
     ]
    }
   ],
   "source": [
    "#while loops\n",
    "x = 0\n",
    "while x < 10:\n",
    "    print(x)\n",
    "# se nao puser isto, torna-se um ciclo infinito\n",
    "    x += 1"
   ]
  },
  {
   "cell_type": "markdown",
   "id": "human-journalist",
   "metadata": {},
   "source": [
    "## else clause on loops"
   ]
  },
  {
   "cell_type": "code",
   "execution_count": 18,
   "id": "negative-tragedy",
   "metadata": {},
   "outputs": [
    {
     "name": "stdout",
     "output_type": "stream",
     "text": [
      "Location of target is index: 0\n"
     ]
    }
   ],
   "source": [
    "def find_index(to_search, target):\n",
    "    for i, value in enumerate(to_search):\n",
    "        if value == target:\n",
    "            break\n",
    "    else:\n",
    "        return 'Not Found'\n",
    "    return i\n",
    "\n",
    "\n",
    "my_list = ['Paul', 'Richard', 'John']\n",
    "index_location = find_index(my_list, 'Paul')\n",
    "\n",
    "print('Location of target is index: {}'.format(index_location))"
   ]
  },
  {
   "cell_type": "code",
   "execution_count": 19,
   "id": "damaged-conversion",
   "metadata": {},
   "outputs": [
    {
     "name": "stdout",
     "output_type": "stream",
     "text": [
      "Location of target is index: Not Found\n"
     ]
    }
   ],
   "source": [
    "index_location = find_index(my_list, 'Joe')\n",
    "\n",
    "print('Location of target is index: {}'.format(index_location))"
   ]
  },
  {
   "cell_type": "markdown",
   "id": "light-seeking",
   "metadata": {},
   "source": [
    "## exercicio 3 - loops"
   ]
  },
  {
   "cell_type": "code",
   "execution_count": 111,
   "id": "adopted-rehabilitation",
   "metadata": {},
   "outputs": [],
   "source": [
    "names = ['Ricardo', 'Ana', 'Rita', 'António', 'Sebastião', 'Carolina', 'José', 'Sérgio', 'anabela']\n"
   ]
  },
  {
   "cell_type": "code",
   "execution_count": 116,
   "id": "golden-tournament",
   "metadata": {},
   "outputs": [
    {
     "name": "stdout",
     "output_type": "stream",
     "text": [
      "Ana\n",
      "António\n",
      "anabela\n"
     ]
    }
   ],
   "source": [
    "for i in names:\n",
    "    if i[0] == 'A' or i[0] == 'a':\n",
    "        print(i)"
   ]
  }
 ],
 "metadata": {
  "kernelspec": {
   "display_name": "Python 3",
   "language": "python",
   "name": "python3"
  },
  "language_info": {
   "codemirror_mode": {
    "name": "ipython",
    "version": 3
   },
   "file_extension": ".py",
   "mimetype": "text/x-python",
   "name": "python",
   "nbconvert_exporter": "python",
   "pygments_lexer": "ipython3",
   "version": "3.8.8"
  }
 },
 "nbformat": 4,
 "nbformat_minor": 5
}
