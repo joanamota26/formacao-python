{
 "cells": [
  {
   "cell_type": "markdown",
   "id": "impressive-effort",
   "metadata": {},
   "source": [
    "# Aula 6"
   ]
  },
  {
   "cell_type": "markdown",
   "id": "religious-sample",
   "metadata": {},
   "source": [
    "## List Comprehensions"
   ]
  },
  {
   "cell_type": "code",
   "execution_count": 1,
   "id": "damaged-stadium",
   "metadata": {},
   "outputs": [
    {
     "name": "stdout",
     "output_type": "stream",
     "text": [
      "[1, 2, 3, 4, 5, 6, 7, 8, 9, 10]\n",
      "[1, 2, 3, 4, 5, 6, 7, 8, 9, 10]\n"
     ]
    }
   ],
   "source": [
    "nums = [1,2,3,4,5,6,7,8,9,10]\n",
    "\n",
    "# estamos basicamente a copiar uma lista para outra lista\n",
    "# Eu quero 'n' para cada 'n' de números\n",
    "my_list = []\n",
    "for n in nums:\n",
    "    my_list.append(n)\n",
    "print(my_list)\n",
    "\n",
    "# n cada vez que n apareça na lista nums\n",
    "print([n for n in nums])"
   ]
  },
  {
   "cell_type": "code",
   "execution_count": null,
   "id": "abroad-geometry",
   "metadata": {},
   "outputs": [],
   "source": [
    "# Quero realizar um cálculo em cada número e devolvê-lo à nova lista\n",
    "# Eu quero 'n * n' para cada 'n' de números\n",
    "my_list = []\n",
    "for n in nums:\n",
    "    my_list.append(n*n)\n",
    "print(my_list)\n",
    "\n",
    "#Usando a map + lambda\n",
    "#my_list_2 = map(lambda n: n*n, nums)\n",
    "#print(list(my_list_2))\n",
    "\n",
    "print([n*n for n in nums])"
   ]
  },
  {
   "cell_type": "code",
   "execution_count": null,
   "id": "considerable-lease",
   "metadata": {},
   "outputs": [],
   "source": [
    "# Eu quero 'n' para cada 'n' em nums se 'n' for par\n",
    "my_list = []\n",
    "for n in nums:\n",
    "    if n % 2 == 0:\n",
    "        my_list.append(n)\n",
    "print(my_list)\n",
    "\n",
    "print([n for n in nums if n % 2 == 0])"
   ]
  },
  {
   "cell_type": "code",
   "execution_count": null,
   "id": "mental-abraham",
   "metadata": {},
   "outputs": [],
   "source": [
    "# Eu quero um par (letra, num) para cada letra em 'abcd' e cada número em '0123'\n",
    "my_list = []\n",
    "for letter in 'abcd':\n",
    "    for num in range(4):\n",
    "        my_list.append((letter,num))\n",
    "print(my_list)\n",
    "\n",
    "print([(letter, num) for letter in 'abcd' for num in range(4)])"
   ]
  },
  {
   "cell_type": "markdown",
   "id": "western-discovery",
   "metadata": {},
   "source": [
    "# dicionario das compreensoes"
   ]
  },
  {
   "cell_type": "code",
   "execution_count": null,
   "id": "geological-approach",
   "metadata": {},
   "outputs": [],
   "source": [
    "names = ['Bruce', 'Clark', 'Peter', 'Logan', 'Wade']\n",
    "heros = ['Batman', 'Superman', 'Spiderman', 'Wolverine', 'Deadpool']\n",
    "\n",
    "#zip (): zip junta duas listas com o mesmo comprimento em uma nova lista de tuplas\n",
    "# cada tupla corresponde ao mesmo índice em ambas as listas.\n",
    "\n",
    "x = zip(names, heros)\n",
    "print(x)\n",
    "list(x)"
   ]
  },
  {
   "cell_type": "code",
   "execution_count": null,
   "id": "ultimate-doubt",
   "metadata": {},
   "outputs": [],
   "source": [
    "# Eu quero um dict {'name': 'hero'} para cada nome, hero in zip (names, heros)\n",
    "\n",
    "my_dict = {}\n",
    "for name, hero in zip(names, heros):\n",
    "    my_dict[name] = hero\n",
    "print(my_dict)\n",
    "\n",
    "print({name: hero for name, hero in zip(names, heros)})"
   ]
  },
  {
   "cell_type": "code",
   "execution_count": null,
   "id": "cardiovascular-appendix",
   "metadata": {},
   "outputs": [],
   "source": [
    "# Eu quero um dict {'name': 'hero'} para cada nome, hero in zip (names, heros)\n",
    "# apenas se o nome não for igual a Peter\n",
    "\n",
    "my_dict = {}\n",
    "for name, hero in zip(names, heros):\n",
    "    if name != 'Peter':\n",
    "        my_dict[name] = hero\n",
    "print(my_dict)\n",
    "\n",
    "print({name: hero for name, hero in zip(names, heros) if name != 'Peter'})"
   ]
  },
  {
   "cell_type": "markdown",
   "id": "simple-nicaragua",
   "metadata": {},
   "source": [
    "Se precisarmos de compactar duas listas com comprimentos diferentes, usa-se zip_longest:"
   ]
  },
  {
   "cell_type": "code",
   "execution_count": null,
   "id": "golden-square",
   "metadata": {},
   "outputs": [],
   "source": [
    "from itertools import zip_longest\n",
    "\n",
    "names = ['Bruce', 'Clark', 'Peter', 'Logan', 'Wade']\n",
    "heros = ['Batman', 'Superman', 'Spiderman']\n",
    "\n",
    "zipped = list(zip_longest(names, heros, fillvalue=\"Unknown\")) # use the fillvalue parameter to add your custom default value. The default is None.\n",
    "zipped"
   ]
  },
  {
   "cell_type": "markdown",
   "id": "coastal-worth",
   "metadata": {},
   "source": [
    "# definir compreensões"
   ]
  },
  {
   "cell_type": "code",
   "execution_count": null,
   "id": "static-netherlands",
   "metadata": {},
   "outputs": [],
   "source": [
    "nums = [1,1,2,1,3,4,3,4,5,5,6,7,8,7,9,9]\n",
    "# desejo remover todas as duplicatas da minha lista de números\n",
    "\n",
    "my_set = set()\n",
    "for n in nums:\n",
    "    my_set.add(n)\n",
    "\n",
    "print(my_set)\n",
    "\n",
    "\n",
    "print({n for n in nums})\n",
    "\n",
    "# remover duplicadas\n",
    "print(set(nums))"
   ]
  }
 ],
 "metadata": {
  "kernelspec": {
   "display_name": "Python 3",
   "language": "python",
   "name": "python3"
  },
  "language_info": {
   "codemirror_mode": {
    "name": "ipython",
    "version": 3
   },
   "file_extension": ".py",
   "mimetype": "text/x-python",
   "name": "python",
   "nbconvert_exporter": "python",
   "pygments_lexer": "ipython3",
   "version": "3.8.8"
  }
 },
 "nbformat": 4,
 "nbformat_minor": 5
}
