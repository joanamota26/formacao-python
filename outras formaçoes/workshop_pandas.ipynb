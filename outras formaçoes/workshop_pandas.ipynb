{
 "cells": [
  {
   "cell_type": "code",
   "execution_count": 1,
   "id": "f06361cc",
   "metadata": {},
   "outputs": [],
   "source": [
    "import pandas as pd"
   ]
  },
  {
   "cell_type": "code",
   "execution_count": null,
   "id": "d91312ff",
   "metadata": {},
   "outputs": [],
   "source": [
    "#csv - os dados estao separados por virgulas\n",
    "\n"
   ]
  },
  {
   "cell_type": "code",
   "execution_count": null,
   "id": "40a3507e",
   "metadata": {},
   "outputs": [],
   "source": [
    "# aceder a uma tabela\n",
    "students_df[['number', 'course']]"
   ]
  },
  {
   "cell_type": "code",
   "execution_count": null,
   "id": "53ce65ce",
   "metadata": {},
   "outputs": [],
   "source": [
    "#loc - baseado em rotulos\n",
    "students_df.loc[[0,1], 'course']\n",
    " "
   ]
  },
  {
   "cell_type": "code",
   "execution_count": null,
   "id": "cb33e8dd",
   "metadata": {},
   "outputs": [],
   "source": [
    "#iloc\n",
    "students_df.iloc[[0,2]; [1,2]]"
   ]
  },
  {
   "cell_type": "code",
   "execution_count": null,
   "id": "e1158286",
   "metadata": {},
   "outputs": [],
   "source": [
    "questions.loc['', 'question']"
   ]
  },
  {
   "cell_type": "code",
   "execution_count": null,
   "id": "6f1f5dea",
   "metadata": {},
   "outputs": [],
   "source": [
    "#filtros\n",
    "filt + "
   ]
  }
 ],
 "metadata": {
  "kernelspec": {
   "display_name": "Python 3",
   "language": "python",
   "name": "python3"
  },
  "language_info": {
   "codemirror_mode": {
    "name": "ipython",
    "version": 3
   },
   "file_extension": ".py",
   "mimetype": "text/x-python",
   "name": "python",
   "nbconvert_exporter": "python",
   "pygments_lexer": "ipython3",
   "version": "3.8.8"
  }
 },
 "nbformat": 4,
 "nbformat_minor": 5
}
